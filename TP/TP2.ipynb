{
 "cells": [
  {
   "cell_type": "markdown",
   "id": "f5b10767-a66e-4e7b-9d74-9c34f05a80ff",
   "metadata": {},
   "source": [
    "# TP2 - Images avec matplotlib\n",
    "\n",
    "## Tableaux 2D et images"
   ]
  },
  {
   "cell_type": "markdown",
   "id": "b2d39734-811d-4226-81d8-f0cda407dca6",
   "metadata": {},
   "source": [
    "<img src=\"figure/space_invaders.png\">"
   ]
  },
  {
   "cell_type": "markdown",
   "id": "325410bb-a1c7-43da-a0da-160cef80bb3c",
   "metadata": {},
   "source": [
    "Créer une matrice avec numpy (8 x 11) représentant la moitié gauche de l'image. Et utiliser la fonction `imshow()`de `matplotlib.pyplot`pour afficher cette matrice."
   ]
  },
  {
   "cell_type": "code",
   "execution_count": null,
   "id": "bcdc259b-80b4-47e9-ac1f-bf1d1a85a66d",
   "metadata": {},
   "outputs": [],
   "source": []
  },
  {
   "cell_type": "markdown",
   "id": "098f6729-6d1b-45fc-a465-f18fb97b662c",
   "metadata": {},
   "source": [
    "Créer l'autre moitié, par symétrie, avec 2 boucles for imbriquées."
   ]
  },
  {
   "cell_type": "code",
   "execution_count": null,
   "id": "39cbf4fa-7ed3-480e-a006-b77aa99d03e0",
   "metadata": {},
   "outputs": [],
   "source": []
  },
  {
   "cell_type": "markdown",
   "id": "d980dd9e-99e5-44f7-b688-096dccb52660",
   "metadata": {},
   "source": [
    "## Dessiner avec des matrices\n",
    "\n",
    "<div style=\"background-color:#cff; padding:1em 2em; border:1px solid #333\">\n",
    "<p>Dans tous les exercices qui suivent, vous commencez par créer une matrice <em>Numpy</em> de 100 lignes par 100 colonnes contenant des zéros qui correspondront aux parties sombres de l'image.</p>\n",
    "\n",
    "<p>Vous modifiez ensuite certaines \"cases\" de zéro à un de la matrice pour obtenir les parties claires.</p>\n",
    "</div>\n",
    "\n",
    "### Exemple"
   ]
  },
  {
   "cell_type": "code",
   "execution_count": 1,
   "id": "f746d19e-c106-46e0-aace-762196d302f2",
   "metadata": {},
   "outputs": [
    {
     "data": {
      "text/plain": [
       "<matplotlib.image.AxesImage at 0x113651820>"
      ]
     },
     "execution_count": 1,
     "metadata": {},
     "output_type": "execute_result"
    },
    {
     "data": {
      "image/png": "[encoded data removed]",
      "text/plain": [
       "<Figure size 640x480 with 1 Axes>"
      ]
     },
     "metadata": {},
     "output_type": "display_data"
    }
   ],
   "source": [
    "import numpy as np\n",
    "import matplotlib.pyplot as plt\n",
    "\n",
    "image = np.zeros((100,100)) #parties sombres\n",
    "plt.imshow(image)"
   ]
  },
  {
   "cell_type": "code",
   "execution_count": 2,
   "id": "dc5d0f4d-68d6-48cf-904b-a59554b9db13",
   "metadata": {},
   "outputs": [
    {
     "data": {
      "text/plain": [
       "<matplotlib.image.AxesImage at 0x113750fb0>"
      ]
     },
     "execution_count": 2,
     "metadata": {},
     "output_type": "execute_result"
    },
    {
     "data": {
      "image/png": "[encoded data removed]",
      "text/plain": [
       "<Figure size 640x480 with 1 Axes>"
      ]
     },
     "metadata": {},
     "output_type": "display_data"
    }
   ],
   "source": [
    "for i in range(100): \n",
    "    for j in range(100):\n",
    "        if i==j:\n",
    "            image[i,j]=1 #parties claires\n",
    "plt.imshow(image)"
   ]
  },
  {
   "cell_type": "markdown",
   "id": "e474e64d-beea-4885-bd97-df847236c860",
   "metadata": {},
   "source": [
    "## Exercice\n",
    "\n",
    "Reproduire les figures suivantes :\n",
    "\n",
    "<img src=\"figure/TP2_exo1.png\">"
   ]
  },
  {
   "cell_type": "code",
   "execution_count": null,
   "id": "3d724b29-7c38-4e0c-9d57-5b127f232c72",
   "metadata": {},
   "outputs": [],
   "source": []
  },
  {
   "cell_type": "markdown",
   "id": "93fd19b5-cc14-44e4-b6b0-255592cf833c",
   "metadata": {},
   "source": [
    "<img src=\"figure/TP2_exo3.png\">"
   ]
  },
  {
   "cell_type": "code",
   "execution_count": null,
   "id": "f76e0e38-4d4c-4091-b6bf-5facd536ce06",
   "metadata": {},
   "outputs": [],
   "source": []
  },
  {
   "cell_type": "markdown",
   "id": "554522de-a978-43c4-905e-3e2b06985efa",
   "metadata": {},
   "source": [
    "<img src=\"figure/TP2_exo5.png\">"
   ]
  },
  {
   "cell_type": "code",
   "execution_count": null,
   "id": "6177091b-792f-43a2-bb55-619b6248acb6",
   "metadata": {},
   "outputs": [],
   "source": []
  },
  {
   "cell_type": "markdown",
   "id": "42b5b6fa-d37f-4c50-b575-a780d070f2bd",
   "metadata": {},
   "source": [
    "<img src=\"figure/TP2_exo6.png\">"
   ]
  },
  {
   "cell_type": "code",
   "execution_count": null,
   "id": "76636975-3af3-4ded-acce-b5a335394b6a",
   "metadata": {},
   "outputs": [],
   "source": []
  }
 ],
 "metadata": {
  "kernelspec": {
   "display_name": "Python 3 (ipykernel)",
   "language": "python",
   "name": "python3"
  },
  "language_info": {
   "codemirror_mode": {
    "name": "ipython",
    "version": 3
   },
   "file_extension": ".py",
   "mimetype": "text/x-python",
   "name": "python",
   "nbconvert_exporter": "python",
   "pygments_lexer": "ipython3",
   "version": "3.12.3"
  }
 },
 "nbformat": 4,
 "nbformat_minor": 5
}
