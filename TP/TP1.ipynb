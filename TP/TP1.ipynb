{
 "cells": [
  {
   "cell_type": "markdown",
   "id": "74f4af78-68a2-4f14-89ba-dd6ea8c9757c",
   "metadata": {},
   "source": [
    "# PYTH201 - TP1"
   ]
  },
  {
   "cell_type": "markdown",
   "id": "15f62419-62fe-4674-b9f0-dbdfac4f016e",
   "metadata": {},
   "source": [
    "## Objectifs\n",
    "L'objectif de ce TP est d'obtenir une représentation 3D d'un fichier au format obj, format utilisé entre autres pour les impressions 3D.\n",
    "\n",
    "Nous allons utiliser un fichier obj d'un xwing déjà converti en fichier csv.\n",
    "Pour ceux qui veulent voir un fichier obj, vous trouverez le fichier initial sur\n",
    "https://www.printables.com/fr/model/728276-t-70-x-wing-starfighter-star-wars-starship\n",
    "\n",
    "Le format obj est un format texte lisible par Jupyter.\n",
    "https://fr.wikipedia.org/wiki/Objet_3D_(format_de_fichier)"
   ]
  },
  {
   "cell_type": "markdown",
   "id": "5e984c5f-6ee5-4d18-95a2-c4b27ec40d3f",
   "metadata": {},
   "source": [
    "## Lecture du fichier\n",
    "\n",
    "**Commencer par dezipper le fichier xwing.zip**\n",
    "\n",
    "\n",
    "Ouvrir le fichier `xwing.csv` présent dans le répertoire `fichier` puis récupérer les données dans un dataframe."
   ]
  },
  {
   "cell_type": "code",
   "execution_count": null,
   "id": "d3f7c01c-a97a-475c-9e3e-42dd9e3fa71a",
   "metadata": {},
   "outputs": [],
   "source": [
    "\n"
   ]
  },
  {
   "cell_type": "markdown",
   "id": "6e49748d-9375-4af5-b109-076e547847a6",
   "metadata": {},
   "source": [
    "Extraire du dataframe toutes les lignes commençant pas \"v\" et les mettre dans un tableau numpy en éliminant les colonnes `Type` et `Objet` qui ne sera plus utile.\n",
    "\n",
    "Ces lignes correspondent à tous les points (vertices) qui constituent l'objet 3D."
   ]
  },
  {
   "cell_type": "code",
   "execution_count": null,
   "id": "180ca1e1-b390-414c-97f8-b566915ae7a7",
   "metadata": {},
   "outputs": [],
   "source": []
  },
  {
   "cell_type": "markdown",
   "id": "71fd1731-dc4e-4de4-ab78-4a1ff2a28865",
   "metadata": {},
   "source": [
    "## Affichage des points en 3D\n",
    "\n",
    "1) Ecrire un code qui dessine les points précédents en 3D. On pourra chercher sur internet comment faire."
   ]
  },
  {
   "cell_type": "code",
   "execution_count": null,
   "id": "1b819dbd-14c3-476a-a03d-5b47b372fe64",
   "metadata": {},
   "outputs": [],
   "source": []
  },
  {
   "cell_type": "markdown",
   "id": "acd20a15-5cf0-4f39-9878-70735046d5f4",
   "metadata": {},
   "source": [
    "2) Représenter la projection des points sur le plan $(x,z)$\n",
    "3) Faire de même sur le plan $(x,y)$"
   ]
  },
  {
   "cell_type": "code",
   "execution_count": null,
   "id": "4558a3ac-8ee4-49a3-9989-75ce14f62650",
   "metadata": {},
   "outputs": [],
   "source": []
  },
  {
   "cell_type": "markdown",
   "id": "ebab85c3-aae1-446a-9167-c4579d75ffb3",
   "metadata": {},
   "source": [
    "## Extraction des faces\n",
    "\n",
    "Extraire du fichier toutes les lignes commençant pas \"f\" (pour faces) et les mettre dans un tableau `numpy`.\n",
    "Ces lignes donnent toujours le numéros de 3 points, qui forment ensemble une face triangulaire (= polygône).\n",
    "\n",
    "*Il faudra s'arranger pour que le tableau numpy soit formé seulement de nombres entiers. \n",
    "Il faudra également décaler ces nombres de $-1$ pour éviter un souci de dépassement de tableau plus tard.*"
   ]
  },
  {
   "cell_type": "code",
   "execution_count": null,
   "id": "719e400e-2730-4719-8d6a-81f9e90137e0",
   "metadata": {},
   "outputs": [],
   "source": []
  },
  {
   "cell_type": "markdown",
   "id": "499b2924-1524-4fbe-ac50-0f11de74d5c2",
   "metadata": {},
   "source": [
    "## Affichage 3D des faces\n",
    "\n",
    "Utiliser `Poly3DCollection` pour afficher les polygones (mesh). Chercher sur internet comment utliser `Poly3DCollection`."
   ]
  },
  {
   "cell_type": "code",
   "execution_count": 167,
   "id": "846a2214-3e2e-46d2-a2ba-b6625b2163e3",
   "metadata": {},
   "outputs": [],
   "source": [
    "import matplotlib.pyplot as plt\n",
    "from mpl_toolkits.mplot3d.art3d import Poly3DCollection"
   ]
  },
  {
   "cell_type": "markdown",
   "id": "68cd0d33-ac9f-4c1f-9a34-0f06e2bcd7ad",
   "metadata": {},
   "source": [
    "## Translation et rotations \n",
    "\n",
    "Le résultat n'est pas très satisfaisant. \n",
    "Nous allons faire à la main une rotation des points pour rendre le résultat plus joli.\n",
    "\n",
    "1) Ecrire 3 fonctions de rotation (une selon $x$, une selon $y$, une selon $z$) ainsi qu'une fonction de translation.\n",
    "\n",
    "Pour information, la rotation autour de `x` s'écrit:\n",
    "\n",
    "\\begin{aligned}\n",
    "x' &= x \\\\\n",
    "y' &= \\cos(\\theta) \\cdot y - \\sin(\\theta) \\cdot z \\\\\n",
    "z' &= \\sin(\\theta) \\cdot y + \\cos(\\theta) \\cdot z\n",
    "\\end{aligned}\n"
   ]
  },
  {
   "cell_type": "code",
   "execution_count": null,
   "id": "bb33905d-60cc-400c-ba65-4a9d991cf920",
   "metadata": {},
   "outputs": [],
   "source": []
  },
  {
   "cell_type": "markdown",
   "id": "da319d04-3168-4182-bcca-37672ccbec69",
   "metadata": {},
   "source": [
    "2) Utiliser ces 4 fonctions sur chacun des points en effectuant dans l'ordre :\n",
    "- une translation $x=-380$, $y=-490$, $z=-80$\n",
    "- une rotation selon $z$, avec $\\theta=1.9\\,$rad\n",
    "- une rotation selon $y$, avec $\\theta=-0.5\\,$rad\n",
    "- une rotation selon $z$, avec $\\theta=-0.8\\,$rad\n",
    "\n",
    "3) Refaire le dessin en 3D"
   ]
  },
  {
   "cell_type": "code",
   "execution_count": null,
   "id": "01ffc929-bee1-4113-9441-7d958c95dd8f",
   "metadata": {},
   "outputs": [],
   "source": []
  },
  {
   "cell_type": "markdown",
   "id": "62828e6b-128f-43db-a166-ad362cbc2f64",
   "metadata": {},
   "source": [
    "4) Récupérer la colonne `objet`, et mettre une couleur différente pour chaque (sous)objet qui compose le xwing."
   ]
  },
  {
   "cell_type": "code",
   "execution_count": 169,
   "id": "23452280-085b-4ee5-b464-ee1e8ab3c51f",
   "metadata": {},
   "outputs": [],
   "source": [
    "#  On pourra utiliser les couleurs suivantes, même si ce n'est pas très joli.\n",
    "couleurs_rgb = [\n",
    "    (1.0, 0.0, 0.0),    # Rouge\n",
    "    (0.0, 1.0, 0.0),    # Vert\n",
    "    (0.0, 0.0, 1.0),    # Bleu\n",
    "    (1.0, 1.0, 0.0),    # Jaune\n",
    "    (0.0, 1.0, 1.0),    # Cyan\n",
    "    (1.0, 0.0, 1.0),    # Magenta\n",
    "    (1.0, 1.0, 1.0),    # Blanc\n",
    "    (0.0, 0.0, 0.0),    # Noir\n",
    "    (0.5, 0.5, 0.5),    # Gris\n",
    "    (1.0, 0.5, 0.0),    # Orange\n",
    "    (0.5, 0.0, 0.5),    # Violet\n",
    "    (1.0, 0.75, 0.80),  # Rose\n",
    "    (0.65, 0.16, 0.16), # Brun\n",
    "    (0.25, 0.88, 0.82), # Turquoise\n",
    "    (0.96, 0.65, 0.38), # Sable\n",
    "    (0.53, 0.81, 0.92), # Bleu Ciel\n",
    "    (0.13, 0.55, 0.13), # Vert Forêt\n",
    "    (0.69, 0.13, 0.13), # Rouge Foncé\n",
    "    (0.0, 0.0, 0.50),   # Bleu Marine\n",
    "    (1.0, 0.84, 0.0)    # Jaune Doré\n",
    "]"
   ]
  },
  {
   "cell_type": "code",
   "execution_count": null,
   "id": "e1a6bba2-74d0-4785-b791-e1fdead03d34",
   "metadata": {},
   "outputs": [],
   "source": []
  }
 ],
 "metadata": {
  "kernelspec": {
   "display_name": "Python 3 (ipykernel)",
   "language": "python",
   "name": "python3"
  },
  "language_info": {
   "codemirror_mode": {
    "name": "ipython",
    "version": 3
   },
   "file_extension": ".py",
   "mimetype": "text/x-python",
   "name": "python",
   "nbconvert_exporter": "python",
   "pygments_lexer": "ipython3",
   "version": "3.12.3"
  }
 },
 "nbformat": 4,
 "nbformat_minor": 5
}
