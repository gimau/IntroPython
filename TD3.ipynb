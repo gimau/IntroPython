{
 "cells": [
  {
   "cell_type": "markdown",
   "metadata": {},
   "source": [
    "# Les boucles\n",
    "\n",
    "Les boucles permettent de répéter plusieurs fois un ensemble d'opérations, de façon légèrement différente. C'est ce qui fait la puissance des programmes informatiques : ils ne se lassent pas de répéter une opération un million de fois.\n",
    "\n",
    "Imaginons que l'on veuille afficher les valeurs de $x^2$ pour $x=1, 2, 3 ... 10$. On pourrait écrire :"
   ]
  },
  {
   "cell_type": "code",
   "execution_count": 2,
   "metadata": {},
   "outputs": [
    {
     "name": "stdout",
     "output_type": "stream",
     "text": [
      "1^2 =  1\n",
      "2^2 =  4\n",
      "3^2 =  9\n",
      "4^2 =  16\n",
      "5^2 =  25\n",
      "6^2 =  36\n",
      "7^2 =  49\n",
      "8^2 =  64\n",
      "9^2 =  81\n",
      "10^2 =  100\n"
     ]
    }
   ],
   "source": [
    "print(\"1^2 = \",1*1)\n",
    "print(\"2^2 = \",2*2)\n",
    "print(\"3^2 = \",3*3)\n",
    "print(\"4^2 = \",4*4)\n",
    "print(\"5^2 = \",5*5)\n",
    "print(\"6^2 = \",6*6)\n",
    "print(\"7^2 = \",7*7)\n",
    "print(\"8^2 = \",8*8)\n",
    "print(\"9^2 = \",9*9)\n",
    "print(\"10^2 = \",10*10)"
   ]
  },
  {
   "cell_type": "markdown",
   "metadata": {},
   "source": [
    "Cela fait beaucoup de lignes de codes donc beaucoup de risque d'erreur. Et si je veux maintenant aller jusqu'à 1000, ce n'est pas très adapté.\n",
    "\n",
    "Si on regarde bien, on réalise en fait plusieurs fois la même opération en modifiant un paramètre. Dans ce cas, nous allons pouvoir utiliser les boucles. \n",
    "\n",
    "Il y a deux types de boucle : les boucles `while` et les boucles `for`.\n",
    "\n"
   ]
  },
  {
   "cell_type": "markdown",
   "metadata": {},
   "source": [
    "\n",
    "_____\n",
    "## La boucle `while`\n",
    "*On répètre un bloc **tant que** (`while`) une condition (au sens vu dans le TD précédent) est respectée.*\n",
    "\n",
    "Cela s'écrit de la façon suivante :\n",
    "\n",
    "    while condition :\n",
    "        instruction 1\n",
    "        instruction 2\n",
    "        instruction 3...\n",
    "        \n",
    "- Il est nécessaire d'avoir une condition qui finit par ne pas être satisfaite. Sinon la boucle ne s'arrête jamais.\n",
    "- Un des instructions au moins doit donc avoir un effet sur la condition et la faire passer à `False`\n",
    "- Les conditions peuvent être multiples.\n",
    "- Il est possible de répéter le bloc sans savoir à l'avance combien de fois on va le répéter.\n",
    "\n",
    "Programmons un simple compteur affichant les nombres de 0 à 9 :"
   ]
  },
  {
   "cell_type": "code",
   "execution_count": 3,
   "metadata": {},
   "outputs": [
    {
     "name": "stdout",
     "output_type": "stream",
     "text": [
      "0\n",
      "1\n",
      "2\n",
      "3\n",
      "4\n",
      "5\n",
      "6\n",
      "7\n",
      "8\n",
      "9\n"
     ]
    }
   ],
   "source": [
    "nb = 0    # initialisation du compteur\n",
    "\n",
    "while nb < 10 :    # condition : tant que nb est inférieur à 10\n",
    "    print(nb)      # on affiche la valeur de nb\n",
    "    nb = nb + 1    # on incrémente le compteur, et donc on modifie la condition qui \n",
    "                   # finira par ne plus être satisfaite   "
   ]
  },
  {
   "cell_type": "markdown",
   "metadata": {},
   "source": [
    "Cette boucle offre de nombreuses possibilités :\n",
    "- Si je veux compter jusqu'à 100, on modifie simplement la condition `nb < 100`\n",
    "- Si je veux compter de 2 en 2, on modifie l'avancée du compteur `nb = nb + 2`\n",
    "- Si je veux faire un compte à rebours, on initialise `nb = 10`, on modifie la condition `nb > 0` et l'incrémentation `nb = nb -1`\n"
   ]
  },
  {
   "cell_type": "markdown",
   "metadata": {},
   "source": [
    "### Exercice\n",
    "Sans l'exécuter, indiquer ce qu'affichera le programme suivant, dans lequel on a inversé les deux dernières lignes du programme précédent. Dans un second temps, exécuter le programme pour vérifier."
   ]
  },
  {
   "cell_type": "code",
   "execution_count": null,
   "metadata": {},
   "outputs": [],
   "source": [
    "nb = 0 \n",
    "\n",
    "while nb < 10 :\n",
    "    nb = nb + 1\n",
    "    print(nb) "
   ]
  },
  {
   "cell_type": "markdown",
   "metadata": {},
   "source": [
    "### Exercice : Erreur courante\n",
    "Une erreur que l'on commet souvent en débutant (voire plus tard) est d'oublier d'indenter ou de mal indenter. Exécuter le programme suivant, fortement inspiré du précédent et expliquer ce que vous obtenez en sortie."
   ]
  },
  {
   "cell_type": "code",
   "execution_count": 2,
   "metadata": {},
   "outputs": [
    {
     "name": "stdout",
     "output_type": "stream",
     "text": [
      "10\n"
     ]
    }
   ],
   "source": [
    "nb = 0\n",
    "\n",
    "while nb < 10 : \n",
    "    nb = nb + 1\n",
    "print(nb)"
   ]
  },
  {
   "cell_type": "markdown",
   "metadata": {},
   "source": [
    "### Exercice 1.0\n",
    " \n",
    "Sans l'exécuter, examiner le programme suivant et écrire de la façon la plus précise possible, sur un papier, ce qui sera affiché lorsqu'il sera exécuté. \n",
    "\n",
    "Dans un second temps, exécuter le programme pour vérifier votre prédiction"
   ]
  },
  {
   "cell_type": "code",
   "execution_count": null,
   "metadata": {},
   "outputs": [],
   "source": [
    "nb = 0\n",
    "\n",
    "while nb < 100 :    \n",
    "    print(nb)      \n",
    "    nb = nb**2 + 1"
   ]
  },
  {
   "cell_type": "markdown",
   "metadata": {},
   "source": [
    "### Exercice 1.1 :\n",
    "1) Écrire un programme qui écrit les carrés des 10 premiers entiers, avec une boucle `while`. L'éxécution du programme doit donner\n",
    "\n",
    "    1^2 =  1\n",
    "    2^2 =  4\n",
    "    3^2 =  9\n",
    "    4^2 =  16\n",
    "    5^2 =  25\n",
    "    6^2 =  36\n",
    "    7^2 =  49\n",
    "    8^2 =  64\n",
    "    9^2 =  81\n",
    "    10^2 =  100\n",
    "    \n",
    "On pourra s'inspirer fortement du programme donné en exemple pour introduire la boucle `while`."
   ]
  },
  {
   "cell_type": "code",
   "execution_count": null,
   "metadata": {},
   "outputs": [],
   "source": []
  },
  {
   "cell_type": "markdown",
   "metadata": {},
   "source": [
    "### Exercice 1.2 \n",
    "Ajouter la possibilité de choisir facilement le nombre de valeurs à afficher (de 1 à 100, de 1 à 1000...)."
   ]
  },
  {
   "cell_type": "code",
   "execution_count": null,
   "metadata": {},
   "outputs": [],
   "source": []
  },
  {
   "cell_type": "markdown",
   "metadata": {},
   "source": [
    "### Exercice 1.3\n",
    "Adapter ensuite ce code pour que l'on puisse facilement changer l'exposant (écrire les cubes ou les puissances quatrièmes des entiers successifs)"
   ]
  },
  {
   "cell_type": "code",
   "execution_count": null,
   "metadata": {},
   "outputs": [],
   "source": []
  },
  {
   "cell_type": "markdown",
   "metadata": {},
   "source": [
    "### La fonction `input()`\n",
    "\n",
    "Dans la suite, l'utilisateur va devoir entrer un nombre. Ceci est réalisé par la commande `input`. "
   ]
  },
  {
   "cell_type": "code",
   "execution_count": null,
   "metadata": {},
   "outputs": [],
   "source": [
    "choix = input(\"Entrer un nombre : \")\n",
    "print(\"Vous avez choisi : \", choix)"
   ]
  },
  {
   "cell_type": "markdown",
   "metadata": {},
   "source": [
    "Attention, elle renvoie la chaîne de caractères entrés par l'utilisateur (réessayez le code précédent en entrant un mot plutôt qu'un nombre) et si on veut accéder à une valeur numérique, il faut la convertir en un type numérique, un `int` ou un `float`, selon l'usage qu'on veut en faire."
   ]
  },
  {
   "cell_type": "code",
   "execution_count": null,
   "metadata": {},
   "outputs": [],
   "source": [
    "choix = input(\"Entrer un nombre : \")\n",
    "print(\"Vous avez choisi : \", float(choix))"
   ]
  },
  {
   "cell_type": "markdown",
   "metadata": {},
   "source": [
    "### Exemples de boucle `while` qui ne connait pas à l'avance le nombre de fois que la boucle va être exécutée\n",
    "Dans la boucle suivante, l'utilisateur va devoir entrer un nombre. Tant que ce nombre est négatif, l'ordinateur redemande à l'utilisateur de rentrer un nombre. A vous d'essayer."
   ]
  },
  {
   "cell_type": "code",
   "execution_count": null,
   "metadata": {},
   "outputs": [],
   "source": [
    "valeur = -1\n",
    "while valeur < 0 :\n",
    "    valeur = float(input(\"Entrez un nombre positif : \"))\n",
    "print(\"Merci\")"
   ]
  },
  {
   "cell_type": "markdown",
   "metadata": {},
   "source": [
    "L'exemple suivant montre une boucle potentiellement éternelle, la condition n'étant jamais fausse. Pour sortir de la boucle, il est alors possible d'utiliser la commande `break`."
   ]
  },
  {
   "cell_type": "code",
   "execution_count": null,
   "metadata": {},
   "outputs": [],
   "source": [
    "while True :\n",
    "    valeur = input(\"Pour quitter, entrez Q :\")\n",
    "    if (valeur == \"Q\") :\n",
    "        break"
   ]
  },
  {
   "cell_type": "markdown",
   "metadata": {},
   "source": [
    "______\n",
    "\n",
    "\n",
    "## La boucle `for`\n",
    "\n",
    "L'autre structure permettant de faire des opérations répétitives est la boucle `for`: on répète un bloc d'instruction **en parcourant une liste**. \n",
    "\n",
    "Cela s'écrit de la façon suivante :\n",
    "\n",
    "    for element in liste :\n",
    "        instruction 1\n",
    "        instruction 2\n",
    "        instruction 3....\n",
    "\n",
    "Dans cette boucle `for`, la variable `element` va prendre tour à tour toutes les valeurs de la variable `liste`. Et à chaque fois, les instructions vont être exécutées.\n",
    "\n",
    "**Mais attendez, nous n'avons pas encore vu ce qu'était une liste !!!!** \n",
    "\n",
    "*Pour commencer, en voici trois types. Mais nous en rencontrerons de nouveaux au fur et à mesure du cours.*\n",
    "\n",
    "### Les listes - Simples (`[]`):\n",
    "\n",
    "Pour fabriquer une liste en python, c'est très simple. Il suffit de mettre les éléments de la liste entre crochets `[]` et de séparer les éléments avec une virgule `,`. Voici un exemple :\n",
    "\n",
    "    liste = [1,\"lundi\",0.45]\n",
    "    \n",
    "- Il est possible de mélanger les types dans une liste, mais attention à ce que vous ferez après. Ici nous avons un `int`, un `str` entre `\"`et un `float`.\n",
    "\n",
    "L'exemple suivant présente l'utilisation de la boucle `for` avec la liste précédente :"
   ]
  },
  {
   "cell_type": "code",
   "execution_count": null,
   "metadata": {},
   "outputs": [],
   "source": [
    "liste = [1,\"lundi\",0.45]\n",
    "\n",
    "for element in liste :\n",
    "    print(\"La variable element vaut : \", element)"
   ]
  },
  {
   "cell_type": "markdown",
   "metadata": {},
   "source": [
    "Dans cet exemple, la variable `element` prend tour à tour la valeur `1` puis `\"lundi\"` puis `0.45`. A chaque fois, l'ensemble des instructions est exécuté."
   ]
  },
  {
   "cell_type": "markdown",
   "metadata": {},
   "source": [
    "### Exercice 1.4\n",
    "Créer une liste contenant les entiers de 0 à 9 et créer une boucle qui les affiche un par un"
   ]
  },
  {
   "cell_type": "code",
   "execution_count": null,
   "metadata": {},
   "outputs": [],
   "source": []
  },
  {
   "cell_type": "markdown",
   "metadata": {},
   "source": [
    "### Exercice 1.5\n",
    "Écrire un programme qui écrit les carrés des 10 premiers entiers, avec une boucle `for`. L'éxécution du programme doit donner\n",
    "\n",
    "    1^2 =  1\n",
    "    2^2 =  4\n",
    "    3^2 =  9\n",
    "    4^2 =  16\n",
    "    5^2 =  25\n",
    "    6^2 =  36\n",
    "    7^2 =  49\n",
    "    8^2 =  64\n",
    "    9^2 =  81\n",
    "    10^2 =  100\n",
    "    \n",
    "On pourra s'inspirer fortement du programme précédent."
   ]
  },
  {
   "cell_type": "code",
   "execution_count": null,
   "metadata": {},
   "outputs": [],
   "source": []
  },
  {
   "cell_type": "markdown",
   "metadata": {},
   "source": [
    "### Les listes - Chaînes de caractères : `str`\n",
    "\n",
    "Les chaînes de caractères (`str`) sont des listes. Grâce à la boucle `for` nous pouvons parcourir tous les caractères qui composent une chaîne de caractères. Voyons un exemple, ce sera plus parlant :"
   ]
  },
  {
   "cell_type": "code",
   "execution_count": null,
   "metadata": {},
   "outputs": [],
   "source": [
    "phrase = \"\"\"Il fait 30°C.\"\"\"  \n",
    "\n",
    "for lettre in phrase : # grace à cette ligne, on parcourt toutes les lettres de la phrase les unes après les autres\n",
    "    print(\"La variable lettre vaut : \", lettre)"
   ]
  },
  {
   "cell_type": "markdown",
   "metadata": {},
   "source": [
    "### Les listes - Suites d'entier : fonction `range()`\n",
    "\n",
    "Nous avons eu besoin plus haut d'une suite d'entiers successifs, par exemple $0, 1, 2, 3, 4...$. Nous l'avons fait de façon manuelle :\n",
    "\n",
    "    suite = [0,1,2,3,4,5,6,7,8,9]"
   ]
  },
  {
   "cell_type": "code",
   "execution_count": null,
   "metadata": {},
   "outputs": [],
   "source": [
    "suite = [0,1,2,3,4,5,6,7,8,9]\n",
    "\n",
    "for entier in suite :\n",
    "    print(\"La variable entier vaut : \", entier)"
   ]
  },
  {
   "cell_type": "markdown",
   "metadata": {},
   "source": [
    "Mais si la liste devient très grande, ce n'est pas bien pratique. Python fournit la fonction `range()` qui permet de la générer automatiquement. Cela fonctionne de la façon suivante :\n",
    "\n",
    "    range(debut,fin)\n",
    "\n",
    "Une suite d'entier de 0 à 10 s'écrit ainsi : `range(0,10)`. \n",
    "\n",
    "La boucle `for` s'écrit alors :"
   ]
  },
  {
   "cell_type": "code",
   "execution_count": null,
   "metadata": {},
   "outputs": [],
   "source": [
    "suite = range(0,10)\n",
    "\n",
    "for entier in suite :\n",
    "    print(\"La variable entier vaut : \", entier)"
   ]
  },
  {
   "cell_type": "markdown",
   "metadata": {},
   "source": [
    "Il est également possible d'utiliser directement la fonction `range()` dans l'appel de la boucle `for`:"
   ]
  },
  {
   "cell_type": "code",
   "execution_count": null,
   "metadata": {},
   "outputs": [],
   "source": [
    "for entier in range(0,10) :\n",
    "    print(\"La variable entier vaut : \", entier)"
   ]
  },
  {
   "cell_type": "markdown",
   "metadata": {},
   "source": [
    "### Exercice 1.6 : Reprenons l'exemple initial :\n",
    "1) Reprendre l'exemple du début et remplacer ces 10 lignes par une boucle `for` équivalente. "
   ]
  },
  {
   "cell_type": "code",
   "execution_count": null,
   "metadata": {},
   "outputs": [],
   "source": [
    "print(\"1^2 = \",1*1)\n",
    "print(\"2^2 = \",2*2)\n",
    "print(\"3^2 = \",3*3)\n",
    "print(\"4^2 = \",4*4)\n",
    "print(\"5^2 = \",5*5)\n",
    "print(\"6^2 = \",6*6)\n",
    "print(\"7^2 = \",7*7)\n",
    "print(\"8^2 = \",8*8)\n",
    "print(\"9^2 = \",9*9)\n",
    "print(\"10^2 = \",10*10)"
   ]
  },
  {
   "cell_type": "markdown",
   "metadata": {},
   "source": [
    "**Vous savez tout ce dont nous aurons besoin sur les boucles `for`et `while`. N'oubliez pas que dans la boucle vous pouvez utiliser toutes les instructions que vous voulez. Par exemple, on peut mettre un `if` dans une boucle ou imbriquer plusieurs boucles. A vous de jouer.**"
   ]
  },
  {
   "cell_type": "markdown",
   "metadata": {},
   "source": [
    "## Accumulateurs\n",
    "Nous présentons ici une technique extrêmement utile et courante. Pour calculer la somme des entiers de 1 à 10, on peut utiliser une boucle `for`, en créant une variable `somme` initialisée à 0, à laquelle on ajoute chacun des éléments de la liste grâce à la boucle. À la fin, la variable `somme` contient le résultat cherché."
   ]
  },
  {
   "cell_type": "code",
   "execution_count": 2,
   "metadata": {},
   "outputs": [
    {
     "name": "stdout",
     "output_type": "stream",
     "text": [
      "55\n"
     ]
    }
   ],
   "source": [
    "liste = (1, 2, 3, 4, 5, 6, 7, 8, 9, 10)\n",
    "somme = 0\n",
    "for nombre in liste:\n",
    "    somme = somme + nombre\n",
    "print(somme)"
   ]
  },
  {
   "cell_type": "markdown",
   "metadata": {},
   "source": [
    "### Exercice 1.7\n",
    "Calculer la somme des carrés des nombres compris entre 1 et 10 ($1^2 + 2^2+3^3+4^2+5^5+6^2+7^2+8^2+9^2+10^2$), avec une boucle `for`, sur le modèle précédent."
   ]
  },
  {
   "cell_type": "code",
   "execution_count": null,
   "metadata": {},
   "outputs": [],
   "source": [
    "liste = (1, 2, 3, 4, 5, 6, 7, 8, 9, 10)"
   ]
  },
  {
   "cell_type": "markdown",
   "metadata": {},
   "source": [
    "# Exercices d'application\n",
    "\n",
    "### Exercice 2.1 : Notes de contrôle\n",
    "\n",
    "Lors d'un semestre, un lycéen a eu les notes suivantes : $10.5 ; 12.5 ; 19 ; 4.5 ; 10.5 ; 15 ; 8; 6.5 ; 14 ; 17 ; 13 ; 8.5 ; 12 ; 15,5 ; 2 ; 7 ; 10 ; 15.5 ; 20 ; 19,5 ; 1.5$\n",
    "\n",
    "1) Ecrire un code qui calcule la moyenne de ces notes. Pour votre confort, la liste est déjà fournie."
   ]
  },
  {
   "cell_type": "code",
   "execution_count": 1,
   "metadata": {},
   "outputs": [],
   "source": [
    "notes = [10.5, 12.5, 19, 4.5, 10.5, 15, 8, 6.5, 14, 17, 13, 8.5, 12,  15.5,  2, 7, 10, 15.5, 20, 19.5,  1.5]"
   ]
  },
  {
   "cell_type": "markdown",
   "metadata": {},
   "source": [
    "2) Modifiez ce code pour qu'il recherche en même temps la meilleure note que le lycéen a eu."
   ]
  },
  {
   "cell_type": "code",
   "execution_count": null,
   "metadata": {},
   "outputs": [],
   "source": []
  },
  {
   "cell_type": "markdown",
   "metadata": {},
   "source": [
    "3) Modifiez ce code pour qu'il compte en même temps combien de notes sont au dessus de la moyenne. "
   ]
  },
  {
   "cell_type": "code",
   "execution_count": null,
   "metadata": {},
   "outputs": [],
   "source": []
  },
  {
   "cell_type": "markdown",
   "metadata": {},
   "source": [
    "### Exercice 2.2  : Suite de Fibonacci\n",
    "*La suite de Fibonacci peut être considérée comme le tout premier modèle mathématique en dynamique des populations ! Elle décrit la croissance d’une population de lapins sous des hypothèses très simplifiées, à savoir : chaque couple de lapins, dès son troisième mois d’existence, engendre chaque mois un nouveau couple de lapins, et ce indéfiniment.*\n",
    "\n",
    "Mathématiquement, la suite $F_n$ s'écrit comme cela :\n",
    "\n",
    "<div align=\"center\">$ F_0 = 0$</div>\n",
    "<div align=\"center\">$ F_1 = 1$</div>\n",
    "<div align=\"center\">$ F_n = F_{n-1} + F_{n-2}$</div>\n",
    "\n",
    "Ecrire un code pour déterminer combien de mois (i.e. la valeur $n$) requis pour avoir plus de $100$ lapins."
   ]
  },
  {
   "cell_type": "code",
   "execution_count": null,
   "metadata": {},
   "outputs": [],
   "source": []
  },
  {
   "cell_type": "markdown",
   "metadata": {},
   "source": [
    "______\n",
    "### Exercice 2.3 : Nombres premiers\n",
    "\n",
    "**Nombre premier :** *nombre qui ne peut être divisé que par lui-même et par $1$.*\n",
    "\n",
    "Écrire un programme qui affiche les nombres premiers inférieurs à 1000."
   ]
  },
  {
   "cell_type": "code",
   "execution_count": null,
   "metadata": {},
   "outputs": [],
   "source": []
  }
 ],
 "metadata": {
  "kernelspec": {
   "display_name": "Python 3",
   "language": "python",
   "name": "python3"
  },
  "language_info": {
   "codemirror_mode": {
    "name": "ipython",
    "version": 3
   },
   "file_extension": ".py",
   "mimetype": "text/x-python",
   "name": "python",
   "nbconvert_exporter": "python",
   "pygments_lexer": "ipython3",
   "version": "3.6.7"
  }
 },
 "nbformat": 4,
 "nbformat_minor": 4
}
