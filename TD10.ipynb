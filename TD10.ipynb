{
 "cells": [
  {
   "cell_type": "markdown",
   "id": "7c187b9a-9f24-4b81-8c2f-54db5f97c04b",
   "metadata": {},
   "source": [
    "## Gérer les unités avec la librairie : `astropy`\n",
    "\n",
    "Dans un premier temps, chargeons la librairie `astropy.units` dans une variable `u`\n"
   ]
  },
  {
   "cell_type": "code",
   "execution_count": 40,
   "id": "4b794766-e47c-4b4b-8403-9f1582400803",
   "metadata": {},
   "outputs": [],
   "source": [
    "import astropy.units as u\n",
    "\n",
    "# nous aurons aussi besoin de `numpy`\n",
    "import numpy as np\n"
   ]
  },
  {
   "cell_type": "markdown",
   "id": "f1e3fabd-2b0f-4507-aa80-42cc44a2a69c",
   "metadata": {},
   "source": [
    "### Création de variable avec une unité\n",
    "\n",
    "Grace à cette librairie, il est possible de créér des variables en précisant l'unité. Pour cela il faut indiquer l'unité **en anglais** après la valeur numérique en piochant dans la librairie `astropy.units`. \n",
    "\n",
    "Vous y trouverez toutes les unités usuelles. Voici quelques exemples :"
   ]
  },
  {
   "cell_type": "code",
   "execution_count": 2,
   "id": "7d2d4ce7-110d-4d14-94c4-35d250a98217",
   "metadata": {},
   "outputs": [],
   "source": [
    "distance = 10 * u.km\n",
    "temps = 3 * u.minute"
   ]
  },
  {
   "cell_type": "markdown",
   "id": "25790fff-ea76-45f6-83e2-bf8b7cc38d13",
   "metadata": {},
   "source": [
    "On peut utiliser la fonction `print()`pour voir la valeur enregistrée :"
   ]
  },
  {
   "cell_type": "code",
   "execution_count": 3,
   "id": "6e2a19b7-99c5-4ebb-8c78-7d7debd2d856",
   "metadata": {},
   "outputs": [
    {
     "name": "stdout",
     "output_type": "stream",
     "text": [
      "10.0 km\n",
      "3.0 min\n"
     ]
    }
   ],
   "source": [
    "print(distance)\n",
    "print(temps)"
   ]
  },
  {
   "cell_type": "markdown",
   "id": "48955850-cb24-4245-b8dc-a4720129a43e",
   "metadata": {},
   "source": [
    "### Calculs avec des unités :\n",
    "Le plus fort est que l'on peut aussi faire des calculs, la librairie gère les convensions pour vous (même complexes) :"
   ]
  },
  {
   "cell_type": "code",
   "execution_count": 4,
   "id": "85d74c20-7910-4a18-bc6d-09695b8ec97b",
   "metadata": {},
   "outputs": [
    {
     "name": "stdout",
     "output_type": "stream",
     "text": [
      "1.02 m\n"
     ]
    }
   ],
   "source": [
    "# somme de deux unités différences :\n",
    "l1 = 1 * u.m\n",
    "l2 = 2 * u.cm\n",
    "l3 = l1 + l2\n",
    "print(l3)"
   ]
  },
  {
   "cell_type": "code",
   "execution_count": 38,
   "id": "9b59fc73-f13c-479e-bb31-c9eacfa2e635",
   "metadata": {},
   "outputs": [
    {
     "name": "stdout",
     "output_type": "stream",
     "text": [
      "0.9995193470098 J\n"
     ]
    }
   ],
   "source": [
    "# différence de deux unités différentes complexes\n",
    "En1 = 1 * u.joule\n",
    "En2 = 3000 * u.TeV # une unité d'énergie de physique des particules\n",
    "\n",
    "print(En1-En2)"
   ]
  },
  {
   "cell_type": "code",
   "execution_count": 39,
   "id": "a1db479e-6734-4e54-ba65-dec653596d4f",
   "metadata": {},
   "outputs": [
    {
     "name": "stdout",
     "output_type": "stream",
     "text": [
      "3.3333333333333335 km / min\n"
     ]
    }
   ],
   "source": [
    "distance = 10 * u.km\n",
    "temps = 3 * u.minute\n",
    "\n",
    "vitesse = distance / temps\n",
    "print(vitesse)"
   ]
  },
  {
   "cell_type": "markdown",
   "id": "deb4dab6-b8f6-4667-9092-318b19211b8b",
   "metadata": {},
   "source": [
    "**Encore plus fort**, la gestion des angles est automatique. Prenons un exemple :\n",
    "\n",
    "$$1^o = \\frac{\\pi}{180}\\,\\text{rad}$$\n",
    "\n",
    "donc :\n",
    "\n",
    "$$\\sin{(1^o)} = \\sin{\\left(\\frac{\\pi}{180}\\,\\text{rad}\\right)} = 0,01745240643728351$$\n",
    "\n",
    "On peut vérifier si cela fonctionne correctement :"
   ]
  },
  {
   "cell_type": "code",
   "execution_count": 41,
   "id": "f62583e3-3601-4c85-9e7e-d59dc0562420",
   "metadata": {},
   "outputs": [
    {
     "name": "stdout",
     "output_type": "stream",
     "text": [
      "0.01745240643728351 0.01745240643728351\n"
     ]
    }
   ],
   "source": [
    "deg = 1 * u.deg\n",
    "rad = np.pi / 180 * u.rad\n",
    "\n",
    "print(np.sin(deg),np.sin(rad))"
   ]
  },
  {
   "cell_type": "markdown",
   "id": "d3e89d37-ca15-4cce-ba84-850a5f6751cf",
   "metadata": {},
   "source": [
    "### Conversion d'unité\n",
    "\n",
    "Biensur, ce qui serait bien est de pourvoir faire des conversions d'unités. C'est possible, grâce à la méthode `.to()` qui peut être utilisée de deux façons : "
   ]
  },
  {
   "cell_type": "code",
   "execution_count": 7,
   "id": "56b6466e-25d6-4a4b-820f-b68827ad3698",
   "metadata": {},
   "outputs": [
    {
     "data": {
      "text/latex": [
       "$55.555556 \\; \\mathrm{\\frac{m}{s}}$"
      ],
      "text/plain": [
       "<Quantity 55.55555556 m / s>"
      ]
     },
     "execution_count": 7,
     "metadata": {},
     "output_type": "execute_result"
    }
   ],
   "source": [
    "vitesse.to(u.m/u.s)"
   ]
  },
  {
   "cell_type": "code",
   "execution_count": 8,
   "id": "465229bc-67bf-4f50-b46a-a37b65e36364",
   "metadata": {},
   "outputs": [
    {
     "data": {
      "text/latex": [
       "$55.555556 \\; \\mathrm{\\frac{m}{s}}$"
      ],
      "text/plain": [
       "<Quantity 55.55555556 m / s>"
      ]
     },
     "execution_count": 8,
     "metadata": {},
     "output_type": "execute_result"
    }
   ],
   "source": [
    "vitesse.to(\"m/s\")"
   ]
  },
  {
   "cell_type": "markdown",
   "id": "3dca03c4-e477-4370-b987-37d28125bac0",
   "metadata": {},
   "source": [
    "Naturellement si vous voulez que le changement soit définitif, vous devez ré-affecter la variable :"
   ]
  },
  {
   "cell_type": "code",
   "execution_count": 57,
   "id": "30bf9c24-fdb7-4f09-958c-fe09b03cfe22",
   "metadata": {},
   "outputs": [
    {
     "name": "stdout",
     "output_type": "stream",
     "text": [
      "55.555555555555564 m / s\n"
     ]
    }
   ],
   "source": [
    "vitesse = vitesse.to(\"m/s\")\n",
    "print(vitesse)"
   ]
  },
  {
   "cell_type": "markdown",
   "id": "5db60e15-758d-49bb-bd10-b345c8b01ade",
   "metadata": {},
   "source": [
    "Pour connaitre toutes les conversions possibles d'une unité, on peut utiliser la méthode  `find_equivalent_units()`, de la façon suivante en remplaçant UNITE par l'unité demandée :\n",
    "\n",
    "    u.UNITE.find_equivalent_units()\n",
    "\n",
    "Voici un exemple pour les mètres :"
   ]
  },
  {
   "cell_type": "code",
   "execution_count": 60,
   "id": "344f8643-b6cd-444c-b3d4-cc50abcffd29",
   "metadata": {},
   "outputs": [
    {
     "data": {
      "text/html": [
       "<table style=\"width:50%\"><tr><th>Primary name</th><th>Unit definition</th><th>Aliases</th></tr><tr><td>AU</td><td>1.49598e+11 m</td><td>au, astronomical_unit</td></tr><tr><td>Angstrom</td><td>1e-10 m</td><td>AA, angstrom</td></tr><tr><td>cm</td><td>0.01 m</td><td>centimeter</td></tr><tr><td>earthRad</td><td>6.3781e+06 m</td><td>R_earth, Rearth</td></tr><tr><td>jupiterRad</td><td>7.1492e+07 m</td><td>R_jup, Rjup, R_jupiter, Rjupiter</td></tr><tr><td>lsec</td><td>2.99792e+08 m</td><td>lightsecond</td></tr><tr><td>lyr</td><td>9.46073e+15 m</td><td>lightyear</td></tr><tr><td>m</td><td>irreducible</td><td>meter</td></tr><tr><td>micron</td><td>1e-06 m</td><td></td></tr><tr><td>pc</td><td>3.08568e+16 m</td><td>parsec</td></tr><tr><td>solRad</td><td>6.957e+08 m</td><td>R_sun, Rsun</td></tr></table>"
      ],
      "text/plain": [
       "  Primary name | Unit definition | Aliases                         \n",
       "[\n",
       "  AU           | 1.49598e+11 m   | au, astronomical_unit            ,\n",
       "  Angstrom     | 1e-10 m         | AA, angstrom                     ,\n",
       "  cm           | 0.01 m          | centimeter                       ,\n",
       "  earthRad     | 6.3781e+06 m    | R_earth, Rearth                  ,\n",
       "  jupiterRad   | 7.1492e+07 m    | R_jup, Rjup, R_jupiter, Rjupiter ,\n",
       "  lsec         | 2.99792e+08 m   | lightsecond                      ,\n",
       "  lyr          | 9.46073e+15 m   | lightyear                        ,\n",
       "  m            | irreducible     | meter                            ,\n",
       "  micron       | 1e-06 m         |                                  ,\n",
       "  pc           | 3.08568e+16 m   | parsec                           ,\n",
       "  solRad       | 6.957e+08 m     | R_sun, Rsun                      ,\n",
       "]"
      ]
     },
     "execution_count": 60,
     "metadata": {},
     "output_type": "execute_result"
    }
   ],
   "source": [
    "u.m.find_equivalent_units()"
   ]
  },
  {
   "cell_type": "markdown",
   "id": "6a572402-5d66-4e2d-8d4a-015dea8ae207",
   "metadata": {},
   "source": [
    "### Utilisation avec les autres librairies (`numpy`,`matplotlib`)\n",
    "\n",
    "Combiner à `numpy`, il est possible de générer un `ndarray` avec une unité. \n",
    "\n",
    "Voici un exemple de physique, la chûte libre : \n",
    "$$z(t) = -\\frac{1}{2}g\\,t^2+v_0\\,t+h$$"
   ]
  },
  {
   "cell_type": "code",
   "execution_count": 10,
   "id": "781318b8-9c3f-4f06-8fac-d1c5b0b7e3b5",
   "metadata": {},
   "outputs": [],
   "source": [
    "# ici on définit les grandeurs habituelles\n",
    "g = 9.81 * u.m / (u.s)**2\n",
    "v0 = 10 * u.m / u.s\n",
    "h = 100 * u.m"
   ]
  },
  {
   "cell_type": "code",
   "execution_count": 11,
   "id": "7650a9d0-c236-4c28-a1e9-8f709e89d18f",
   "metadata": {},
   "outputs": [],
   "source": [
    "# ici on génère un tableau décrivant le temps en seconde\n",
    "t = np.linspace(0,10,10) * u.s"
   ]
  },
  {
   "cell_type": "code",
   "execution_count": 12,
   "id": "67d11275-f513-473c-b7a4-99062157d90a",
   "metadata": {},
   "outputs": [
    {
     "name": "stdout",
     "output_type": "stream",
     "text": [
      "[ 100.          105.05555556   98.           78.83333333   47.55555556\n",
      "    4.16666667  -51.33333333 -118.94444444 -198.66666667 -290.5       ] m\n"
     ]
    }
   ],
   "source": [
    "# ici on calcule z(t) avec la formule précédente \n",
    "z = -1/2*g*t**2 + v0*t + h\n",
    "print(z)"
   ]
  },
  {
   "cell_type": "markdown",
   "id": "46f13b4f-3eda-4e68-8516-c81194d9901f",
   "metadata": {},
   "source": [
    "On voit que $z(t)$ a bien la bonne dimension/unité, c'est une longueur.\n",
    "\n",
    "Il est alors possible d'utiliser `matplotlib.pyplot`pour afficher le résultat :"
   ]
  },
  {
   "cell_type": "code",
   "execution_count": 13,
   "id": "711c0705-545f-4681-bd64-c7f54dbb2717",
   "metadata": {},
   "outputs": [
    {
     "data": {
      "text/plain": [
       "[<matplotlib.lines.Line2D at 0x117dca370>]"
      ]
     },
     "execution_count": 13,
     "metadata": {},
     "output_type": "execute_result"
    },
    {
     "data": {
      "image/png": "[encoded data removed]",
      "text/plain": [
       "<Figure size 640x480 with 1 Axes>"
      ]
     },
     "metadata": {},
     "output_type": "display_data"
    }
   ],
   "source": [
    "import matplotlib.pyplot as plt\n",
    "plt.plot(t,z)"
   ]
  },
  {
   "cell_type": "markdown",
   "id": "547e7d61-858c-47d5-96fa-2d178fad50d8",
   "metadata": {},
   "source": [
    "Dans le cas précédent, il faudrait soit même ajouter les unités sur les axes. Il y a une façon automatique de le faire, grâce à une autre sous librairie de `astropy` :"
   ]
  },
  {
   "cell_type": "code",
   "execution_count": 14,
   "id": "b1b983ed-123c-4f12-a9e4-dcdb04dbea75",
   "metadata": {},
   "outputs": [
    {
     "data": {
      "text/plain": [
       "[<matplotlib.lines.Line2D at 0x122b33460>]"
      ]
     },
     "execution_count": 14,
     "metadata": {},
     "output_type": "execute_result"
    },
    {
     "data": {
      "image/png": "[encoded data removed]",
      "text/plain": [
       "<Figure size 640x480 with 1 Axes>"
      ]
     },
     "metadata": {},
     "output_type": "display_data"
    }
   ],
   "source": [
    "import astropy.visualization as visu\n",
    "visu.quantity_support() # fois charger, il faut ajouter la ligne suivante pour activer la gestion des unités sur les plots\n",
    "\n",
    "plt.plot(t,z)"
   ]
  },
  {
   "cell_type": "markdown",
   "id": "06ab1cb4-9be8-45b9-a16d-0018dbc71fa8",
   "metadata": {},
   "source": [
    "### Utilisation de constantes\n",
    "\n",
    "Dans la librairie `astropy`, il y a une sous librairie `constants` qui donne toutes les constantes fondamentales. Voici quelques exemples (de physique biensûr) : "
   ]
  },
  {
   "cell_type": "code",
   "execution_count": 26,
   "id": "60548c4e-080d-4669-99d8-cf1d641a165b",
   "metadata": {},
   "outputs": [
    {
     "name": "stdout",
     "output_type": "stream",
     "text": [
      "  Name   = Gravitational constant\n",
      "  Value  = 6.6743e-11\n",
      "  Uncertainty  = 1.5e-15\n",
      "  Unit  = m3 / (kg s2)\n",
      "  Reference = CODATA 2018\n"
     ]
    }
   ],
   "source": [
    "import astropy.constants as const\n",
    "G = const.G\n",
    "print(G)"
   ]
  },
  {
   "cell_type": "code",
   "execution_count": 27,
   "id": "613d141d-1bde-4ad4-a0cc-ba52f1f7312f",
   "metadata": {},
   "outputs": [
    {
     "name": "stdout",
     "output_type": "stream",
     "text": [
      "  Name   = Speed of light in vacuum\n",
      "  Value  = 299792458.0\n",
      "  Uncertainty  = 0.0\n",
      "  Unit  = m / s\n",
      "  Reference = CODATA 2018\n"
     ]
    }
   ],
   "source": [
    "c = const.c\n",
    "print(c)"
   ]
  },
  {
   "cell_type": "markdown",
   "id": "d6650169-1904-461f-a9cd-3d705db3cdcc",
   "metadata": {},
   "source": [
    "----\n",
    "\n",
    "### Exercice 1 :\n",
    "\n",
    "L'accélération de la pensanteur terrestre peut être approximée par :\n",
    "$$ g = G\\,\\frac{M_T}{R_T^2}$$\n",
    "\n",
    "* en utilisant les constantes d'astropy, calculer la valeur de $g$"
   ]
  },
  {
   "cell_type": "code",
   "execution_count": null,
   "id": "24ac47e6-cab5-41c9-848d-2829faa24584",
   "metadata": {},
   "outputs": [],
   "source": []
  },
  {
   "cell_type": "markdown",
   "id": "50e69a59-ab9b-4309-8f11-4e087e4a40de",
   "metadata": {},
   "source": [
    "### Exercice 2 :\n",
    "\n",
    "Il faut environ 8 minutes à la lumière pour voyager du Soleil à la Terre. A partir de cela, estimer en $km$ la distance Terre-Soleil."
   ]
  },
  {
   "cell_type": "code",
   "execution_count": null,
   "id": "2dc6c231-9d9c-47f5-ace7-91b298aec2a8",
   "metadata": {},
   "outputs": [],
   "source": []
  },
  {
   "cell_type": "markdown",
   "id": "e64b4ad0-d8c2-432b-960f-8cb5da2b15c1",
   "metadata": {},
   "source": [
    "----\n",
    "\n",
    "### Exercice 3 :\n",
    "\n",
    "La pression dans un gaz parfait est donnée par la formule : \n",
    "$$P = \\frac{n\\,R\\,T}{V}$$\n",
    "\n",
    "Pour plus d'informations, allez voir wikipedia : <https://fr.wikipedia.org/wiki/Loi_des_gaz_parfaits>\n",
    "\n",
    "* tracez la pression $P$ en fonction du volume $V$ pour deux valeurs de températures. On prendra $T_1 = 100\\,$K et $T_2 = 200\\,$K. Et on fera varier $V$ entre $1$ et $3\\,$L (*liter*). On prendra $n = 1\\,$mol \n",
    "\n",
    "* convertisser la pression pour qu'elle soit affichée en pascal et le volume en m$^3$"
   ]
  },
  {
   "cell_type": "code",
   "execution_count": null,
   "id": "2112e5fa-f0d3-44e8-a353-f00c4834e766",
   "metadata": {},
   "outputs": [],
   "source": []
  }
 ],
 "metadata": {
  "kernelspec": {
   "display_name": "Python 3 (ipykernel)",
   "language": "python",
   "name": "python3"
  },
  "language_info": {
   "codemirror_mode": {
    "name": "ipython",
    "version": 3
   },
   "file_extension": ".py",
   "mimetype": "text/x-python",
   "name": "python",
   "nbconvert_exporter": "python",
   "pygments_lexer": "ipython3",
   "version": "3.10.9"
  }
 },
 "nbformat": 4,
 "nbformat_minor": 5
}
