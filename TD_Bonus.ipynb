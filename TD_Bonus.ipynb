{
 "cells": [
  {
   "cell_type": "markdown",
   "metadata": {},
   "source": [
    "# Lire et écrire un fichier\n",
    "\n",
    "Dans ce TD, nous allons voir comment ouvrir, lire et écrire un fichier. Ce TD requière que le fichier *fable.txt* soit placé dans un répertoire nommé *fichiers*.\n",
    "\n",
    "\n",
    "## Ouvrir un fichier avec `open()`\n",
    "Pour ouvrir un fichier, on utilise la fonction `open()` en lui indiquant le chemin (relatif ou absolu) du fichier ainsi que le mode d'ouverture :\n",
    "\n",
    "- `r` pour *read* : le fichier sera accessible en lecture seule.\n",
    "- `w` pour *write* : le fichier sera ouvert en écriture et le contenu initial sera effacé pour être remplacé par ce qu'on va écrire dedans (on dit que le contenu initial est écrasé).\n",
    "- `a` pour *append* : le fichier sera ouvert en écriture. L'écriture se fera en fin de fichier, à la suite du contenu initial qui ne sera pas perdu\n",
    "- `b` pour *binary* : cette option peut s'ajouter aux précédentes. Elle permet de spécifier que le fichier est un fichier *binaire*. Nous y reviendrons plus tard.\n",
    "\n",
    "L'appel de la fonction se fait de la façon suivante :"
   ]
  },
  {
   "cell_type": "code",
   "execution_count": 59,
   "metadata": {},
   "outputs": [
    {
     "data": {
      "text/plain": [
       "_io.TextIOWrapper"
      ]
     },
     "execution_count": 59,
     "metadata": {},
     "output_type": "execute_result"
    }
   ],
   "source": [
    "mon_fichier = open(\"fichiers/fable.txt\",\"r\",encoding=\"utf-8\") # ouverture en mode lecture seule\n",
    "type(mon_fichier)"
   ]
  },
  {
   "cell_type": "markdown",
   "metadata": {},
   "source": [
    "La fonction `open()` retourne un objet de type `TextIOWrapper` (Text = texte, IO = input/output = entrées/sorties, Wrapper = interface). Même si nous ne regarderons pas en détail ce type d'objet, nous allons voir comment s'en servir. La fonction associée `read()` retourne le contenu du fichier sous forme d'un *gros* `str`. \n",
    "\n",
    "L'option `encoding=\"utf-8\"` permet de s'assurer que le fichier sera lu avec le bon code de déchiffrage (utf-8 étant la norme internationale)."
   ]
  },
  {
   "cell_type": "code",
   "execution_count": 60,
   "metadata": {},
   "outputs": [
    {
     "data": {
      "text/plain": [
       "str"
      ]
     },
     "execution_count": 60,
     "metadata": {},
     "output_type": "execute_result"
    }
   ],
   "source": [
    "contenu = mon_fichier.read()\n",
    "type(contenu)"
   ]
  },
  {
   "cell_type": "markdown",
   "metadata": {},
   "source": [
    "On peut donc utiliser tout ce que l'on sait sur les `str`."
   ]
  },
  {
   "cell_type": "code",
   "execution_count": 61,
   "metadata": {},
   "outputs": [
    {
     "name": "stdout",
     "output_type": "stream",
     "text": [
      "Maître Corbeau, sur un arbre perché,\n",
      "Tenait en son bec un fromage.\n",
      "Maître Renard, par l'odeur alléché,\n",
      "Lui tint à peu près ce langage :\n",
      "Et bonjour, Monsieur du Corbeau,\n",
      "Que vous êtes joli ! que vous me semblez beau !\n",
      "\n"
     ]
    }
   ],
   "source": [
    "print(contenu)"
   ]
  },
  {
   "cell_type": "markdown",
   "metadata": {},
   "source": [
    "## Fermer un fichier avec `close()`\n",
    "\n",
    "Pour fermer un fichier ouvert, on utilise la méthode associée `close()` sur l'objet de type `TextIOWrapper`."
   ]
  },
  {
   "cell_type": "code",
   "execution_count": 62,
   "metadata": {},
   "outputs": [],
   "source": [
    "mon_fichier.close()"
   ]
  },
  {
   "cell_type": "markdown",
   "metadata": {},
   "source": [
    "## Écrire des `str` dans un fichier avec `write()`\n",
    "\n",
    "Pour écrire dans un fichier, il faut tout d'abord l'ouvrir. On peut ouvrir un fichier existant, mais aussi ouvrir un fichier qui n'existe pas encore. Dans ce cas il sera créé."
   ]
  },
  {
   "cell_type": "code",
   "execution_count": 63,
   "metadata": {},
   "outputs": [],
   "source": [
    "mon_fichier = open(\"fichiers/nouveau.txt\",\"w\",encoding=\"utf-8\") # création du fichier nouveau.txt"
   ]
  },
  {
   "cell_type": "markdown",
   "metadata": {},
   "source": [
    "On peut alors ajouter écrire du texte dans le fichier sous forme de `str` avec la fonction associée `write()` :"
   ]
  },
  {
   "cell_type": "code",
   "execution_count": 64,
   "metadata": {},
   "outputs": [
    {
     "data": {
      "text/plain": [
       "42"
      ]
     },
     "execution_count": 64,
     "metadata": {},
     "output_type": "execute_result"
    }
   ],
   "source": [
    "mon_fichier.write(contenu)\n",
    "mon_fichier.write(\"Sans mentir, si votre ramage\")\n",
    "mon_fichier.write(\"Se rapporte à votre plumage,\")\n",
    "mon_fichier.write(\"Vous êtes le Phénix des hôtes de ces bois.\")"
   ]
  },
  {
   "cell_type": "markdown",
   "metadata": {},
   "source": [
    "*La fonction `write()` renvoie le nombre de caractères ajoutés. Ici le `42`correspond à la dernière commande `write()`.*\n",
    "\n",
    "Il ne reste plus qu'à fermer le fichier."
   ]
  },
  {
   "cell_type": "code",
   "execution_count": 65,
   "metadata": {},
   "outputs": [],
   "source": [
    "mon_fichier.close()"
   ]
  },
  {
   "cell_type": "markdown",
   "metadata": {},
   "source": [
    "Vous pouvez vérifier que dans le répertoire fichiers, le fichier *nouveau.txt* a été créé et qu'il contient le texte précédent. Vous pouvez utiliser la commande shell `cat` pour afficher le contenu du fichier. "
   ]
  },
  {
   "cell_type": "markdown",
   "metadata": {},
   "source": [
    "## Fonctions associées aux `str `\n",
    "\n",
    "*Jusqu'à présent, nous ne nous sommes pas vraiment penchés sur les fonctions associées aux `str`. La lecture et l'écriture de `str` dans un fichier est l'occasion de revenir sur plusieurs fonctions qui peuvent être utiles. Cette présentation n'est pas exhaustive, n'hésitez pas à chercher sur internet...*\n",
    "\n",
    "**Avant d'aller plus loin, Nous rappelons que les chaînes de caractères sont des listes. Vous pouvez donc utiliser toutes les méthodes que nous avons vues dans le TD 5.**\n",
    "\n",
    "### Fonctions simples :"
   ]
  },
  {
   "cell_type": "code",
   "execution_count": 1,
   "metadata": {},
   "outputs": [
    {
     "data": {
      "text/plain": [
       "'  mon texte  '"
      ]
     },
     "execution_count": 1,
     "metadata": {},
     "output_type": "execute_result"
    }
   ],
   "source": [
    "texte = \"  mon TEXTE  \"\n",
    "texte.lower() # met tout en minuscule "
   ]
  },
  {
   "cell_type": "code",
   "execution_count": 2,
   "metadata": {},
   "outputs": [
    {
     "data": {
      "text/plain": [
       "'  MON TEXTE  '"
      ]
     },
     "execution_count": 2,
     "metadata": {},
     "output_type": "execute_result"
    }
   ],
   "source": [
    "texte.upper() # met tout en majuscule "
   ]
  },
  {
   "cell_type": "code",
   "execution_count": 79,
   "metadata": {},
   "outputs": [
    {
     "data": {
      "text/plain": [
       "'  mon texte  '"
      ]
     },
     "execution_count": 79,
     "metadata": {},
     "output_type": "execute_result"
    }
   ],
   "source": [
    "texte.capitalize() #  met une majuscule en début de phrase et le reste en minuscule"
   ]
  },
  {
   "cell_type": "code",
   "execution_count": 80,
   "metadata": {},
   "outputs": [
    {
     "data": {
      "text/plain": [
       "'mon TEXTE'"
      ]
     },
     "execution_count": 80,
     "metadata": {},
     "output_type": "execute_result"
    }
   ],
   "source": [
    "texte.strip() # retire les expaces en début et fin de chaîne"
   ]
  },
  {
   "cell_type": "code",
   "execution_count": 9,
   "metadata": {},
   "outputs": [
    {
     "data": {
      "text/plain": [
       "6"
      ]
     },
     "execution_count": 9,
     "metadata": {},
     "output_type": "execute_result"
    }
   ],
   "source": [
    "texte.find(\"TEXTE\") # cherche une chaîne de caractères \n",
    "                    # et renvoie l'index du début de la chaîne (ici 6)."
   ]
  },
  {
   "cell_type": "code",
   "execution_count": 8,
   "metadata": {},
   "outputs": [
    {
     "data": {
      "text/plain": [
       "'T'"
      ]
     },
     "execution_count": 8,
     "metadata": {},
     "output_type": "execute_result"
    }
   ],
   "source": [
    "texte[6]           # On le vérifie"
   ]
  },
  {
   "cell_type": "code",
   "execution_count": 70,
   "metadata": {},
   "outputs": [
    {
     "data": {
      "text/plain": [
       "'La ho ho ho ho !!!'"
      ]
     },
     "execution_count": 70,
     "metadata": {},
     "output_type": "execute_result"
    }
   ],
   "source": [
    "texte = \"La la la la la !!!\"\n",
    "texte.replace(\"la\",\"ho\") # remplace une chaîne par une autre"
   ]
  },
  {
   "cell_type": "code",
   "execution_count": 71,
   "metadata": {},
   "outputs": [
    {
     "data": {
      "text/plain": [
       "'La ho ho la la !!!'"
      ]
     },
     "execution_count": 71,
     "metadata": {},
     "output_type": "execute_result"
    }
   ],
   "source": [
    "texte = \"La la la la la !!!\"\n",
    "texte.replace(\"la\",\"ho\",2) # remplace une chaîne par une autre, \n",
    "                           # un nombre de fois spécifié"
   ]
  },
  {
   "cell_type": "markdown",
   "metadata": {},
   "source": [
    "### Fonction associée `format()`\n",
    "\n",
    "Cette fonction est très puissante. Elle permet de créer facilement des chaînes de caractères dynamiques. Lors de la création de la chaîne de caractère, on place des *labels* entre accolades `{}`qui seront remplacés par des valeurs spécifiées dans la fonction `format()`. Ok, regardons un exemple, ce sera plus parlant :"
   ]
  },
  {
   "cell_type": "code",
   "execution_count": 72,
   "metadata": {},
   "outputs": [
    {
     "name": "stdout",
     "output_type": "stream",
     "text": [
      "Je m'appelle {prenom} et j'ai {age} ans.\n"
     ]
    }
   ],
   "source": [
    "texte = \"Je m'appelle {prenom} et j'ai {age} ans.\" # deux labels {prenom} et {age} sont spécifiés\n",
    "print(texte) # on peut afficher la chaîne précédente."
   ]
  },
  {
   "cell_type": "code",
   "execution_count": 73,
   "metadata": {},
   "outputs": [
    {
     "data": {
      "text/plain": [
       "\"Je m'appelle Thomas et j'ai 20 ans.\""
      ]
     },
     "execution_count": 73,
     "metadata": {},
     "output_type": "execute_result"
    }
   ],
   "source": [
    "texte.format(prenom=\"Thomas\",age=20) # la fonction format remplace ici les balises par les valeurs indiquées"
   ]
  },
  {
   "cell_type": "markdown",
   "metadata": {},
   "source": [
    "*Notez qu'ici la variable `texte` n'est pas modifiée :*"
   ]
  },
  {
   "cell_type": "code",
   "execution_count": 74,
   "metadata": {},
   "outputs": [
    {
     "name": "stdout",
     "output_type": "stream",
     "text": [
      "Je m'appelle {prenom} et j'ai {age} ans.\n"
     ]
    }
   ],
   "source": [
    "print(texte)"
   ]
  },
  {
   "cell_type": "markdown",
   "metadata": {},
   "source": [
    "Si l'on souhaite modifié la variable `texte` de façon définitive, on peut écrire :"
   ]
  },
  {
   "cell_type": "code",
   "execution_count": 75,
   "metadata": {},
   "outputs": [
    {
     "name": "stdout",
     "output_type": "stream",
     "text": [
      "Je m'appelle Thomas et j'ai 20 ans.\n"
     ]
    }
   ],
   "source": [
    "texte = texte.format(prenom=\"Thomas\",age=20)\n",
    "print(texte)"
   ]
  },
  {
   "cell_type": "markdown",
   "metadata": {},
   "source": [
    "------\n",
    "\n",
    "## Exercice 1 : Tableaux périodiques\n",
    "\n",
    "Atomes = [[\"Fer\",26],[\"Ag\",47],[\"Ca\",20],[\"Al\",13],[\"Ne\",10],[\"O\",8],[\"Au\",79]]\n",
    "\n",
    "1) Écrire un programme qui parcourt la liste précédente et affiche pour chaque élément :\n",
    "\n",
    "    \"L'élément XXX a pour numéro atomique YYY.\".\n",
    "\n",
    "2) Modifier ce programme pour que le texte affiché soit maintenant sauvegardé dans un fichier."
   ]
  },
  {
   "cell_type": "markdown",
   "metadata": {},
   "source": [
    "## Problème 1 : Fichier codé\n",
    "\n",
    "Récupérer le fichier *code.txt* et créer un sous répertoire *fichiers* dans votre répertoire de travail, si ce n'est déjà fait.\n",
    "\n",
    "Ce fichier est codé. Il va falloir le décoder. Le code est le suivant :\n",
    "- les chiffres 0, 1, 2, 3, 4, 5, 6, 7, 8, 9 replacent respectivement a, c, e, i, l, n, o, r, s, t\n",
    "- Chaque caractère (espace compris) a été échangé avec son voisin, exemple :\n",
    " \"Le train arrive.\" -> \"eLt arnia rrvi.e\"\n",
    "\n",
    "1) Ouvrir le fichier et afficher le texte qu'il contient\n",
    "\n",
    "2) Décoder le message\n"
   ]
  },
  {
   "cell_type": "code",
   "execution_count": null,
   "metadata": {},
   "outputs": [],
   "source": []
  },
  {
   "cell_type": "markdown",
   "metadata": {},
   "source": [
    "------\n",
    "## Ecrire des tableaux de nombres dans un fichier (`numpy`)\n",
    "\n",
    "Il est également possible d'enregistrer des *ndarray* dans des fichiers et de les récupérer plus tard, avec la fonction `save` de `numpy`."
   ]
  },
  {
   "cell_type": "code",
   "execution_count": 9,
   "metadata": {},
   "outputs": [],
   "source": [
    "import numpy as np\n",
    "\n",
    "x = np.arange(0,10,0.1)\n",
    "y = np.sin(x)\n",
    "\n",
    "np.save(\"fichiers/abscisses\",x)\n",
    "np.save(\"fichiers/ordonnees\",y)"
   ]
  },
  {
   "cell_type": "markdown",
   "metadata": {},
   "source": [
    "Pour récupérer plus tard, ce que nous avons mis dans les fichiers, il faut utiliser la fonction `load` et affecter le résultat dans une variable. **Attention** à ne pas oubier l'extension *.npy* du fichier."
   ]
  },
  {
   "cell_type": "code",
   "execution_count": 11,
   "metadata": {},
   "outputs": [
    {
     "name": "stdout",
     "output_type": "stream",
     "text": [
      "[0.  0.1 0.2 0.3 0.4 0.5 0.6 0.7 0.8 0.9 1.  1.1 1.2 1.3 1.4 1.5 1.6 1.7\n",
      " 1.8 1.9 2.  2.1 2.2 2.3 2.4 2.5 2.6 2.7 2.8 2.9 3.  3.1 3.2 3.3 3.4 3.5\n",
      " 3.6 3.7 3.8 3.9 4.  4.1 4.2 4.3 4.4 4.5 4.6 4.7 4.8 4.9 5.  5.1 5.2 5.3\n",
      " 5.4 5.5 5.6 5.7 5.8 5.9 6.  6.1 6.2 6.3 6.4 6.5 6.6 6.7 6.8 6.9 7.  7.1\n",
      " 7.2 7.3 7.4 7.5 7.6 7.7 7.8 7.9 8.  8.1 8.2 8.3 8.4 8.5 8.6 8.7 8.8 8.9\n",
      " 9.  9.1 9.2 9.3 9.4 9.5 9.6 9.7 9.8 9.9]\n",
      "[ 0.          0.09983342  0.19866933  0.29552021  0.38941834  0.47942554\n",
      "  0.56464247  0.64421769  0.71735609  0.78332691  0.84147098  0.89120736\n",
      "  0.93203909  0.96355819  0.98544973  0.99749499  0.9995736   0.99166481\n",
      "  0.97384763  0.94630009  0.90929743  0.86320937  0.8084964   0.74570521\n",
      "  0.67546318  0.59847214  0.51550137  0.42737988  0.33498815  0.23924933\n",
      "  0.14112001  0.04158066 -0.05837414 -0.15774569 -0.2555411  -0.35078323\n",
      " -0.44252044 -0.52983614 -0.61185789 -0.68776616 -0.7568025  -0.81827711\n",
      " -0.87157577 -0.91616594 -0.95160207 -0.97753012 -0.993691   -0.99992326\n",
      " -0.99616461 -0.98245261 -0.95892427 -0.92581468 -0.88345466 -0.83226744\n",
      " -0.77276449 -0.70554033 -0.63126664 -0.55068554 -0.46460218 -0.37387666\n",
      " -0.2794155  -0.1821625  -0.0830894   0.0168139   0.1165492   0.21511999\n",
      "  0.31154136  0.40484992  0.49411335  0.57843976  0.6569866   0.72896904\n",
      "  0.79366786  0.85043662  0.8987081   0.93799998  0.96791967  0.98816823\n",
      "  0.99854335  0.99894134  0.98935825  0.96988981  0.94073056  0.90217183\n",
      "  0.85459891  0.79848711  0.7343971   0.66296923  0.58491719  0.50102086\n",
      "  0.41211849  0.31909836  0.22288991  0.12445442  0.02477543 -0.07515112\n",
      " -0.17432678 -0.27176063 -0.36647913 -0.45753589]\n"
     ]
    }
   ],
   "source": [
    "xr = np.load(\"fichiers/abscisses.npy\")\n",
    "yr = np.load(\"fichiers/ordonnees.npy\")\n",
    "\n",
    "print(xr)\n",
    "print(yr)"
   ]
  },
  {
   "cell_type": "markdown",
   "metadata": {},
   "source": [
    "-----\n",
    "\n",
    "## Exercice 3 : PIB par pays\n",
    "\n",
    "Les fichiers *pib1.bin*, *pib2.bin* et *pib3.bin*  contiennent respectivement des noms de pays, les PIB associés par habitant et le nombre d'habitants pour chaque pays.\n",
    "\n",
    "1) Charger ces fichiers.\n",
    "\n",
    "2) Afficher à l'aide d'un nuage de point, le PIB par habitant en fonction du nombre d'habitants.\n",
    "\n",
    "3) Calculer le PIB total de chaque pays. Quel Pays a le PIB total le plus important ?"
   ]
  },
  {
   "cell_type": "code",
   "execution_count": null,
   "metadata": {},
   "outputs": [],
   "source": []
  }
 ],
 "metadata": {
  "kernelspec": {
   "display_name": "Python 3 (ipykernel)",
   "language": "python",
   "name": "python3"
  },
  "language_info": {
   "codemirror_mode": {
    "name": "ipython",
    "version": 3
   },
   "file_extension": ".py",
   "mimetype": "text/x-python",
   "name": "python",
   "nbconvert_exporter": "python",
   "pygments_lexer": "ipython3",
   "version": "3.9.12"
  }
 },
 "nbformat": 4,
 "nbformat_minor": 4
}
