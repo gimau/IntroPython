{
 "cells": [
  {
   "cell_type": "markdown",
   "metadata": {},
   "source": [
    "## Visualiser des données numériques\n",
    "*Nous arrivons ici à un point ultra important pour un scientifique, la visualisation. Ici nous allons voir une première façon d'afficher un graphe représentant des données.* \n",
    "\n",
    "Nous allons utiliser la librairie **matplotlib** pour afficher notre première courbe à partir de deux listes. Importons cette librairie :"
   ]
  },
  {
   "cell_type": "code",
   "execution_count": null,
   "metadata": {},
   "outputs": [],
   "source": [
    "import matplotlib.pyplot as plt # on importe la librairie"
   ]
  },
  {
   "cell_type": "markdown",
   "metadata": {},
   "source": [
    "*Si sous linux, cette librairie n'est pas installée, alors lancer un Terminal puis taper :\n",
    "    python3 -m pip install -U matplotlib --user*\n",
    "\n",
    "Imaginons que nous voulons afficher la fonction $x^2$ entre 0 et 10. Nous allons créer deux listes, une contenant les abscisses, l'autre les ordonnées :"
   ]
  },
  {
   "cell_type": "code",
   "execution_count": null,
   "metadata": {},
   "outputs": [],
   "source": [
    "for i in range(0,11):\n",
    "    x = i\n",
    "    y = i*i"
   ]
  },
  {
   "cell_type": "markdown",
   "metadata": {},
   "source": [
    "ou encore, grâce à la compréhension de liste "
   ]
  },
  {
   "cell_type": "code",
   "execution_count": null,
   "metadata": {},
   "outputs": [],
   "source": [
    "x = range(0,11)\n",
    "y = [i*i for i in x]"
   ]
  },
  {
   "cell_type": "markdown",
   "metadata": {},
   "source": [
    "On peut alors afficher `y`en fonction de `x` sous forme d'un nuage de points, grâce à la fonction `scatter`de la librairie `matplotlib`"
   ]
  },
  {
   "cell_type": "code",
   "execution_count": null,
   "metadata": {},
   "outputs": [],
   "source": [
    "plt.scatter(x,y) # on génère un graphique point par point\n",
    "plt.show() # on affiche le graphique"
   ]
  },
  {
   "cell_type": "markdown",
   "metadata": {},
   "source": [
    "On peut également afficher une courbe en reliant les points avec `plot` à la place de `scatter`. Les points sont alors reliés par des segments."
   ]
  },
  {
   "cell_type": "code",
   "execution_count": null,
   "metadata": {},
   "outputs": [],
   "source": [
    "plt.plot(x,y) # on génère une courbe reliant les points\n",
    "plt.show() # on affiche le graphique"
   ]
  },
  {
   "cell_type": "markdown",
   "metadata": {},
   "source": [
    "On peut également embellir le graphique obtenu en ajoutant une légende à la courbe ainsi que des noms sur les axes."
   ]
  },
  {
   "cell_type": "code",
   "execution_count": null,
   "metadata": {},
   "outputs": [],
   "source": [
    "plt.plot(x,y,label=\"x^2\")\n",
    "plt.legend()\n",
    "plt.xlabel(\"x\")\n",
    "plt.ylabel(\"f(x)\")\n",
    "plt.show()"
   ]
  },
  {
   "cell_type": "markdown",
   "metadata": {},
   "source": [
    "---\n",
    "## Exercice 1 : \n",
    "\n",
    "Produire la courbe représentative de la fonction $f(x)=\\log(x)$ entre 0 et $30$, avec légende et noms sur les axes.\n",
    "\n",
    "Algorithme :\n",
    "- Créer une liste `x` allant de 0 à $30$ à l'aide de la fonction `range`\n",
    "- Parcourir cette liste et calculer $\\log(x)$\n",
    "- Ajouter ce résultat dans une liste `y`\n",
    "- Utiliser la fonction `scatter` ou `plot` de matplotlib pour afficher les points (`y` vs `x`)\n",
    "- Ajouter les légendes et noms des axes"
   ]
  },
  {
   "cell_type": "code",
   "execution_count": null,
   "metadata": {},
   "outputs": [],
   "source": []
  },
  {
   "cell_type": "markdown",
   "metadata": {},
   "source": [
    "---\n",
    "## Exercice 2 : fonction créneaux\n",
    "\n",
    "Tracer une fonction $f(x)$ entre 0 et 10 avec des points tous les 0.1, telle que :\n",
    "\n",
    "- $f(x) = 1$ si la partie entière de $x$ est paire\n",
    "- $f(x) = 0$ si la partie entière de $x$ est impaire\n",
    "\n",
    "<img src=\"http://lappweb.in2p3.fr/~maurin/expl201/Creneaux.png\" alt=\"drawing\" width=\"400\"/>\n",
    "\n",
    "Algorithme :\n",
    "- Créer une liste `entiers` d'entiers de 0 à 100 (`range`)\n",
    "- Parcourir cette liste et créer une seconde liste `x` de nombres entre 0 et 10 par pas de 0.1\n",
    "- Parcourir cette nouvelle liste et tester si la partie entière de chaque élément est paire\n",
    "- Utiliser cette condition pour remplir la liste `y` contenant 1 si la condition est réalisée et 0 sinon\n",
    "- Afficher la courbe (`y` vs `x`) obtenue\n"
   ]
  },
  {
   "cell_type": "code",
   "execution_count": null,
   "metadata": {},
   "outputs": [],
   "source": []
  }
 ],
 "metadata": {
  "kernelspec": {
   "display_name": "Python 3 (ipykernel)",
   "language": "python",
   "name": "python3"
  },
  "language_info": {
   "codemirror_mode": {
    "name": "ipython",
    "version": 3
   },
   "file_extension": ".py",
   "mimetype": "text/x-python",
   "name": "python",
   "nbconvert_exporter": "python",
   "pygments_lexer": "ipython3",
   "version": "3.9.13"
  }
 },
 "nbformat": 4,
 "nbformat_minor": 4
}
