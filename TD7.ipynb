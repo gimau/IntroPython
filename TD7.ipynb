{
 "cells": [
  {
   "cell_type": "markdown",
   "metadata": {},
   "source": [
    "# La simulation *pas à pas*\n",
    "\n",
    "Nous ne verrons ici que le début du sujet car il faudrait bien plus de temps pour aborder ce domaine. Vous le ferez surement dans le futur.\n",
    "\n",
    "Reprenons le dernier exercice comme exemple :\n",
    "\n",
    "*Un avions lâche une caisse de matériel d'une altitude $H$ et une vitesse initiale horizontale $\\vec{v_0}$. Nous allons étudier la trajetoire de la caisse.*\n",
    "\n",
    "<img src=\"http://lappweb.in2p3.fr/~maurin/expl201/largage.png\" alt=\"drawing\" width=\"400\"/>\n",
    "\n",
    "*On prendra $H=10000\\,$m, $g=9.81\\,$m.s$^{-2}$ et $v_0=100\\,$m.s$^{-1}$*\n",
    "\n",
    "\n",
    "Le code ci-dessous affiche les données du fichier *chute.bin* avec quelques petits cosmétiques supplémentaires. "
   ]
  },
  {
   "cell_type": "code",
   "execution_count": 26,
   "metadata": {},
   "outputs": [],
   "source": [
    "# Ici on charge les données\n",
    "import pickle\n",
    "\n",
    "fichier = open(\"fichiers/chute.bin\",\"rb\")\n",
    "\n",
    "data_x = pickle.load(fichier)\n",
    "data_z = pickle.load(fichier)\n",
    "\n",
    "fichier.close()\n"
   ]
  },
  {
   "cell_type": "code",
   "execution_count": 28,
   "metadata": {},
   "outputs": [
    {
     "data": {
      "image/png": "[encoded data removed]",
      "text/plain": [
       "<Figure size 432x288 with 1 Axes>"
      ]
     },
     "metadata": {
      "needs_background": "light"
     },
     "output_type": "display_data"
    }
   ],
   "source": [
    "# Ici on affiche les données\n",
    "import matplotlib.pyplot as plt\n",
    "\n",
    "fig, ax = plt.subplots() \n",
    "ax.set_xlim((0, 5000))\n",
    "ax.set_ylim((0, 12000))\n",
    "#ax.set_aspect('equal') # Permet de faire que l'echelle des x et des z soient les mêmes\n",
    "\n",
    "plt.arrow(0, 10000, 1000, 0, head_width=200.00, head_length=100.0, fc='r', ec='r', length_includes_head = True)\n",
    "\n",
    "plt.scatter(data_x,data_z)\n",
    "plt.show()"
   ]
  },
  {
   "cell_type": "markdown",
   "metadata": {},
   "source": [
    "La flèche représente visuellement la vitesse initiale.\n",
    "\n",
    "-----\n",
    "\n",
    "Faire une **simulation**, c’est calculer et représenter les différents états successifs de l’évolution d’un modèle (représentant un système physique ou biologique ou ...) au cours du temps. \n",
    "\n",
    "Nous allons ainsi partir d'un état initial et faire avancer le temps par petit *pas* ($\\delta t$) en faisant un certain nombre d'hypothèses et de calculs.\n",
    "\n",
    "Pour notre situation, nous avons déjà l'état initial :\n",
    "\n",
    "- $t=0$\n",
    "- $x(0) = 0$\n",
    "- $z(0) = H$\n",
    "- $v_x(0) = v_0$\n",
    "- $v_z(0) = 0$\n",
    "- $a_x(0) = 0$\n",
    "- $a_z(0) = -g$"
   ]
  },
  {
   "cell_type": "markdown",
   "metadata": {},
   "source": [
    "Il faut maintenant trouver le moyen de faire *\"avancer le temps\"*. Mais comment ? \n",
    "\n",
    "**Grâce au développement de Taylor !!!!** \n",
    "\n",
    "En effet, si nous prenons $\\delta t$ très petit, on peut écrire à l'ordre 1 que :\n",
    "\n",
    "<div align=\"center\">  $f(t+\\delta t) = f(t) + \\frac{df(t)}{dt}\\,\\delta t$ </div>\n",
    "\n",
    "Appliquer à $x(t)$ cela donne : \n",
    "\n",
    "<div align=\"center\"> $x(t+\\delta t) = x(t) + \\frac{dx(t)}{dt}\\,\\delta t = x(t) + v_x(t)\\,\\delta t$ </div>\n",
    "\n",
    "Appliquer à $v_x(t)$ cela donne :\n",
    "<div align=\"center\"> $v_x(t+\\delta t) = v_x(t) + \\frac{dv_x(t)}{dt}\\,\\delta t = v_x(t) + a_x(t)\\,\\delta t$ </div>\n",
    "\n",
    "____\n",
    "\n",
    "Appliquons cela à $t=0$ pour calculer la position $x$ et $v_x$ au temps $\\delta t$ :\n",
    "<div align=\"center\"> $x(\\delta t) = x(0) + v_x(0)\\,\\delta t$ </div>\n",
    "<div align=\"center\"> $v_x(\\delta t) = v_x(0) + a_x(0)\\,\\delta t$ </div>\n",
    "\n",
    "\n",
    "\n",
    "Si vous regardez la situation initiale, nous avons tout ce qu'il faut pour faire ces calculs. Voyons ce que cela donne coté code :"
   ]
  },
  {
   "cell_type": "code",
   "execution_count": 50,
   "metadata": {},
   "outputs": [
    {
     "name": "stdout",
     "output_type": "stream",
     "text": [
      "Les positions x :  [0, 10.0]\n",
      "Les vitesses vx :  [100, 100.0]\n"
     ]
    }
   ],
   "source": [
    "# Les paramètres initiaux :\n",
    "t = [0] # nous utilisons des listes pour garder tous les temps, positions, vitesses...\n",
    "x = [0] \n",
    "vx = [100]\n",
    "ax = [0]\n",
    "\n",
    "\n",
    "\n",
    "# On definit notre pas de temps (nous verrons plus tard son influence):\n",
    "pas = 0.1\n",
    "\n",
    "\n",
    "# A nos listes précédentes, nous allons ajouter (append) la valeur après un pas de temps\n",
    "t.append(t[0] + pas) # le temps a avancé d'un pas\n",
    "x.append(x[0] + vx[0] * pas) \n",
    "vx.append(vx[0] + ax[0] * pas) \n",
    "ax.append(0) # dans notre cas, l'accélération selon x est constante.\n",
    "\n",
    "\n",
    "#Vérifions le résultat :\n",
    "print(\"Les positions x : \",x)\n",
    "print(\"Les vitesses vx : \",vx)"
   ]
  },
  {
   "cell_type": "markdown",
   "metadata": {},
   "source": [
    "Naturellement, nous n'allons pas calculer la suite à la main. Nous allons utiliser une boucle. A.\n",
    "\n",
    "## Exercice 1 :  Ecrire la boucle pour faire avancer le temps\n",
    "\n",
    "1) Reprener le code précédent et placer le dans une boucle pour faire avancer le temps jusqu'à ce que la caisse touche le sol.\n",
    "\n",
    "2) Ajouter proprement le calcul de $z$, $v_z$ et $a_z$.\n",
    "\n",
    "3) Afficher la trajectoire ($z$ en fonction de $x$) \n",
    "\n",
    "4) Tester différentes valeurs de `pas`"
   ]
  },
  {
   "cell_type": "code",
   "execution_count": null,
   "metadata": {},
   "outputs": [],
   "source": []
  }
 ],
 "metadata": {
  "kernelspec": {
   "display_name": "Python 3",
   "language": "python",
   "name": "python3"
  },
  "language_info": {
   "codemirror_mode": {
    "name": "ipython",
    "version": 3
   },
   "file_extension": ".py",
   "mimetype": "text/x-python",
   "name": "python",
   "nbconvert_exporter": "python",
   "pygments_lexer": "ipython3",
   "version": "3.6.6"
  }
 },
 "nbformat": 4,
 "nbformat_minor": 2
}
