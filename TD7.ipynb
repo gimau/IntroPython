{
 "cells": [
  {
   "cell_type": "markdown",
   "metadata": {},
   "source": [
    "\n",
    "# Les listes de listes \n",
    "\n",
    "Si l'on relit la définition d'une liste, *objet qui peut contenir plusieurs objets*, rien ne nous empêche de placer des listes dans des listes. Par exemple :"
   ]
  },
  {
   "cell_type": "code",
   "execution_count": null,
   "metadata": {},
   "outputs": [],
   "source": [
    "maliste = [[\"Fer\",26],[\"Ag\",47],[\"Ca\",20],[\"Al\",13]]"
   ]
  },
  {
   "cell_type": "markdown",
   "metadata": {},
   "source": [
    "Afin de récupérer une sous-liste, on utilise son index :"
   ]
  },
  {
   "cell_type": "code",
   "execution_count": null,
   "metadata": {},
   "outputs": [],
   "source": [
    "print(maliste[0])\n",
    "print(maliste[3])"
   ]
  },
  {
   "cell_type": "markdown",
   "metadata": {},
   "source": [
    "Mais il est possible de récupérer directement l'élement d'une sous-liste, en utilisant un premier index pour sélectionner la sous-liste, puis un second pour sélectionner l'élément de la sous-liste :"
   ]
  },
  {
   "cell_type": "code",
   "execution_count": null,
   "metadata": {},
   "outputs": [],
   "source": [
    "print(maliste[0][1])\n",
    "print(\"L'élément\",maliste[0][0],\"a\",maliste[0][1],\"protons.\")"
   ]
  },
  {
   "cell_type": "markdown",
   "metadata": {},
   "source": [
    "\n",
    "\n",
    "# Les compréhensions de liste\n",
    "\n",
    "On appelle **compréhension de liste** la technique suivante qui permet de créer, modifier ou de filtrer une liste très facilement.\n",
    "\n",
    "## Opérations simples :\n",
    "Imaginons que nous voulons créer une liste en mettant au carré chaque élément d'une liste d'origine. L'idée qui vient tout de suite à l'esprit est de faire une boucle comme ceci (on remarque au passage l'intérêt de créer une liste vide, ici appelée `carre` : ceci permet d'utiliser la fonction `append()` sur l'objet `carre`, qui existe bien)"
   ]
  },
  {
   "cell_type": "code",
   "execution_count": null,
   "metadata": {},
   "outputs": [],
   "source": [
    "liste = [0,1,3,-1,5, 6] # initialisation\n",
    "carre = [] #initialisation de la liste qui contiendra les carrés\n",
    "\n",
    "for elt in liste :\n",
    "    carre.append(elt**2)\n",
    "print(carre)"
   ]
  },
  {
   "cell_type": "markdown",
   "metadata": {},
   "source": [
    "Avec *python*, il est possible de faire cette même boucle en une ligne de commande, que nous commenterons après :"
   ]
  },
  {
   "cell_type": "code",
   "execution_count": null,
   "metadata": {},
   "outputs": [],
   "source": [
    "liste = [0,1,3,-1,5, 6] # initialisation\n",
    "\n",
    "carre = [elt**2 for elt in liste]\n",
    "print(carre)"
   ]
  },
  {
   "cell_type": "markdown",
   "metadata": {},
   "source": [
    "Parcourons la seconde ligne de **droite à gauche** :\n",
    "\n",
    "- grâce à la commande `for elt in liste`, la variable `elt` parcourt successivement les différents élements contenues dans la liste. \n",
    "- pour chaque élément, on calcule `elt**2`.\n",
    "- les `[]` indiquent que les résultats précédents sont stockés dans une liste\n",
    "- liste que l'on affecte à la variable `carre` grâce à l'opérateur `=`\n",
    "\n",
    "## Filtres sur une liste\n",
    "\n",
    "Il est également possible d'ajouter une condition pour ne sélectionner qu'une partie des élements d'une liste."
   ]
  },
  {
   "cell_type": "code",
   "execution_count": null,
   "metadata": {},
   "outputs": [],
   "source": [
    "nombres = [-11,10,9,-8,12,-4,20]\n",
    "\n",
    "nombres_positifs = [elt for elt in nombres if elt > 0]\n",
    "print(nombres_positifs)"
   ]
  },
  {
   "cell_type": "markdown",
   "metadata": {},
   "source": [
    "- ici `elt` parcourt les élements de la liste `nombres` en ne considérant que les nombres positifs.\n",
    "- pour chaque élement retenu, on retourne sa valeur pour former une nouvelle liste `nombres_positifs`.\n",
    "\n",
    "# Fonctions sur les listes :\n",
    "\n",
    "## Fonctions usuelles \n",
    "Il existe plusieurs fonctions usuelles bien pratiques à connaître. Vous allez les découvrir au fur et à mesure. En voici quelques-unes. Leur nom est assez explicite :"
   ]
  },
  {
   "cell_type": "code",
   "execution_count": null,
   "metadata": {},
   "outputs": [],
   "source": [
    "nombres = [-11,10,9,-8,12,-4,20]\n",
    "\n",
    "sum(nombres) # fait la somme des élements d'une liste\n"
   ]
  },
  {
   "cell_type": "code",
   "execution_count": null,
   "metadata": {},
   "outputs": [],
   "source": [
    "max(nombres) # retourne le maximum d'une liste"
   ]
  },
  {
   "cell_type": "code",
   "execution_count": null,
   "metadata": {},
   "outputs": [],
   "source": [
    "min(nombres) # retourne le minimum d'une liste"
   ]
  },
  {
   "cell_type": "code",
   "execution_count": null,
   "metadata": {},
   "outputs": [],
   "source": [
    "sorted(nombres) # ordonne du plus petit au plus grand les éléments d'une liste"
   ]
  },
  {
   "cell_type": "code",
   "execution_count": null,
   "metadata": {},
   "outputs": [],
   "source": [
    "mots = ['bonjour','girafe','schtroumpf','tagada', 'ananas', 'zoo']\n",
    "\n",
    "sorted(mots) # ordonne dans l'ordre alphabétique les éléments d'une liste de chaînes de caractères."
   ]
  },
  {
   "cell_type": "markdown",
   "metadata": {},
   "source": [
    "**Attention**, `sorted(mots)` est une fonction (pas une méthode) et `mots` est son argument. La liste `mots` n'est pas modifiée par le programme précédent :"
   ]
  },
  {
   "cell_type": "code",
   "execution_count": null,
   "metadata": {},
   "outputs": [],
   "source": [
    "print(mots)"
   ]
  },
  {
   "cell_type": "markdown",
   "metadata": {},
   "source": [
    "## Fonctions provenant de librairies\n",
    "Il existe beaucoup de librairies contenant des fonctions s'appliquant aux listes. À vous de les chercher en fonction de vos besoins. En voici une :"
   ]
  },
  {
   "cell_type": "code",
   "execution_count": null,
   "metadata": {},
   "outputs": [],
   "source": [
    "from statistics import mean, median\n",
    "median(nombres) # retourne la valeur médiane\n",
    "mean(nombres) # retourne la valeur moyenne"
   ]
  },
  {
   "cell_type": "markdown",
   "metadata": {},
   "source": [
    "---\n",
    "## Exercice 1 : Tableau périodique\n",
    "\n",
    "Chaque élément de la liste suivante est une liste à deux éléments, contenant le symbole et le numéro atomique Z d'une espèce atomique.\n",
    "\n",
    "Atomes = [[\"Fer\",26],[\"Ag\",47],[\"Ca\",20],[\"Al\",13],[\"Ne\",10],[\"O\",8],]\n",
    "\n",
    "Ajouter à cette liste l'or de symbole \"Au\" et Z=79 puis afficher la liste complétée."
   ]
  },
  {
   "cell_type": "code",
   "execution_count": null,
   "metadata": {},
   "outputs": [],
   "source": [
    "Atomes = [[\"Fer\",26],[\"Ag\",47],[\"Ca\",20],[\"Al\",13],[\"Ne\",10],[\"O\",8]]"
   ]
  },
  {
   "cell_type": "markdown",
   "metadata": {},
   "source": [
    "Pour trier par ordre alphabétique du nom d'élément, on peut utiliser la fonction `sorted`"
   ]
  },
  {
   "cell_type": "code",
   "execution_count": null,
   "metadata": {},
   "outputs": [],
   "source": [
    "sorted(Atomes)"
   ]
  },
  {
   "cell_type": "markdown",
   "metadata": {},
   "source": [
    "Écrire un programme qui trie les élements chimiques précédents par ordre croissant de numéro atomique.\n",
    "\n",
    "Algorithme :\n",
    "- Écrire un programme qui crée une liste dans laquelle numéro et nom sont inversés :\n",
    "\n",
    "    [[26, 'Fer'], [47, 'Ag'], [20, 'Ca'], [13, 'Al'], [10, 'Ne'], [8, 'O'], [79, 'Au']]\n",
    "\n",
    "- Trier cette nouvelle liste avec la commande `sorted`\n"
   ]
  },
  {
   "cell_type": "code",
   "execution_count": null,
   "metadata": {},
   "outputs": [],
   "source": [
    "Atomes = [[\"Fer\",26],[\"Ag\",47],[\"Ca\",20],[\"Al\",13],[\"Ne\",10],[\"O\",8],[\"Au\",79]]"
   ]
  },
  {
   "cell_type": "markdown",
   "metadata": {},
   "source": [
    "---\n",
    "## Exercice 2\n",
    "Chaque élément de la liste suivante est une liste à quatre éléments donnant le prénom, le nom, le prénom, la date de naissance et la date de décès de différentes personnalités du monde de la physique.\n",
    "\n",
    "    liste=[['James Clerk', 'Maxwell', 1831, 1879], ['Albert', 'Einstein', 1879, 1955], ['Isaac', 'Newton', 1643, 1727]]\n",
    "\n",
    "Ajouter un élément à la liste pour Lise Meitner (1878-1968) et afficher la liste complète."
   ]
  },
  {
   "cell_type": "code",
   "execution_count": null,
   "metadata": {},
   "outputs": [],
   "source": [
    "liste=[['James Clerk', 'Maxwell', 1831, 1879], ['Albert', 'Einstein', 1879, 1955], ['Isaac', 'Newton', 1643, 1727]]"
   ]
  },
  {
   "cell_type": "markdown",
   "metadata": {},
   "source": [
    "Écrire un programme affichant la liste des noms par ordre de date de naissance croissante, sous la forme\n",
    "\n",
    "    Isaac Newton de 1878 à 1968\n",
    "    James Clerk Maxwell de 1831 à 1879\n",
    "    (etc...)"
   ]
  },
  {
   "cell_type": "code",
   "execution_count": null,
   "metadata": {},
   "outputs": [],
   "source": []
  }
 ],
 "metadata": {
  "kernelspec": {
   "display_name": "Python 3 (ipykernel)",
   "language": "python",
   "name": "python3"
  },
  "language_info": {
   "codemirror_mode": {
    "name": "ipython",
    "version": 3
   },
   "file_extension": ".py",
   "mimetype": "text/x-python",
   "name": "python",
   "nbconvert_exporter": "python",
   "pygments_lexer": "ipython3",
   "version": "3.10.9"
  }
 },
 "nbformat": 4,
 "nbformat_minor": 4
}
