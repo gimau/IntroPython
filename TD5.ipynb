{
 "cells": [
  {
   "cell_type": "markdown",
   "metadata": {},
   "source": [
    "# Les listes\n",
    "\n",
    "Nous avons vu au TD3 que nous pouvions créer facilement des listes en python. Nous allons voir plus en détail ce qu'il est possible de faire avec ces listes.\n",
    "\n",
    "**`list`** : *objet qui peut contenir plusieurs objets de différents types.*\n",
    "\n",
    "## Création d'une liste\n",
    "\n",
    "### Création simple : `[element1,element2...]`\n",
    "\n",
    "Pour créer une liste en python, c'est très simple. Il suffit de mettre les éléments de la liste entre crochets `[]` et de séparer les éléments avec une virgule `,`. Voici un exemple :\n",
    "\n",
    "    maliste = [1,\"lundi\",0.45]\n",
    "    \n",
    "- Il est possible de mélanger les types dans une liste, mais attention à ce que vous ferez après. Ici nous avons un `int`, un `str` entre `\"`et un `float`.\n",
    "\n",
    "\n",
    "### Liste vide : `[]`\n",
    "On peut aussi créer une liste vide, en n'indiquer aucun élément :\n",
    "\n",
    "    maliste = []\n",
    "    \n",
    "Ceci peut sembler surprenant et inutile, nous verrons plus loin que si, ça peut être utile."
   ]
  },
  {
   "cell_type": "code",
   "execution_count": 2,
   "metadata": {},
   "outputs": [
    {
     "name": "stdout",
     "output_type": "stream",
     "text": [
      "<class 'list'>\n",
      "[]\n"
     ]
    }
   ],
   "source": [
    "maliste=[] # On crée une liste vide\n",
    "print(type(maliste))\n",
    "print(maliste)"
   ]
  },
  {
   "cell_type": "markdown",
   "metadata": {},
   "source": [
    "## Accèder à / modifier un élément de la liste\n",
    "\n",
    "On peut accéder à un élément d'une liste grâce à son indice, entre crochets [ ] :\n",
    "- le premier élement a l'indice $0$\n",
    "- le second a l'indice $1$\n",
    "- le n$^{ième}$ a l'indice $n-1$\n",
    "\n",
    "Par exemple : "
   ]
  },
  {
   "cell_type": "code",
   "execution_count": 44,
   "metadata": {},
   "outputs": [
    {
     "name": "stdout",
     "output_type": "stream",
     "text": [
      "a\n",
      "d\n"
     ]
    }
   ],
   "source": [
    "maliste = ['a','b','c','d','e','f','g']\n",
    "print(maliste[0])\n",
    "print(maliste[3])"
   ]
  },
  {
   "cell_type": "markdown",
   "metadata": {},
   "source": [
    "Il est alors possible de modifier un élément de la liste. Pour cela on affecte (`=`) une nouvelle valeur à l'élement que l'on veut modifier :"
   ]
  },
  {
   "cell_type": "code",
   "execution_count": 45,
   "metadata": {},
   "outputs": [
    {
     "name": "stdout",
     "output_type": "stream",
     "text": [
      "['a', 'b', 'toto', 'd', 'e', 'f', 'g']\n"
     ]
    }
   ],
   "source": [
    "maliste[2]='toto'\n",
    "print(maliste)"
   ]
  },
  {
   "cell_type": "markdown",
   "metadata": {},
   "source": [
    "Il est également possible d'extraire plusieurs éléments concécutifs. On indique entre `[]` l'index du premier élément et celui auquel on s'arrête (non inclus), en les séparant par `:` (ceci s'appelle techniquement une tranche, ou une *slice* en anglais)"
   ]
  },
  {
   "cell_type": "code",
   "execution_count": 47,
   "metadata": {},
   "outputs": [
    {
     "data": {
      "text/plain": [
       "['b', 'toto']"
      ]
     },
     "execution_count": 47,
     "metadata": {},
     "output_type": "execute_result"
    }
   ],
   "source": [
    "maliste[1:3] # on extrait ici les élément d'index 1 et 2. Le 3 est exclu. "
   ]
  },
  {
   "cell_type": "markdown",
   "metadata": {},
   "source": [
    "## Ajouter un élément dans une liste\n",
    "\n",
    "### Méthodes et fonctions\n",
    "\n",
    "*Nous avons vu précédemment plusieurs exemples de **fonctions**, qui peuvent avoir des arguments mais ne les modifient pas. Ici nous allons voir un nouveau concept, les **méthodes**, qui agissent sur un objet et le transforment. Nous allons le montrer avec un objet de type `list`. La syntaxe est différente de celle des fonctions.*\n",
    "\n",
    "### Exemple : la méthode `append()` pour ajouter un élément à la fin d'une liste\n",
    "*Pour utiliser une méthode, on indique le nom de la variable suivie d'un `.` puis le nom de la méthode avec ses arguments.*\n",
    "\n",
    "Par exemple, pour ajouter un élément à la fin d'une liste, on utilise la **méthode `append()` de la classe `list`**. Elle prend en argument la valeur à ajouter : \n",
    "\n",
    "    maliste.append(\"h\")\n",
    "    \n",
    "Voici un exemple, où l'on voit que la liste a été transformée.\n",
    "    "
   ]
  },
  {
   "cell_type": "code",
   "execution_count": 10,
   "metadata": {},
   "outputs": [
    {
     "name": "stdout",
     "output_type": "stream",
     "text": [
      "['a', 'b', 'd', 'e', 'f', 'g', 'h']\n"
     ]
    }
   ],
   "source": [
    "maliste = ['a','b','d','e','f','g']\n",
    "maliste.append(\"h\")\n",
    "print(maliste)"
   ]
  },
  {
   "cell_type": "markdown",
   "metadata": {},
   "source": [
    "### Insertion d'un élément : `insert()`"
   ]
  },
  {
   "cell_type": "markdown",
   "metadata": {},
   "source": [
    "La fonction `insert()` est également **une méthode associée au type `list`**. Elle prend deux arguments : l'indice où l'on va insérer l'élement, et la valeur que l'on souhaite insérer :\n",
    "\n",
    "    maliste.insert(2,\"c\")\n",
    "\n",
    "Regardons ce que cela donne :"
   ]
  },
  {
   "cell_type": "code",
   "execution_count": 11,
   "metadata": {},
   "outputs": [
    {
     "name": "stdout",
     "output_type": "stream",
     "text": [
      "['a', 'b', 'd', 'e', 'f', 'g', 'h']\n",
      "['a', 'b', 'c', 'd', 'e', 'f', 'g', 'h']\n"
     ]
    }
   ],
   "source": [
    "print(maliste)\n",
    "maliste.insert(2,\"c\")\n",
    "print(maliste)"
   ]
  },
  {
   "cell_type": "markdown",
   "metadata": {},
   "source": [
    "*Remarque : lorsque l'indice d'insertion vaut n, la méthode va décaler les élements d'indice supérieur à n, pour intercaler la valeur supplémentaire.*"
   ]
  },
  {
   "cell_type": "markdown",
   "metadata": {},
   "source": [
    "### Exercice\n",
    "Insérer le nombre qui semble manquer dans la liste suivante, puis afficher la liste complétée\n",
    "\n",
    "     [2, 4, 6, 8, 12, 14, 16]"
   ]
  },
  {
   "cell_type": "code",
   "execution_count": 3,
   "metadata": {},
   "outputs": [],
   "source": [
    "maliste = [2, 4, 6, 8, 12, 14, 16]"
   ]
  },
  {
   "cell_type": "markdown",
   "metadata": {},
   "source": [
    "### Supprimer un élement : `remove()`\n",
    "\n",
    "La fonction `remove()` associée au type `list` permet de supprimer un élément. Cette fonction prend en argument, **non pas l'indice de l'élément à supprimer, mais l'élément lui-même** :\n",
    "\n",
    "    maliste.remove(\"c\")\n",
    "\n",
    "Exemple :"
   ]
  },
  {
   "cell_type": "code",
   "execution_count": 1,
   "metadata": {},
   "outputs": [
    {
     "name": "stdout",
     "output_type": "stream",
     "text": [
      "['a', 'b', 'c', 'd', 'c', 'e']\n",
      "['a', 'b', 'd', 'c', 'e']\n"
     ]
    }
   ],
   "source": [
    "maliste = ['a','b','c','d','c','e']\n",
    "print(maliste)\n",
    "maliste.remove(\"c\")\n",
    "print(maliste)"
   ]
  },
  {
   "cell_type": "markdown",
   "metadata": {},
   "source": [
    "### Exercice\n",
    "Déterminer ce que fait le programme suivant, sans l'exécuter, puis vérifier en l'exécutant"
   ]
  },
  {
   "cell_type": "code",
   "execution_count": null,
   "metadata": {},
   "outputs": [],
   "source": [
    "maliste = ['Maxwell', 'Einstein', 'Kepler', 'Galilée']\n",
    "maliste.append('Curie')\n",
    "maliste.remove('Maxwell')\n",
    "maliste.insert(1, 'Meitner')\n",
    "print(maliste)"
   ]
  },
  {
   "cell_type": "markdown",
   "metadata": {},
   "source": [
    "*On note que s'il y a plusieurs fois le même élément, c'est le premier qui est supprimé.*\n",
    "\n",
    "### Concaténer des listes : `+`\n",
    "\n",
    "*Nous l'avons déjà beaucoup pratiqué sur les chaînes de caractères (il se trouve qu'il s'agit d'un type de `list`).*\n",
    "\n",
    "Il est possible de concaténer (de mettre bout à bout) des listes grâce à l'opérateur `+`:\n",
    "\n",
    "    maliste1+maliste2\n",
    "    \n",
    "exemple :"
   ]
  },
  {
   "cell_type": "code",
   "execution_count": 24,
   "metadata": {},
   "outputs": [
    {
     "data": {
      "text/plain": [
       "['a', 'b', 'c', 'd', 'e', 'f']"
      ]
     },
     "execution_count": 24,
     "metadata": {},
     "output_type": "execute_result"
    }
   ],
   "source": [
    "maliste1 = [\"a\",\"b\",\"c\"]\n",
    "maliste2 = [\"d\",\"e\",\"f\"]\n",
    "maliste1 + maliste2"
   ]
  },
  {
   "cell_type": "markdown",
   "metadata": {},
   "source": [
    "### Nombre d'éléments dans une liste : `len()`\n",
    "\n",
    "La fonction `len()` permet de connaître le nombre d'éléments d'une liste :\n",
    "\n",
    "    len(maliste)\n",
    "\n",
    "Exemple :"
   ]
  },
  {
   "cell_type": "code",
   "execution_count": 16,
   "metadata": {},
   "outputs": [
    {
     "data": {
      "text/plain": [
       "3"
      ]
     },
     "execution_count": 16,
     "metadata": {},
     "output_type": "execute_result"
    }
   ],
   "source": [
    "maliste = [\"a\",\"b\",\"c\"]\n",
    "len(maliste)"
   ]
  },
  {
   "cell_type": "markdown",
   "metadata": {},
   "source": [
    "## Parcourir une liste :\n",
    "\n",
    "### Avec une boucle `while` :\n",
    "\n",
    "Grâce à la fonction`len()`, nous connaissons le nombre d'éléments de la liste. Il est alors facile d'écrire une boucle `while` pour parcourir notre liste :"
   ]
  },
  {
   "cell_type": "code",
   "execution_count": 18,
   "metadata": {},
   "outputs": [
    {
     "name": "stdout",
     "output_type": "stream",
     "text": [
      "a\n",
      "b\n",
      "c\n",
      "d\n",
      "e\n",
      "f\n"
     ]
    }
   ],
   "source": [
    "liste = ['a', 'b', 'c', 'd', 'e', 'f']\n",
    "i = 0 #initialisation du compteur\n",
    "\n",
    "while i < len(liste) :\n",
    "    print(liste[i])\n",
    "    i += 1    # ne pas oublier de faire avancer le compteur"
   ]
  },
  {
   "cell_type": "markdown",
   "metadata": {},
   "source": [
    "*Cette méthode n'est pas la plus élégante ni la plus naturelle en python : elle nécessite entre autre de créer à la main un compteur. On évitera de s'en servir en python. Cette méthode reste cependant la plus utilisée dans les autres langages.*\n",
    "\n",
    "### Avec une boucle `for` :\n",
    "\n",
    "Nous avons déjà vu cela dans le TD3 sur les boucles. Nous allons parcourir la liste en prenant chaque élément, l'un après l'autre :"
   ]
  },
  {
   "cell_type": "code",
   "execution_count": 19,
   "metadata": {},
   "outputs": [
    {
     "name": "stdout",
     "output_type": "stream",
     "text": [
      "a\n",
      "b\n",
      "c\n",
      "d\n",
      "e\n",
      "f\n"
     ]
    }
   ],
   "source": [
    "liste = ['a', 'b', 'c', 'd', 'e', 'f']\n",
    "\n",
    "for element in liste :\n",
    "    print(element)"
   ]
  },
  {
   "cell_type": "markdown",
   "metadata": {},
   "source": [
    "*Ici pas besoin de connaître le nombre d'élément, ni de créer un compteur. C'est bien plus joli. Mais sans compteur, nous ne savons pas à quel élément nous en sommes, ce qui sera gênant dans certaines situations. Il y a donc une dernière solution.*\n",
    "\n",
    "### Avec une boucle `for` et la fonction `enumerate()` :\n",
    "\n",
    "Il est plus simple de vous présenter un exemple et de le commenter :"
   ]
  },
  {
   "cell_type": "code",
   "execution_count": 22,
   "metadata": {},
   "outputs": [
    {
     "name": "stdout",
     "output_type": "stream",
     "text": [
      "L'élément 0 vaut : a\n",
      "L'élément 1 vaut : b\n",
      "L'élément 2 vaut : c\n",
      "L'élément 3 vaut : d\n",
      "L'élément 4 vaut : e\n",
      "L'élément 5 vaut : f\n"
     ]
    }
   ],
   "source": [
    "liste = ['a', 'b', 'c', 'd', 'e', 'f']\n",
    "\n",
    "for i, element in enumerate(liste) :\n",
    "    print(\"L'élément\",i,\"vaut :\",element)"
   ]
  },
  {
   "cell_type": "markdown",
   "metadata": {},
   "source": [
    "Durant cette boucle `for`, la variable `element` va parcourir tous les élements de la liste pendant que la variable `i` va servir de compteur et prendre ainsi le numéro de l'indice courant. Techniquement, la fonction `enumerate()` renvoie une succession de couples de valeurs, le premier élément du couple est le compteur, le second l'élément de la liste."
   ]
  },
  {
   "cell_type": "markdown",
   "metadata": {},
   "source": [
    "Il reste encore plusieurs choses à voir sur les listes, mais faisons dès maintenant quelques applications, pour s'exercer.\n",
    "\n",
    "--------\n",
    "\n",
    "## Exercice 1 : Échange de valeurs\n",
    "\n",
    "Ecrire un programme qui échange les valeurs du premier et du dernier élement d'une liste. Ce programme doit fonctionner quelle que soit la liste initiale.\n",
    "\n",
    "Rappel pour échanger les valeurs contenues dans `a` et `b` :\n",
    "\n",
    "    a = 10\n",
    "    b = 12\n",
    "    a,b = b,a"
   ]
  },
  {
   "cell_type": "code",
   "execution_count": 8,
   "metadata": {},
   "outputs": [],
   "source": [
    "liste = ['Meitner', 'Maxwell', 'Curie', 'Einstein', 'Kepler', 'Galilée']"
   ]
  },
  {
   "cell_type": "markdown",
   "metadata": {},
   "source": [
    "## Exercice 1 bis : Recherche de petits nombres \n",
    "\n",
    "Ecrire un programme qui à partir d'une liste, par exemple (1, 13, 33, 2, 4, 40), fabrique une nouvelle liste ne contenant que les nombres supérieurs à 10.\n",
    "\n",
    "Algorithme :\n",
    "- Parcourir et afficher un à un les termes de la liste\n",
    "- Afficher seulement les termes < 10\n",
    "- Placer ces termes dans une nouvelle liste puis l'afficher"
   ]
  },
  {
   "cell_type": "markdown",
   "metadata": {},
   "source": []
  },
  {
   "cell_type": "markdown",
   "metadata": {},
   "source": [
    "## Exercice 2 : Liste symétrique \n",
    "Ecrire un programme qui vérifie si une liste est symétrique (liste identique à la liste à l'envers)\n",
    "\n",
    "Algorithme :\n",
    "- Parcourir et afficher les termes de la liste\n",
    "- Inverser le sens de parcours de la liste (avec la fonction `reversed`)\n",
    "- Créer la liste symétrique (à l'nevers)\n",
    "- Vérifier si la liste et la liste symétrique sont identiques avec un test"
   ]
  },
  {
   "cell_type": "code",
   "execution_count": null,
   "metadata": {},
   "outputs": [],
   "source": []
  },
  {
   "cell_type": "markdown",
   "metadata": {},
   "source": [
    "## Exercice 3 : Encadrement d'angles [-180,180]\n",
    "Ecrire un code qui remplace les angles de la liste suivante par leurs équivalents entre $[-180,180]$.\n",
    "\n",
    "liste_angle = [1234,17345,-31243,23,245,456,3600]\n",
    "\n",
    "Algorithme :\n",
    "- Parcourir et afficher les termes de la liste\n",
    "- Utiliser le modulo (`%`) pour rammener l'angle antre 0 et 360\n",
    "- Tester (avec un `if`) si l'angle est supérieur à 180, dans ce cas retrancher 360\n",
    "- Placer le résulat dans la liste à la place de l'angle initial"
   ]
  },
  {
   "cell_type": "code",
   "execution_count": null,
   "metadata": {},
   "outputs": [],
   "source": []
  },
  {
   "cell_type": "markdown",
   "metadata": {},
   "source": [
    "## Exercice 4 : Trier une liste \n",
    "Écrire un programme qui trie du plus petit au plus grand une liste composée de nombres quelconques. *(attention aux petits malins, on vous demande de créer votre propre programme et non pas d'utiliser une fonction toute faite).*\n",
    "\n",
    "liste = [435, 324, 456, 56, 567, -45, 546, 0, 345, 2, -5]\n",
    "\n",
    "Algorithme :\n",
    "- Parcourir et afficher les termes de la liste\n",
    "- Lors du parcours, identifier le nombre le plus petit en faisant un test (`if`)\n",
    "- Ajouter ce minimum dans une nouvelle liste, et effacer ce dernier de la première liste\n",
    "- Réitérer ce processus à l'aide d'une boucle "
   ]
  },
  {
   "cell_type": "code",
   "execution_count": null,
   "metadata": {},
   "outputs": [],
   "source": []
  },
  {
   "cell_type": "markdown",
   "metadata": {},
   "source": []
  },
  {
   "cell_type": "markdown",
   "metadata": {},
   "source": [
    "-----\n",
    "*Reprenons le cours ici.*\n",
    "\n",
    "## Les listes de listes \n",
    "\n",
    "Si l'on relit la définition d'une liste, *objet qui peut contenir plusieurs objets*, rien ne nous empêche de placer des listes dans des listes. Par exemple :"
   ]
  },
  {
   "cell_type": "code",
   "execution_count": 18,
   "metadata": {},
   "outputs": [],
   "source": [
    "maliste = [[\"Fer\",26],[\"Ag\",47],[\"Ca\",20],[\"Al\",13]]"
   ]
  },
  {
   "cell_type": "markdown",
   "metadata": {},
   "source": [
    "Afin de récupérer une sous-liste, on utilise son index :"
   ]
  },
  {
   "cell_type": "code",
   "execution_count": 20,
   "metadata": {},
   "outputs": [
    {
     "name": "stdout",
     "output_type": "stream",
     "text": [
      "['Fer', 26]\n",
      "['Al', 13]\n"
     ]
    }
   ],
   "source": [
    "print(maliste[0])\n",
    "print(maliste[3])"
   ]
  },
  {
   "cell_type": "markdown",
   "metadata": {},
   "source": [
    "Mais il est possible de récupérer directement l'élement d'une sous-liste, en utilisant un premier index pour sélectionner la sous-liste, puis un second pour sélectionner l'élément de la sous-liste :"
   ]
  },
  {
   "cell_type": "code",
   "execution_count": 23,
   "metadata": {},
   "outputs": [
    {
     "name": "stdout",
     "output_type": "stream",
     "text": [
      "26\n",
      "L'élément Fer a 26 protons.\n"
     ]
    }
   ],
   "source": [
    "print(maliste[0][1])\n",
    "print(\"L'élément\",maliste[0][0],\"a\",maliste[0][1],\"protons.\")"
   ]
  },
  {
   "cell_type": "markdown",
   "metadata": {},
   "source": [
    "\n",
    "\n",
    "## Les compréhensions de liste\n",
    "\n",
    "On appelle **compréhension de liste** la technique suivante qui permet de modifier ou de filtrer une liste très facilement.\n",
    "\n",
    "### Opérations simples :\n",
    "Imaginons que nous voulons créer une liste en mettant au carré chaque élément d'une liste d'origine. L'idée qui vient tout de suite à l'esprit est de faire une boucle comme ceci (on remarque au passage l'intérêt de créer une liste vide, ici appelée `carre` : ceci permet d'utiliser la fonction `append()` sur l'objet `carre`, qui existe bien)"
   ]
  },
  {
   "cell_type": "code",
   "execution_count": 2,
   "metadata": {},
   "outputs": [
    {
     "name": "stdout",
     "output_type": "stream",
     "text": [
      "[0, 1, 9, 1, 25, 36]\n"
     ]
    }
   ],
   "source": [
    "liste = [0,1,3,-1,5, 6] # initialisation\n",
    "carre = [] #initialisation de la liste contenant les carrés\n",
    "\n",
    "for elt in liste :\n",
    "    carre.append(elt**2)\n",
    "print(carre)"
   ]
  },
  {
   "cell_type": "markdown",
   "metadata": {},
   "source": [
    "Avec *python*, il est possible de faire cette même boucle en une ligne de commande, que nous commenterons après :"
   ]
  },
  {
   "cell_type": "code",
   "execution_count": 1,
   "metadata": {},
   "outputs": [
    {
     "name": "stdout",
     "output_type": "stream",
     "text": [
      "[0, 1, 9, 1, 25, 36]\n"
     ]
    }
   ],
   "source": [
    "liste = [0,1,3,-1,5, 6] # initialisation\n",
    "\n",
    "carre = [elt**2 for elt in liste]\n",
    "print(carre)"
   ]
  },
  {
   "cell_type": "markdown",
   "metadata": {},
   "source": [
    "Parcourons la seconde ligne de droite à gauche :\n",
    "\n",
    "- la variable `elt` parcourt les élements de la liste, grâce à la commande `for elt in liste`. \n",
    "- pour chaque élément, on calcule `elt**2`.\n",
    "- les `[]` indiquent que les résultats précédents vont créer une liste\n",
    "- liste que l'on affecte à la variable `carre` grâce à l'opérateur `=`\n",
    "\n",
    "## Filtres sur une liste\n",
    "\n",
    "Il est également possible d'ajouter une condition pour ne sélectionner qu'une partie des élements d'une liste."
   ]
  },
  {
   "cell_type": "code",
   "execution_count": 62,
   "metadata": {},
   "outputs": [
    {
     "name": "stdout",
     "output_type": "stream",
     "text": [
      "[10, 9, 12, 20]\n"
     ]
    }
   ],
   "source": [
    "nombres = [-11,10,9,-8,12,-4,20]\n",
    "\n",
    "nombres_positifs = [elt for elt in nombres if elt > 0]\n",
    "print(nombres_positifs)"
   ]
  },
  {
   "cell_type": "markdown",
   "metadata": {},
   "source": [
    "- ici `elt` parcourt les élements de la liste `nombres` en ne considérant que les nombres positifs.\n",
    "- pour chaque élement retenu, on retourne sa valeur pour former une nouvelle liste `nombres_positifs`.\n",
    "\n",
    "## Fonctions sur les listes :\n",
    "\n",
    "### Fonctions usuelles \n",
    "Il existe plusieurs fonctions usuelles bien pratiques à connaître. Vous allez les découvrir au fur et à mesure. En voici quelques-unes. Leur nom est assez explicite :"
   ]
  },
  {
   "cell_type": "code",
   "execution_count": 12,
   "metadata": {},
   "outputs": [
    {
     "name": "stdout",
     "output_type": "stream",
     "text": [
      "28\n",
      "20\n",
      "-11\n"
     ]
    },
    {
     "data": {
      "text/plain": [
       "[-11, -8, -4, 9, 10, 12, 20]"
      ]
     },
     "execution_count": 12,
     "metadata": {},
     "output_type": "execute_result"
    }
   ],
   "source": [
    "nombres = [-11,10,9,-8,12,-4,20]\n",
    "\n",
    "print(sum(nombres)) # fait la somme des élements d'une liste\n",
    "print(max(nombres)) # retourne le maximum d'une liste\n",
    "print(min(nombres)) # retourne le minimum d'une liste\n",
    "sorted(nombres) # ordonne du plus petit au plus grand les éléments d'une liste"
   ]
  },
  {
   "cell_type": "code",
   "execution_count": 11,
   "metadata": {},
   "outputs": [
    {
     "name": "stdout",
     "output_type": "stream",
     "text": [
      "zoo\n",
      "ananas\n"
     ]
    },
    {
     "data": {
      "text/plain": [
       "['ananas', 'bonjour', 'girafe', 'schtroumpf', 'tagada', 'zoo']"
      ]
     },
     "execution_count": 11,
     "metadata": {},
     "output_type": "execute_result"
    }
   ],
   "source": [
    "mots = ['bonjour','girafe','schtroumpf','tagada', 'ananas', 'zoo']\n",
    "\n",
    "print(max(mots)) # retourne le maximum d'une liste\n",
    "print(min(mots)) # retourne le minimum d'une liste\n",
    "sorted(mots) # ordonne du plus petit au plus grand les éléments d'une liste"
   ]
  },
  {
   "cell_type": "markdown",
   "metadata": {},
   "source": [
    "**Attention**, `sorted(mots)` est une fonction (pas une méthode) et `mots` est son argument. La liste `mots` n'est pas modifiée par le programme précédent :"
   ]
  },
  {
   "cell_type": "code",
   "execution_count": 12,
   "metadata": {},
   "outputs": [
    {
     "name": "stdout",
     "output_type": "stream",
     "text": [
      "['bonjour', 'girafe', 'schtroumpf', 'tagada', 'ananas', 'zoo']\n"
     ]
    }
   ],
   "source": [
    "print(mots)"
   ]
  },
  {
   "cell_type": "markdown",
   "metadata": {},
   "source": [
    "### Fonctions provenant de librairies\n",
    "Il existe beaucoup de librairies contenant des fonctions s'appliquant aux listes. À vous de les chercher en fonction de vos besoins. En voici une :"
   ]
  },
  {
   "cell_type": "code",
   "execution_count": 65,
   "metadata": {},
   "outputs": [
    {
     "data": {
      "text/plain": [
       "4"
      ]
     },
     "execution_count": 65,
     "metadata": {},
     "output_type": "execute_result"
    }
   ],
   "source": [
    "from statistics import mean, median\n",
    "median(nombres) # retourne la valeur médiane\n",
    "mean(nombres) # retourne la valeur moyenne"
   ]
  },
  {
   "cell_type": "markdown",
   "metadata": {},
   "source": [
    "### Visualiser des données numériques\n",
    "*Nous arrivons ici à un point ultra important pour un scientifique, la visualisation. Ici nous allons voir une première façon d'afficher un graphe représentant des données.* \n",
    "\n",
    "Nous allons utiliser la librairie **matplotlib** pour afficher notre première courbe à partir de deux listes. Importons cette librairie :"
   ]
  },
  {
   "cell_type": "code",
   "execution_count": 34,
   "metadata": {},
   "outputs": [],
   "source": [
    "import matplotlib.pyplot as plt # on importe la librairie"
   ]
  },
  {
   "cell_type": "markdown",
   "metadata": {},
   "source": [
    "*Si sous linux, cette librairie n'est pas installée, alors lancer un Terminal puis taper :\n",
    "    python3 -m pip install -U matplotlib --user*\n",
    "\n",
    "Imaginons que nous voulons afficher la fonction $x^2$ entre 0 et 10. Nous allons créer deux listes, une contenant les abscisses, l'autre les ordonnées :"
   ]
  },
  {
   "cell_type": "code",
   "execution_count": 15,
   "metadata": {},
   "outputs": [],
   "source": [
    "for i in range(0,11):\n",
    "    x = i\n",
    "    y = i*i"
   ]
  },
  {
   "cell_type": "markdown",
   "metadata": {},
   "source": [
    "ou encore, dans un style différent mais avec le même résultat,"
   ]
  },
  {
   "cell_type": "code",
   "execution_count": null,
   "metadata": {},
   "outputs": [],
   "source": [
    "x = range(0,11)\n",
    "y = [i*i for i in x]"
   ]
  },
  {
   "cell_type": "markdown",
   "metadata": {},
   "source": [
    "Remarque : vous auriez peut-être voulu écrire quelque chose du type suivant, et non ça ne marche pas, python ne sait pas ce que signifie le carré d'une liste (nous introduirons dans un TD ultérieur la notion de tableau, qui permet ce genre de syntaxe, mais patience)."
   ]
  },
  {
   "cell_type": "code",
   "execution_count": 13,
   "metadata": {},
   "outputs": [
    {
     "ename": "TypeError",
     "evalue": "unsupported operand type(s) for ** or pow(): 'range' and 'int'",
     "output_type": "error",
     "traceback": [
      "\u001b[0;31m---------------------------------------------------------------------------\u001b[0m",
      "\u001b[0;31mTypeError\u001b[0m                                 Traceback (most recent call last)",
      "\u001b[0;32m<ipython-input-13-3c3ad855defc>\u001b[0m in \u001b[0;36m<module>\u001b[0;34m\u001b[0m\n\u001b[1;32m      1\u001b[0m \u001b[0mx\u001b[0m \u001b[0;34m=\u001b[0m \u001b[0mrange\u001b[0m\u001b[0;34m(\u001b[0m\u001b[0;36m0\u001b[0m\u001b[0;34m,\u001b[0m\u001b[0;36m10\u001b[0m\u001b[0;34m)\u001b[0m\u001b[0;34m\u001b[0m\u001b[0;34m\u001b[0m\u001b[0m\n\u001b[0;32m----> 2\u001b[0;31m \u001b[0my\u001b[0m \u001b[0;34m=\u001b[0m \u001b[0mx\u001b[0m\u001b[0;34m**\u001b[0m\u001b[0;36m2\u001b[0m\u001b[0;34m\u001b[0m\u001b[0;34m\u001b[0m\u001b[0m\n\u001b[0m",
      "\u001b[0;31mTypeError\u001b[0m: unsupported operand type(s) for ** or pow(): 'range' and 'int'"
     ]
    }
   ],
   "source": [
    "x = range(0,10)\n",
    "y = x**2"
   ]
  },
  {
   "cell_type": "markdown",
   "metadata": {},
   "source": [
    "Reprenons nos listes correctement construites. "
   ]
  },
  {
   "cell_type": "code",
   "execution_count": 14,
   "metadata": {},
   "outputs": [],
   "source": [
    "x = range(0,10)\n",
    "y = [i*i for i in x]"
   ]
  },
  {
   "cell_type": "markdown",
   "metadata": {},
   "source": [
    "On peut alors afficher `y`en fonction de `x` à l'aide d'un nuage de points :"
   ]
  },
  {
   "cell_type": "code",
   "execution_count": 79,
   "metadata": {},
   "outputs": [
    {
     "data": {
      "image/png": "[encoded data removed]",
      "text/plain": [
       "<Figure size 432x288 with 1 Axes>"
      ]
     },
     "metadata": {
      "needs_background": "light"
     },
     "output_type": "display_data"
    }
   ],
   "source": [
    "plt.scatter(x,y) # on génère un graphique point par point\n",
    "plt.show() # on affiche le graphique"
   ]
  },
  {
   "cell_type": "markdown",
   "metadata": {},
   "source": [
    "On peut également afficher une courbe en reliant les points avec `plot` à la place de `scatter`. Les points sont alors reliés par des segments."
   ]
  },
  {
   "cell_type": "code",
   "execution_count": 29,
   "metadata": {},
   "outputs": [
    {
     "data": {
      "image/png": "[encoded data removed]",
      "text/plain": [
       "<Figure size 432x288 with 1 Axes>"
      ]
     },
     "metadata": {
      "needs_background": "light"
     },
     "output_type": "display_data"
    }
   ],
   "source": [
    "plt.plot(x,y) # on génère une courbe reliant les points\n",
    "plt.show() # on affiche le graphique"
   ]
  },
  {
   "cell_type": "markdown",
   "metadata": {},
   "source": [
    "## Exercice 5 : \n",
    "\n",
    "Produire la courbe représentative de la fonction $f(x)=\\log(x)$ entre 0 et $30$.\n",
    "\n",
    "Algorithme :\n",
    "- Créer une liste `x` allant de 0 à $30$ à l'aide de la fonction `range`\n",
    "- Parcourir cette liste et calculer $\\log(x)$\n",
    "- Ajouter ce résultat dans une liste `y`\n",
    "- Utiliser la fonction `scatter` ou `plot` de matplotlib pour afficher les points (`y` vs `x`)"
   ]
  },
  {
   "cell_type": "code",
   "execution_count": null,
   "metadata": {},
   "outputs": [],
   "source": []
  },
  {
   "cell_type": "markdown",
   "metadata": {},
   "source": [
    "-------\n",
    "## Exercice 6 : \n",
    "\n",
    "Ecrire une fonction qui calcule le produit vectoriel de deux vecteurs. Les paramètres d'entrée seront deux `list` (`vec1`,`vec2`) et le résultat sera également une liste. Chaque liste contient les trois coordonnées du vecteur. On rappelle que le produit vectoriel est donné par :\n",
    "\n",
    "<img src=\"http://lappweb.in2p3.fr/~maurin/expl201/ProdVectoriel.png\" alt=\"drawing\" width=\"200\"/>"
   ]
  },
  {
   "cell_type": "code",
   "execution_count": null,
   "metadata": {},
   "outputs": [],
   "source": []
  },
  {
   "cell_type": "markdown",
   "metadata": {},
   "source": [
    "Tester ensuite votre fonction avec $u = (1,0,0)$ et $u = (0,1,0)$ "
   ]
  },
  {
   "cell_type": "code",
   "execution_count": null,
   "metadata": {},
   "outputs": [],
   "source": []
  },
  {
   "cell_type": "markdown",
   "metadata": {},
   "source": [
    "## Exercice 7 : Tableau périodique\n",
    "\n",
    "Chaque élément de la liste suivante est une liste à deux éléments, contenant le symbole et le numéro atomique Z d'une espèce atomique.\n",
    "\n",
    "Atomes = [[\"Fer\",26],[\"Ag\",47],[\"Ca\",20],[\"Al\",13],[\"Ne\",10],[\"O\",8],]\n",
    "\n",
    "Ajouter à cette liste l'or de symbole \"Au\" et Z=79 puis afficher la liste complétée."
   ]
  },
  {
   "cell_type": "code",
   "execution_count": null,
   "metadata": {},
   "outputs": [],
   "source": [
    "Atomes = [[\"Fer\",26],[\"Ag\",47],[\"Ca\",20],[\"Al\",13],[\"Ne\",10],[\"O\",8]]"
   ]
  },
  {
   "cell_type": "markdown",
   "metadata": {},
   "source": [
    "Pour trier par ordre alphabétique du nom d'élément, on peut utiliser la fonction `sorted`"
   ]
  },
  {
   "cell_type": "code",
   "execution_count": 55,
   "metadata": {},
   "outputs": [
    {
     "data": {
      "text/plain": [
       "[['Ag', 47],\n",
       " ['Al', 13],\n",
       " ['Au', 79],\n",
       " ['Ca', 20],\n",
       " ['Fer', 26],\n",
       " ['Ne', 10],\n",
       " ['O', 8]]"
      ]
     },
     "execution_count": 55,
     "metadata": {},
     "output_type": "execute_result"
    }
   ],
   "source": [
    "sorted(Atomes)"
   ]
  },
  {
   "cell_type": "markdown",
   "metadata": {},
   "source": [
    "Écrire un programme qui trie les élements chimiques précédents par ordre croissant de numéro atomique.\n",
    "\n",
    "Algorithme :\n",
    "- Écrire un programme qui crée une liste dans laquelle numéro et nom sont inversés :\n",
    "\n",
    "    [[26, 'Fer'], [47, 'Ag'], [20, 'Ca'], [13, 'Al'], [10, 'Ne'], [8, 'O'], [79, 'Au']]\n",
    "\n",
    "- Trier cette nouvelle liste avec la commande `sorted`\n"
   ]
  },
  {
   "cell_type": "code",
   "execution_count": 61,
   "metadata": {},
   "outputs": [],
   "source": [
    "Atomes = [[\"Fer\",26],[\"Ag\",47],[\"Ca\",20],[\"Al\",13],[\"Ne\",10],[\"O\",8],[\"Au\",79]]"
   ]
  },
  {
   "cell_type": "markdown",
   "metadata": {},
   "source": [
    "## Exercice 7bis\n",
    "Chaque élément de la liste suivante est une liste à quatre éléments donnant le prénom, le nom, le prénom, la date de naissance et la date de décès de différentes personnalités du monde de la physique.\n",
    "\n",
    "    liste=(('James Clerk', 'Maxwell', 1831, 1879), ('Albert', 'Einstein', 1879, 1955), ('Isaac', 'Newton', 1643, 1727))\n",
    "\n",
    "Ajouter un élément à la liste pour Lise Meitner (1878-1968) et afficher la liste complète."
   ]
  },
  {
   "cell_type": "code",
   "execution_count": 9,
   "metadata": {},
   "outputs": [],
   "source": [
    "liste=(('James Clerk', 'Maxwell', 1831, 1879), ('Albert', 'Einstein', 1879, 1955), ('Isaac', 'Newton', 1643, 1727))"
   ]
  },
  {
   "cell_type": "markdown",
   "metadata": {},
   "source": [
    "Écrire un programme affichant la liste des noms par ordre de date de naissance croissante, sous la forme\n",
    "\n",
    "    Isaac Newton de 1878 à 1968\n",
    "    James Clerk Maxwell de 1831 à 1879\n",
    "    (etc...)"
   ]
  },
  {
   "cell_type": "code",
   "execution_count": null,
   "metadata": {},
   "outputs": [],
   "source": []
  },
  {
   "cell_type": "markdown",
   "metadata": {},
   "source": [
    "## Exercice 8 : fonction créneaux\n",
    "\n",
    "Tracer une fonction $f(x)$ entre 0 et 10 avec des points tous les 0.1, telle que :\n",
    "\n",
    "- $f(x) = 1$ si la partie entière de $x$ est paire\n",
    "- $f(x) = 0$ si la partie entière de $x$ est impaire\n",
    "\n",
    "<img src=\"http://lappweb.in2p3.fr/~maurin/expl201/Creneaux.png\" alt=\"drawing\" width=\"400\"/>\n",
    "\n",
    "Algorithme :\n",
    "- Créer une liste `entiers` d'entiers de 0 à 100 (`range`)\n",
    "- Parcourir cette liste et créer une seconde liste `x` de nombres entre 0 et 10 par pas de 0.1\n",
    "- Parcourir cette nouvelle liste et tester si la partie entière de chaque élément est paire\n",
    "- Utiliser cette condition pour remplir la liste `y` contenant 1 si la condition est réalisée et 0 sinon\n",
    "- Afficher la courbe (`y` vs `x`) obtenue\n"
   ]
  },
  {
   "cell_type": "code",
   "execution_count": null,
   "metadata": {},
   "outputs": [],
   "source": []
  }
 ],
 "metadata": {
  "kernelspec": {
   "display_name": "Python 3",
   "language": "python",
   "name": "python3"
  },
  "language_info": {
   "codemirror_mode": {
    "name": "ipython",
    "version": 3
   },
   "file_extension": ".py",
   "mimetype": "text/x-python",
   "name": "python",
   "nbconvert_exporter": "python",
   "pygments_lexer": "ipython3",
   "version": "3.6.7"
  }
 },
 "nbformat": 4,
 "nbformat_minor": 4
}
