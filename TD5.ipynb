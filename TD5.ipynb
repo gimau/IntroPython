{
 "cells": [
  {
   "cell_type": "markdown",
   "metadata": {},
   "source": [
    "# Les listes\n",
    "\n",
    "Nous avons vu au TD3 que nous pouvions créer facilement des listes en python. Nous allons voir plus en détail ce qu'il est possible de faire avec ces listes.\n",
    "\n",
    "**`list`** : *objet qui peut contenir plusieurs objets de différent type*\n",
    "\n",
    "## Création d'une liste :\n",
    "\n",
    "### Création simple `[element1,element2...]`\n",
    "\n",
    "Pour fabriquer une liste en python, c'est très simple. Il suffit de mettre les éléments de la liste entre crochet `[]` et de séparer les éléments avec une virgure `,`. Voici un exemple :\n",
    "\n",
    "    maliste = [1,\"lundi\",0.45]\n",
    "    \n",
    "- Il est possible de mélanger les types dans une liste, mais attention à ce que vous ferez après. Ici nous avons un `int`, un `str` entre `\"`et un `float`.\n",
    "\n",
    "\n",
    "### Liste vide (`[]`)\n",
    "On peut aussi créer une liste sans indiquer d'élément :\n",
    "\n",
    "    maliste = []"
   ]
  },
  {
   "cell_type": "code",
   "execution_count": 2,
   "metadata": {},
   "outputs": [
    {
     "data": {
      "text/plain": [
       "list"
      ]
     },
     "execution_count": 2,
     "metadata": {},
     "output_type": "execute_result"
    }
   ],
   "source": [
    "maliste=[] # On crée une liste vide\n",
    "type(maliste)"
   ]
  },
  {
   "cell_type": "markdown",
   "metadata": {},
   "source": [
    "## Accèder à / modifier un élément de la liste\n",
    "\n",
    "On peut accéder aux éléments d'une liste grâce à son son indice :\n",
    "- le premier élement a l'indice $0$\n",
    "- le second a l'indice $1$\n",
    "- le n$^{ième}$ a l'indice $n-1$\n",
    "\n",
    "Ex: "
   ]
  },
  {
   "cell_type": "code",
   "execution_count": 44,
   "metadata": {},
   "outputs": [
    {
     "name": "stdout",
     "output_type": "stream",
     "text": [
      "a\n",
      "d\n"
     ]
    }
   ],
   "source": [
    "maliste = ['a','b','c','d','e','f','g']\n",
    "print(maliste[0])\n",
    "print(maliste[3])"
   ]
  },
  {
   "cell_type": "markdown",
   "metadata": {},
   "source": [
    "Il est alors possible de modifier un élément de la liste. Pour cela on affecte (`=`) une nouvelle valeur à l'élement que l'on veut modifier :"
   ]
  },
  {
   "cell_type": "code",
   "execution_count": 45,
   "metadata": {},
   "outputs": [
    {
     "name": "stdout",
     "output_type": "stream",
     "text": [
      "['a', 'b', 'toto', 'd', 'e', 'f', 'g']\n"
     ]
    }
   ],
   "source": [
    "maliste[2]='toto'\n",
    "print(maliste)"
   ]
  },
  {
   "cell_type": "markdown",
   "metadata": {},
   "source": [
    "Il est également possible d'extraire plusieurs élements concécutifs. On indique entre `[]` l'index du premier élément et celui à partir duquel on s'arrete, en les séparant par `:`"
   ]
  },
  {
   "cell_type": "code",
   "execution_count": 47,
   "metadata": {},
   "outputs": [
    {
     "data": {
      "text/plain": [
       "['b', 'toto']"
      ]
     },
     "execution_count": 47,
     "metadata": {},
     "output_type": "execute_result"
    }
   ],
   "source": [
    "maliste[1:3] # on extrait ici les élément d'index 1 et 2. Le 3 est exclu. "
   ]
  },
  {
   "cell_type": "markdown",
   "metadata": {},
   "source": [
    "## Ajouter un élément dans une liste\n",
    "\n",
    "### Ajout à la fin (`append()`)\n",
    "\n",
    "*Ici nous allons voir quelque chose de nouveau. Nous allons appliquer une fonction qui n'agit que sur un seul type (ici le type `list`). La synthaxe est donc différente de ce que l'on a vu précédemment.*\n",
    "\n",
    "*Pour appeler une fonction associée à un type, on indique le nom de la variable suivie d'un `.` puis le nom de la fonction avec ses arguments.*\n",
    "\n",
    "Pour ajouter un élément à la fin d'une liste, on utilise la **fonction `append()` de la classe `list`**. Cette fonction prend en argument la valeur à ajouter : \n",
    "\n",
    "    maliste.append(\"h\")\n",
    "    \n",
    "Voici un exemple :\n",
    "    "
   ]
  },
  {
   "cell_type": "code",
   "execution_count": 10,
   "metadata": {},
   "outputs": [
    {
     "name": "stdout",
     "output_type": "stream",
     "text": [
      "['a', 'b', 'd', 'e', 'f', 'g', 'h']\n"
     ]
    }
   ],
   "source": [
    "maliste = ['a','b','d','e','f','g']\n",
    "maliste.append(\"h\")\n",
    "print(maliste)"
   ]
  },
  {
   "cell_type": "markdown",
   "metadata": {},
   "source": [
    "### Insertion d'un élément (`insert()`)"
   ]
  },
  {
   "cell_type": "markdown",
   "metadata": {},
   "source": [
    "La fonction `insert()` est également **une fonction associée au type `list`**. Elle prend deux arguments : l'indice où l'on va insérer l'élement, et la valeur que l'on souhaite insérée :\n",
    "\n",
    "    maliste.insert(2,\"c\")\n",
    "\n",
    "Regardons ce que cela donne :"
   ]
  },
  {
   "cell_type": "code",
   "execution_count": 11,
   "metadata": {},
   "outputs": [
    {
     "name": "stdout",
     "output_type": "stream",
     "text": [
      "['a', 'b', 'd', 'e', 'f', 'g', 'h']\n",
      "['a', 'b', 'c', 'd', 'e', 'f', 'g', 'h']\n"
     ]
    }
   ],
   "source": [
    "print(maliste)\n",
    "maliste.insert(2,\"c\")\n",
    "print(maliste)"
   ]
  },
  {
   "cell_type": "markdown",
   "metadata": {},
   "source": [
    "*Remarque : lorsque l'indice d'insertion vaut n, la méthode va décaler les élements d'indice supérieur à n, pour intercaler la valeur supplémentaire.*"
   ]
  },
  {
   "cell_type": "markdown",
   "metadata": {},
   "source": [
    "## Supprimer un élement (`remove()`)\n",
    "\n",
    "La fonction `remove()` associée au type `list` permet de supprimer un élément. Cette fonction prend en argument, **non pas l'indice de l'élément à supprimer, mais l'élément lui-même** :\n",
    "\n",
    "    maliste.remove(\"c\")\n",
    "\n",
    "Exemple :"
   ]
  },
  {
   "cell_type": "code",
   "execution_count": 14,
   "metadata": {},
   "outputs": [
    {
     "name": "stdout",
     "output_type": "stream",
     "text": [
      "['a', 'b', 'c', 'c', 'd', 'e']\n",
      "['a', 'b', 'c', 'd', 'e']\n"
     ]
    }
   ],
   "source": [
    "maliste = ['a','b','c','c','d','e']\n",
    "print(maliste)\n",
    "maliste.remove(\"c\")\n",
    "print(maliste)"
   ]
  },
  {
   "cell_type": "markdown",
   "metadata": {},
   "source": [
    "*On note que s'il y a plusieurs fois le même élément, c'est le premier qui est supprimé.*\n",
    "\n",
    "## Concaténer des listes (`+`)\n",
    "\n",
    "*Nous l'avons déjà beaucoup pratiqué sur les chaînes de caractères (un type de `list`).*\n",
    "\n",
    "Il est possible de concéténer (de mettre bout à bout) des listes grâce à l'opérateur `+`:\n",
    "\n",
    "    maliste1+maliste2\n",
    "    \n",
    "exemple :"
   ]
  },
  {
   "cell_type": "code",
   "execution_count": 24,
   "metadata": {},
   "outputs": [
    {
     "data": {
      "text/plain": [
       "['a', 'b', 'c', 'd', 'e', 'f']"
      ]
     },
     "execution_count": 24,
     "metadata": {},
     "output_type": "execute_result"
    }
   ],
   "source": [
    "maliste1 = [\"a\",\"b\",\"c\"]\n",
    "maliste2 = [\"d\",\"e\",\"f\"]\n",
    "maliste1 + maliste2"
   ]
  },
  {
   "cell_type": "markdown",
   "metadata": {},
   "source": [
    "## Nombre d'éléments dans une liste (`len()`)\n",
    "\n",
    "La fonction `len()` permet de connaître le nombre d'élément d'une liste :\n",
    "\n",
    "    len(maliste)\n",
    "\n",
    "Exemple :"
   ]
  },
  {
   "cell_type": "code",
   "execution_count": 16,
   "metadata": {},
   "outputs": [
    {
     "data": {
      "text/plain": [
       "3"
      ]
     },
     "execution_count": 16,
     "metadata": {},
     "output_type": "execute_result"
    }
   ],
   "source": [
    "maliste = [\"a\",\"b\",\"c\"]\n",
    "len(maliste)"
   ]
  },
  {
   "cell_type": "markdown",
   "metadata": {},
   "source": [
    "## Parcourir une liste :\n",
    "\n",
    "### Avec un boucle `while` :\n",
    "\n",
    "Grâce à la fonction`len()`, nous connaissons le nombre d'éléments de la liste. Il est alors facile d'écrire une boucle `while` pour parcourir notre liste :"
   ]
  },
  {
   "cell_type": "code",
   "execution_count": 18,
   "metadata": {},
   "outputs": [
    {
     "name": "stdout",
     "output_type": "stream",
     "text": [
      "a\n",
      "b\n",
      "c\n",
      "d\n",
      "e\n",
      "f\n"
     ]
    }
   ],
   "source": [
    "liste = ['a', 'b', 'c', 'd', 'e', 'f']\n",
    "i = 0 #initialisation cu compteur\n",
    "\n",
    "while i < len(liste) :\n",
    "    print(liste[i])\n",
    "    i += 1    # ne pas oublier de faire avancer le compteur"
   ]
  },
  {
   "cell_type": "markdown",
   "metadata": {},
   "source": [
    "*Cette méthode n'est pas la plus élégante : elle nécessite entre autre de créer à la main un compteur. On évitera de s'en servir en python. Cette méthode reste cependant la plus utilisée dans les autres langages.*\n",
    "\n",
    "## Avec une boucle `for` :\n",
    "\n",
    "Nous avons déjà vu cela dans le TD3 sur les boucles. Nous allons parcourir la liste en prenant chaque élément, l'un après l'autre :"
   ]
  },
  {
   "cell_type": "code",
   "execution_count": 19,
   "metadata": {},
   "outputs": [
    {
     "name": "stdout",
     "output_type": "stream",
     "text": [
      "a\n",
      "b\n",
      "c\n",
      "d\n",
      "e\n",
      "f\n"
     ]
    }
   ],
   "source": [
    "liste = ['a', 'b', 'c', 'd', 'e', 'f']\n",
    "\n",
    "for element in liste :\n",
    "    print(element)"
   ]
  },
  {
   "cell_type": "markdown",
   "metadata": {},
   "source": [
    "*Ici pas besoin de connaître le nombre d'élément, ni de créer un compteur. C'est bien plus joli. Mais sans compteur, nous ne savons pas à quel élément nous en sommes. Il y a donc une dernière solution.*\n",
    "\n",
    "## Avec une boucle `for` et la fonction `enumerate()` :\n",
    "\n",
    "Il est plus simple de vous présenter un exemple et de le commenter :"
   ]
  },
  {
   "cell_type": "code",
   "execution_count": 22,
   "metadata": {},
   "outputs": [
    {
     "name": "stdout",
     "output_type": "stream",
     "text": [
      "L'élément 0 vaut : a\n",
      "L'élément 1 vaut : b\n",
      "L'élément 2 vaut : c\n",
      "L'élément 3 vaut : d\n",
      "L'élément 4 vaut : e\n",
      "L'élément 5 vaut : f\n"
     ]
    }
   ],
   "source": [
    "liste = ['a', 'b', 'c', 'd', 'e', 'f']\n",
    "\n",
    "for i, element in enumerate(liste) :\n",
    "    print(\"L'élément\",i,\"vaut :\",element)"
   ]
  },
  {
   "cell_type": "markdown",
   "metadata": {},
   "source": [
    "Durant cette boucle `for`, la variable `element` va parcourir tous les élements de la liste pendant que la variable `i` va servir de compteur et prendre ainsi le numéro de l'indice courant."
   ]
  },
  {
   "cell_type": "markdown",
   "metadata": {},
   "source": [
    "Il reste encore plusieurs choses à voir sur les listes, mais faisons dès maintenant quelques applications, pour s'exercer.\n",
    "\n",
    "--------\n",
    "\n",
    "## Exercice 1 : Echange de valeur\n",
    "\n",
    "Ecrire un programme qui échange les valeurs du premier et du dernier élement d'une liste. Ce programme doit fonctionner quelque soit la liste initiale.  "
   ]
  },
  {
   "cell_type": "code",
   "execution_count": 27,
   "metadata": {},
   "outputs": [
    {
     "name": "stdout",
     "output_type": "stream",
     "text": [
      "True\n"
     ]
    }
   ],
   "source": []
  },
  {
   "cell_type": "markdown",
   "metadata": {},
   "source": [
    "## Exercice 2 : Liste symétrique \n",
    "Ecrire un programme qui vérifie si une liste est symétrique (liste identique à la liste à l'envers)"
   ]
  },
  {
   "cell_type": "code",
   "execution_count": null,
   "metadata": {},
   "outputs": [],
   "source": []
  },
  {
   "cell_type": "markdown",
   "metadata": {},
   "source": [
    "## Exercice 3 : Encadrement d'angles [-180,180]\n",
    "Ecrire un code qui remplace les angles de la liste suivante par leurs équivalents entre $[-180,180]$.\n",
    "\n",
    "liste_angle = [1234,17345,-31243,23,245,456,3600]"
   ]
  },
  {
   "cell_type": "code",
   "execution_count": null,
   "metadata": {},
   "outputs": [],
   "source": []
  },
  {
   "cell_type": "markdown",
   "metadata": {},
   "source": [
    "## Exercice 4 : Trier une liste \n",
    "Ecrire une programme qui trie une liste composée de nombres quelconques du plus petit au plus grand nombre *(attention aux petits malins, je vous demande de créer votre propre progamme).*\n",
    "\n",
    "liste = [435,324,456,56,567,-45,546,0,345,2,-5]"
   ]
  },
  {
   "cell_type": "code",
   "execution_count": null,
   "metadata": {},
   "outputs": [],
   "source": []
  },
  {
   "cell_type": "markdown",
   "metadata": {},
   "source": [
    "-----\n",
    "*Reprenons le cours ici.*\n",
    "\n",
    "## Les listes de listes \n",
    "\n",
    "Si l'on relit la définition d'une liste, *objet qui peut contenir plusieurs objets*, rien ne nous empêche de placer des listes dans des listes. Cela donne ceci :"
   ]
  },
  {
   "cell_type": "code",
   "execution_count": 18,
   "metadata": {},
   "outputs": [],
   "source": [
    "maliste = [[\"Fer\",26],[\"Ag\",47],[\"Ca\",20],[\"Al\",13]]"
   ]
  },
  {
   "cell_type": "markdown",
   "metadata": {},
   "source": [
    "Afin de récupérer une sous-liste, on utilise son index :"
   ]
  },
  {
   "cell_type": "code",
   "execution_count": 20,
   "metadata": {},
   "outputs": [
    {
     "name": "stdout",
     "output_type": "stream",
     "text": [
      "['Fer', 26]\n",
      "['Al', 13]\n"
     ]
    }
   ],
   "source": [
    "print(maliste[0])\n",
    "print(maliste[3])"
   ]
  },
  {
   "cell_type": "markdown",
   "metadata": {},
   "source": [
    "Mais il est possible de récupérer directement l'élement d'une sous-liste, en utilisant un premier index pour sélectionner la sous-liste, puis un second pour sélectionner l'élément de la sous-liste :"
   ]
  },
  {
   "cell_type": "code",
   "execution_count": 23,
   "metadata": {},
   "outputs": [
    {
     "name": "stdout",
     "output_type": "stream",
     "text": [
      "26\n",
      "L'élément Fer a 26 protons.\n"
     ]
    }
   ],
   "source": [
    "print(maliste[0][1])\n",
    "print(\"L'élément\",maliste[0][0],\"a\",maliste[0][1],\"protons.\")"
   ]
  },
  {
   "cell_type": "markdown",
   "metadata": {},
   "source": [
    "\n",
    "\n",
    "## Les compréhensions de liste :\n",
    "\n",
    "*The list comprehension* permet de modifier ou de filtrer une liste très facilement.\n",
    "\n",
    "### Opérations simples :\n",
    "Imaginons que nous voulons créer une liste en mettant au carré chaque élément d'une liste d'origine. L'idée qui vient tout de suite à l'esprit est de faire une boucle comme ceci :"
   ]
  },
  {
   "cell_type": "code",
   "execution_count": 33,
   "metadata": {},
   "outputs": [
    {
     "name": "stdout",
     "output_type": "stream",
     "text": [
      "[0, 1, 4, 9, 16, 25]\n"
     ]
    }
   ],
   "source": [
    "liste = [0,1,2,3,4,5] # initialisation\n",
    "carre = [] #initialisation de la liste contenant les carrés\n",
    "\n",
    "for i,elt in enumerate(liste) :\n",
    "    carre.append(liste[i]**2)\n",
    "print(carre)"
   ]
  },
  {
   "cell_type": "markdown",
   "metadata": {},
   "source": [
    "Avec *python*, il est possible de faire cette même boucle en une ligne de commande, que nous commenterons après :"
   ]
  },
  {
   "cell_type": "code",
   "execution_count": 34,
   "metadata": {},
   "outputs": [
    {
     "name": "stdout",
     "output_type": "stream",
     "text": [
      "[0, 1, 4, 9, 16, 25]\n"
     ]
    }
   ],
   "source": [
    "liste = [0,1,2,3,4,5] # initialisation\n",
    "\n",
    "carre = [elt**2 for elt in liste]\n",
    "print(carre)"
   ]
  },
  {
   "cell_type": "markdown",
   "metadata": {},
   "source": [
    "Parcourons la seconde ligne de droite à gauche :\n",
    "\n",
    "- la variable `elt` parcourt les élements de la liste, grâce à la commande `for elt in liste`. \n",
    "- pour chaque élément, on calcule `elt**2`.\n",
    "- les `[]` indiquent que les résultats précédents vont créer une liste\n",
    "- liste que l'on affecte à la variable `carre` grâce à l'opérateur `=`\n",
    "\n",
    "## Filtres sur une liste\n",
    "\n",
    "Il est également possible d'ajouter une condition pour ne sélectionner qu'une partie des élements d'une liste."
   ]
  },
  {
   "cell_type": "code",
   "execution_count": 62,
   "metadata": {},
   "outputs": [
    {
     "name": "stdout",
     "output_type": "stream",
     "text": [
      "[10, 9, 12, 20]\n"
     ]
    }
   ],
   "source": [
    "nombres = [-11,10,9,-8,12,-4,20]\n",
    "\n",
    "nombres_positifs = [elt for elt in nombres if elt > 0]\n",
    "print(nombres_positifs)"
   ]
  },
  {
   "cell_type": "markdown",
   "metadata": {},
   "source": [
    "- ici `elt` parcourt les élements de la liste `nombres` en ne concidérant que les nombres positifs.\n",
    "- pour chaque élement retenu, on retourne sa valeur pour former une nouvelle liste `nombres_positifs`.\n",
    "\n",
    "## Fonctions sur les listes :\n",
    "\n",
    "### Fonctions uselles \n",
    "Il existe plusieurs fonctions usuelles bien pratiques à connaître. Vous allez les découvrir au fur et à mesure. En voici quelques unes. Leur nom est assez explicite :"
   ]
  },
  {
   "cell_type": "code",
   "execution_count": 30,
   "metadata": {},
   "outputs": [
    {
     "data": {
      "text/plain": [
       "[-11, -8, -4, 9, 10, 12, 20]"
      ]
     },
     "execution_count": 30,
     "metadata": {},
     "output_type": "execute_result"
    }
   ],
   "source": [
    "nombres = [-11,10,9,-8,12,-4,20]\n",
    "\n",
    "sum(nombres) # fait les sommes des élements d'une liste\n",
    "max(nombres) # retourne le maximum d'une liste\n",
    "min(nombres) # retourne le minimum d'une liste\n",
    "sorted(nombres) # ordonne du plus petit au plus grand les éléments d'une liste"
   ]
  },
  {
   "cell_type": "markdown",
   "metadata": {},
   "source": [
    "### Fonctions provenant de librairies\n",
    "Il existe plein de librairies s'appliquant aux listes. A vous de les chercher en fonction de vos besoins. En voici une :"
   ]
  },
  {
   "cell_type": "code",
   "execution_count": 65,
   "metadata": {},
   "outputs": [
    {
     "data": {
      "text/plain": [
       "4"
      ]
     },
     "execution_count": 65,
     "metadata": {},
     "output_type": "execute_result"
    }
   ],
   "source": [
    "from statistics import mean, median\n",
    "median(nombres) # retourne la valeur médiane\n",
    "mean(nombres) # retourne la valeur moyenne"
   ]
  },
  {
   "cell_type": "markdown",
   "metadata": {},
   "source": [
    "### Afficher des données numériques\n",
    "*Nous arrivons ici à un point ultra important pour un scientifique, la visualisation. Ici nous allons voir une première façon d'afficher des données.* \n",
    "\n",
    "Nous allons utiliser la librairie **matplotlib** pour afficher notre première courbe à partir de deux listes. Importons cette librairie :"
   ]
  },
  {
   "cell_type": "code",
   "execution_count": 34,
   "metadata": {},
   "outputs": [],
   "source": [
    "import matplotlib.pyplot as plt # on importe la librairie"
   ]
  },
  {
   "cell_type": "markdown",
   "metadata": {},
   "source": [
    "*Si sous linux, cette librairie n'est pas installée, lancer un Terminal puis taper :\n",
    "    python3 -m pip install -U matplotlib --user*\n",
    "\n",
    "Imaginons que nous voulons afficher la fonction $x^2$ entre 0 et 10. Nous allons créer deux listes, une contenant les abscisses, l'autre les ordonnées :"
   ]
  },
  {
   "cell_type": "code",
   "execution_count": 78,
   "metadata": {},
   "outputs": [],
   "source": [
    "x = range(0,10)\n",
    "y = [i*i for i in x]"
   ]
  },
  {
   "cell_type": "markdown",
   "metadata": {},
   "source": [
    "On peut alors afficher `y`en fonction de `x` à l'aide d'un nuage de points :"
   ]
  },
  {
   "cell_type": "code",
   "execution_count": 79,
   "metadata": {},
   "outputs": [
    {
     "data": {
      "image/png": "[encoded data removed]",
      "text/plain": [
       "<Figure size 432x288 with 1 Axes>"
      ]
     },
     "metadata": {
      "needs_background": "light"
     },
     "output_type": "display_data"
    }
   ],
   "source": [
    "plt.scatter(x,y) # on génère un graphique point par point\n",
    "plt.show() # on affiche le graphique"
   ]
  },
  {
   "cell_type": "markdown",
   "metadata": {},
   "source": [
    "On peut également afficher une courbe en remplaçant `scatter` par `plot`"
   ]
  },
  {
   "cell_type": "code",
   "execution_count": 80,
   "metadata": {},
   "outputs": [
    {
     "data": {
      "image/png": "[encoded data removed]",
      "text/plain": [
       "<Figure size 432x288 with 1 Axes>"
      ]
     },
     "metadata": {
      "needs_background": "light"
     },
     "output_type": "display_data"
    }
   ],
   "source": [
    "plt.plot(x,y) # on génère une courbe\n",
    "plt.show() # on affiche le graphique"
   ]
  },
  {
   "cell_type": "markdown",
   "metadata": {},
   "source": [
    "-------\n",
    "## Exercice 5 : \n",
    "\n",
    "Ecrire une fonction qui calcule le produit vectoriel de deux vecteurs. Les paramètres d'entré seront deux `list` (`vec1`,`vec2`) et le résultat sera également une liste. On rappelle que le produit vectoriel est donné par :\n",
    "\n",
    "<img src=\"http://lappweb.in2p3.fr/~maurin/expl201/ProdVectoriel.png\" alt=\"drawing\" width=\"200\"/>"
   ]
  },
  {
   "cell_type": "code",
   "execution_count": null,
   "metadata": {},
   "outputs": [],
   "source": []
  },
  {
   "cell_type": "markdown",
   "metadata": {},
   "source": [
    "## Exercice 6 : Tableau périodique\n",
    "\n",
    "Atomes = [[\"Fer\",26],[\"Ag\",47],[\"Ca\",20],[\"Al\",13],[\"Ne\",10],[\"O\",8],[\"Au\",79]]\n",
    "\n",
    "Ecrire un programme qui trie les élements chimiques précédents par ordre croissant de numéro atomique."
   ]
  },
  {
   "cell_type": "code",
   "execution_count": null,
   "metadata": {},
   "outputs": [],
   "source": []
  },
  {
   "cell_type": "markdown",
   "metadata": {},
   "source": [
    "## Exercice 7 : fonction créneaux\n",
    "\n",
    "Tracer une fonction $f(x)$ entre 0 et 10 avec des points tous les 0.1, telle que :\n",
    "\n",
    "- $f(x) = 1$ si la partie entière de $x$ est paire\n",
    "- $f(x) = 0$ si la partie entière de $x$ est impaire"
   ]
  },
  {
   "cell_type": "code",
   "execution_count": null,
   "metadata": {},
   "outputs": [],
   "source": []
  }
 ],
 "metadata": {
  "kernelspec": {
   "display_name": "Python 3",
   "language": "python",
   "name": "python3"
  },
  "language_info": {
   "codemirror_mode": {
    "name": "ipython",
    "version": 3
   },
   "file_extension": ".py",
   "mimetype": "text/x-python",
   "name": "python",
   "nbconvert_exporter": "python",
   "pygments_lexer": "ipython3",
   "version": "3.6.6"
  }
 },
 "nbformat": 4,
 "nbformat_minor": 2
}
