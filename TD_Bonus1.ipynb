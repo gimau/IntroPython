{
 "cells": [
  {
   "cell_type": "markdown",
   "id": "bab6cc3f-54cf-4899-950f-05adef2c34ba",
   "metadata": {},
   "source": [
    "Ce TD bonus contient plusieurs notions et techniques bien pratiques qui ne sont pas liées en elles."
   ]
  },
  {
   "cell_type": "markdown",
   "id": "33b3b18e-bf83-4542-bd95-09335c39d3eb",
   "metadata": {},
   "source": [
    "# Les dictionnaires\n",
    "\n",
    "Lorsque vous utilisez `pandas`, vous utilisez ce que l'on appelle un dictionnaire `python`.  \n",
    "\n",
    "C'est une façon particulièrement pratique de stocker différentes données dans une seule variable et d'accéder facilement à chaque sous-élément grâce à une clef unique. Voici un exemple de dictionnaire :"
   ]
  },
  {
   "cell_type": "code",
   "execution_count": 23,
   "id": "bd401ca5-0eba-4643-9680-731db39e7652",
   "metadata": {},
   "outputs": [],
   "source": [
    "mydict = {\n",
    "    \"age\": 12,\n",
    "    \"poids\": 43\n",
    "}"
   ]
  },
  {
   "cell_type": "markdown",
   "id": "ab36d7ba-2a1e-4e5b-bc60-7e3db11c5319",
   "metadata": {},
   "source": [
    "On voit que poir créer un dictionnaire, il faut utiliser des `{}`. On donne ensuite une clef entre `\"\"` puis après `:`on donne la valeur. Il est enseuite possible d'ajouter une seconde donnée après une virgule. Pour chaque entrée du dictionnaire, il faut :\n",
    "\n",
    "        \"clé\" : valeur\n",
    "\n",
    "Une fois le dictionnaire crée en mémoire, il est possible d'y accéder de la façon suivante :\n",
    "\n",
    "- le dictionnaire complet :"
   ]
  },
  {
   "cell_type": "code",
   "execution_count": 3,
   "id": "c479d3ae-d5d9-4095-a18d-0cb3fb079989",
   "metadata": {},
   "outputs": [
    {
     "data": {
      "text/plain": [
       "{'age': 12, 'poids': 43}"
      ]
     },
     "execution_count": 3,
     "metadata": {},
     "output_type": "execute_result"
    }
   ],
   "source": [
    "mydict "
   ]
  },
  {
   "cell_type": "markdown",
   "id": "2578dc43-6e51-4677-962c-e6684f41ab20",
   "metadata": {},
   "source": [
    "- une seule entrée, on donne le nom de la variable puis entre `[]`le nom de la clef :"
   ]
  },
  {
   "cell_type": "code",
   "execution_count": 4,
   "id": "79630800-73f7-40f8-8ad6-96e7947ebb86",
   "metadata": {},
   "outputs": [
    {
     "data": {
      "text/plain": [
       "12"
      ]
     },
     "execution_count": 4,
     "metadata": {},
     "output_type": "execute_result"
    }
   ],
   "source": [
    "mydict[\"age\"]"
   ]
  },
  {
   "cell_type": "markdown",
   "id": "7ad5b6fe-8413-49c3-8112-3a0331948bcb",
   "metadata": {},
   "source": [
    "Dans l'exemple précédent, nous avons stocké des variables *simples*, mais il est possible de mettre des `listes`, des `ndarray`. \n",
    "Voici un exemple où l'on place deux listes dans un dictonnaire :"
   ]
  },
  {
   "cell_type": "code",
   "execution_count": 15,
   "id": "4737a73e-1242-422e-a3de-40e016dbf2ac",
   "metadata": {},
   "outputs": [
    {
     "name": "stdout",
     "output_type": "stream",
     "text": [
      "{'x': [1, 2, 3, 4, 5, 6, 7, 8, 9], 'y': [1, 4, 9, 16, 25, 36, 49, 64, 81]}\n"
     ]
    }
   ],
   "source": [
    "x = [1, 2, 3, 4, 5, 6, 7, 8, 9]\n",
    "y = [1, 4, 9, 16, 25, 36, 49, 64, 81]\n",
    "\n",
    "parabole = {\n",
    "    \"x\": x,\n",
    "    \"y\": y\n",
    "}\n",
    "\n",
    "print(parabole)"
   ]
  },
  {
   "cell_type": "markdown",
   "id": "7d3e1c4e-94b5-47df-a054-f331faff62d3",
   "metadata": {},
   "source": [
    "Ici, il est possible de récupérer une liste, et même de la modifier :"
   ]
  },
  {
   "cell_type": "code",
   "execution_count": 16,
   "id": "db576b81-183a-44a7-9c10-4c550a3e8fd2",
   "metadata": {},
   "outputs": [
    {
     "name": "stdout",
     "output_type": "stream",
     "text": [
      "[1, 2, 3, 4, 5, 6, 7, 8, 9]\n",
      "[1, 2, 3, 4, 5, 6, 7, 8, 9, 10]\n",
      "[1, 2, 3, 10000, 5, 6, 7, 8, 9, 10]\n"
     ]
    }
   ],
   "source": [
    "print(parabole[\"x\"])\n",
    "\n",
    "parabole[\"x\"].append(10)  # on ajoute une valeur\n",
    "print(parabole[\"x\"])\n",
    "\n",
    "parabole[\"x\"][3] = 10000  # on modifie la valeur contenue dans l'indice 3\n",
    "print(parabole[\"x\"])\n"
   ]
  },
  {
   "cell_type": "markdown",
   "id": "b3ab5df5-973f-4ecf-9e5a-ab4ad2ea7eb5",
   "metadata": {},
   "source": [
    "# Affichage formaté\n",
    "\n",
    "La fonction `print()` permet d'afficher la valeur d'une variable de façon simple.\n",
    "Pour cela il faut effectuer deux choses :\n",
    "- on ajoute `f`avant le premier `\"` pour indiquer à la fonction `print()` que le texte est *formaté*.\n",
    "- on indique dans la châine de caractère la ou les variables à afficher en les entourant d'accolades `{}` \n",
    "\n",
    "Voici un exemple où l'on affiche la valeur contenue dans la variable `a`:"
   ]
  },
  {
   "cell_type": "code",
   "execution_count": 4,
   "id": "06d225fe-522c-49bc-85c1-cf76030d2e1a",
   "metadata": {},
   "outputs": [
    {
     "name": "stdout",
     "output_type": "stream",
     "text": [
      "La variable contient 10.\n"
     ]
    }
   ],
   "source": [
    "a = 10\n",
    "\n",
    "print(f\"La variable contient {a}.\")"
   ]
  },
  {
   "cell_type": "markdown",
   "id": "cb6144d3-8e80-4408-9f45-dcc1468189bb",
   "metadata": {},
   "source": [
    "Vous pouvez également faire des opérations entre les accolades. Voici un exemple :"
   ]
  },
  {
   "cell_type": "code",
   "execution_count": 6,
   "id": "cec5a9bc-a526-4035-905b-ffd1e23686f7",
   "metadata": {},
   "outputs": [
    {
     "name": "stdout",
     "output_type": "stream",
     "text": [
      "La somme des variables est 15.\n"
     ]
    }
   ],
   "source": [
    "a = 10\n",
    "b = 5\n",
    "\n",
    "print(f\"La somme des variables est {a+b}.\")"
   ]
  },
  {
   "cell_type": "markdown",
   "id": "d0210844-51c2-4496-84f5-63ba5e890acc",
   "metadata": {},
   "source": [
    "Vous pouvez également préciser le nombre de décimales à afficher de la façon suivante :\n",
    "\n",
    "        {variable:.2f} # pour indiquer 2 décimales"
   ]
  },
  {
   "cell_type": "code",
   "execution_count": 20,
   "id": "28f40ac9-9a84-4b42-a853-84ce06ea13e3",
   "metadata": {},
   "outputs": [
    {
     "name": "stdout",
     "output_type": "stream",
     "text": [
      "Chiffre avec 3 décimales : 12.346\n",
      "Mais cela ne modifie pas le valeur de a : 12.34567\n"
     ]
    }
   ],
   "source": [
    "a = 12.34567  # Exemple de définition\n",
    "print(f\"Chiffre avec 3 décimales : {a:.3f}\")\n",
    "print(f\"Mais cela ne modifie pas le valeur de a : {a}\")\n"
   ]
  },
  {
   "cell_type": "markdown",
   "id": "e8ed5179-d786-4dd2-ae24-d0280b2536f5",
   "metadata": {},
   "source": [
    "# Conditions connues (`match... case...`)\n",
    "\n",
    "Nous avons vu très tôt dans ce cours la structure `if... elif... else...` qui permet d'exécuter une portion de code en fonction du résultat d'un ou plusieurs tests. On appelle cela une structure conditionnelle.\n",
    "\n",
    "Il existe une seconde structure conditionnelle que l'on utilise lorsque les résultats attendues sont précisemment connus.\n",
    "\n",
    "Voici un exemple très très simple, où l'on teste si x vaut 1, 2 ou 3. Si x est différent de ces 3 cas, le test `case _` correspond au `else`."
   ]
  },
  {
   "cell_type": "code",
   "execution_count": 2,
   "id": "8b16a369-18db-4730-8f19-cc8996d8d7b8",
   "metadata": {},
   "outputs": [
    {
     "name": "stdout",
     "output_type": "stream",
     "text": [
      "x vaut 1\n"
     ]
    }
   ],
   "source": [
    "x = 1\n",
    "\n",
    "match x:\n",
    "    case 1:\n",
    "        print(\"x vaut 1\")\n",
    "    case 2:\n",
    "        print(\"x vaut 2\")\n",
    "    case 3:\n",
    "        print(\"x vaut 3\")\n",
    "    case _:\n",
    "        print(\"x vaut être chose\")"
   ]
  },
  {
   "cell_type": "markdown",
   "id": "212b80ad-f300-48a1-a382-e4ced9ff3de7",
   "metadata": {},
   "source": [
    "Il est possible de regouper plusieurs cas grâce à `|` qui va agir comme un `or`. Voici un petit exemple."
   ]
  },
  {
   "cell_type": "code",
   "execution_count": 3,
   "id": "190e757d-a95c-478d-b6c9-6301a240dc91",
   "metadata": {},
   "outputs": [
    {
     "name": "stdout",
     "output_type": "stream",
     "text": [
      "x est un chiffre pair.\n"
     ]
    }
   ],
   "source": [
    "x = 2\n",
    "\n",
    "match x:\n",
    "    case 1 | 3 | 5 | 7 | 9:\n",
    "        print(\"x est un chiffre impair.\")\n",
    "    case 2 | 4 | 6 | 8:\n",
    "        print(\"x est un chiffre pair.\")\n",
    "    case _:\n",
    "        print(\"x est un nombre\")\n"
   ]
  },
  {
   "cell_type": "markdown",
   "id": "a568991c-fd3e-41c7-b404-9e84630391c7",
   "metadata": {},
   "source": [
    "# Fonction courte (`lambda`)\n",
    "\n",
    "Nous avons vu comment créer nos propres fonctions, grâce au  mot clef `def`.\n",
    "\n",
    "Il est également possible de créer des fonctions simples en une ligne de commande, grâce au mot clef `lambda`. Les fonctions `lambda` sont souvent utilisées pour des opérations simples et de courte durée, surtout lorsqu'elles sont passées en tant qu'argument à une autre fonction.\n",
    "\n",
    "La structure `lambda` est la suivante :\n",
    "\n",
    "    nom_func = lambda var_in: expression\n",
    "\n",
    "Voici un exemple de fonction écrite avec `def` puis réécrite avec `lambda`:"
   ]
  },
  {
   "cell_type": "code",
   "execution_count": 8,
   "id": "00ec321b-9af1-45af-8805-01149e80c77e",
   "metadata": {},
   "outputs": [
    {
     "name": "stdout",
     "output_type": "stream",
     "text": [
      "4\n"
     ]
    }
   ],
   "source": [
    "# version avec def\n",
    "def f(x):\n",
    "    return x**2\n",
    "\n",
    "\n",
    "print(f(2))"
   ]
  },
  {
   "cell_type": "code",
   "execution_count": 7,
   "id": "ed39a57d-60b1-40a2-8fda-ac56698c37ac",
   "metadata": {},
   "outputs": [
    {
     "name": "stdout",
     "output_type": "stream",
     "text": [
      "4\n"
     ]
    }
   ],
   "source": [
    "# version avec lambda\n",
    "f = lambda x: x**2\n",
    "\n",
    "print(f(2))"
   ]
  },
  {
   "cell_type": "markdown",
   "id": "a33759db-fc83-4bdb-aa26-bb21c69bb6bc",
   "metadata": {},
   "source": [
    "Il est tout à fait possible de donner plusieurs arguments avec des valeurs par défauts à la fonction. Voici un exemple :"
   ]
  },
  {
   "cell_type": "code",
   "execution_count": 11,
   "id": "3ae4049c-c686-421d-9ed5-b0d8e0f7fe03",
   "metadata": {},
   "outputs": [
    {
     "name": "stdout",
     "output_type": "stream",
     "text": [
      "171\n",
      "324\n",
      "123\n"
     ]
    }
   ],
   "source": [
    "poly = lambda x, a=1, b=2, c=3: a * x**2 + b * x + c\n",
    "\n",
    "print(poly(12))\n",
    "print(poly(12,2,3,0))\n",
    "print(poly(12,b=-2))"
   ]
  },
  {
   "cell_type": "markdown",
   "id": "f8929f80-26b1-4c10-a820-2ad6ad82ea90",
   "metadata": {},
   "source": [
    "# Le mot clef (`yield`)\n",
    "\n",
    "Nous avons vu que pour qu'une fonction renvoit quelque chose, il fallait utiliser le mot clef `return`. Dans certaine situation, il est possible de remplacer ce mot clef par `yield`. Voici la différence entre ces deux mot clef :\n",
    "\n",
    "- `return` : Lorsque `return` est utilisé dans une fonction, il renvoie une valeur et termine l'exécution de la fonction. Après un `return`, la fonction ne peut pas être reprise à partir de l'endroit où elle s'est arrêtée.\n",
    "\n",
    "- `yield` : Lorsqu'une fonction utilise `yield`, elle devient un générateur. Au lieu de renvoyer une seule valeur et de se terminer, elle peut produire une série de valeurs. Lorsqu'une valeur est produite avec `yield`, l'exécution de la fonction est suspendue, et la fonction peut reprendre là où elle s'est arrêtée pour produire d'autres valeurs.\n",
    "\n",
    "Voici un exemple simple d'utilisation :"
   ]
  },
  {
   "cell_type": "code",
   "execution_count": 14,
   "id": "d80378c0-891c-4764-97b9-8bf66d464681",
   "metadata": {},
   "outputs": [
    {
     "name": "stdout",
     "output_type": "stream",
     "text": [
      "<generator object generate_numbers at 0x11186d6f0>\n",
      "1\n",
      "2\n",
      "3\n"
     ]
    }
   ],
   "source": [
    "# définition de notre générateur \n",
    "def generate_numbers():\n",
    "    yield 1\n",
    "    yield 2\n",
    "    yield 3\n",
    "\n",
    "# on crée ensuite notre générateur en le plaçant dans une variable \n",
    "gen = generate_numbers()\n",
    "print(gen)\n",
    "\n",
    "# pour générer la première sortie, on utilise la fonction next() :\n",
    "print(next(gen))\n",
    "\n",
    "# si on exécute une seconde fois cette ligne, nous aurons la deuxième sortie\n",
    "print(next(gen))\n",
    "\n",
    "# et ainsi de suite :\n",
    "print(next(gen))"
   ]
  },
  {
   "cell_type": "markdown",
   "id": "b14ea2c1-e1d3-4adc-a7ed-1cc3a7fe4ff0",
   "metadata": {},
   "source": [
    "Le plus souvent, `yield` est utilisé dans une boucle. Voici un exemple :"
   ]
  },
  {
   "cell_type": "code",
   "execution_count": 18,
   "id": "ec2fe4af-094f-44c1-8a5c-118b0213e143",
   "metadata": {},
   "outputs": [
    {
     "name": "stdout",
     "output_type": "stream",
     "text": [
      "[1, 1]\n",
      "[2, 2]\n",
      "[3, 6]\n",
      "[4, 24]\n",
      "[5, 120]\n"
     ]
    }
   ],
   "source": [
    "# création d'une fonction factorielle avec un yield.\n",
    "def factorial_generator(n):\n",
    "    result = 1\n",
    "    for i in range(1, n + 1):\n",
    "        result *= i\n",
    "        yield [i, result]\n",
    "\n",
    "# Exemple d'utilisation : a chaque appel on calcule la valeur suivante\n",
    "for value in factorial_generator(5):\n",
    "    print(value)\n"
   ]
  },
  {
   "cell_type": "markdown",
   "id": "070fe996-ea17-47d6-997b-0d6af8af5210",
   "metadata": {},
   "source": [
    "# Mot clef `assert`\n",
    "\n",
    "En Python, le mot-clé `assert` est utilisé pour effectuer des vérifications dans le code. Il permet de tester si une condition est vraie et, si ce n'est pas le cas, de générer une exception AssertionError. Cela est principalement utilisé pour le débogage et pour garantir que certaines conditions sont remplies pendant l'exécution du programme.\n",
    "\n",
    "    assert condition, \"message d'erreur\"\n"
   ]
  },
  {
   "cell_type": "code",
   "execution_count": 20,
   "id": "f3d7e12e-a553-400b-8491-7249c043129a",
   "metadata": {},
   "outputs": [
    {
     "name": "stdout",
     "output_type": "stream",
     "text": [
      "5.0\n"
     ]
    },
    {
     "ename": "AssertionError",
     "evalue": "La division par zéro n'est pas autorisée",
     "output_type": "error",
     "traceback": [
      "\u001b[0;31m---------------------------------------------------------------------------\u001b[0m",
      "\u001b[0;31mAssertionError\u001b[0m                            Traceback (most recent call last)",
      "Cell \u001b[0;32mIn[20], line 7\u001b[0m\n\u001b[1;32m      5\u001b[0m \u001b[38;5;66;03m# Test\u001b[39;00m\n\u001b[1;32m      6\u001b[0m \u001b[38;5;28mprint\u001b[39m(divide(\u001b[38;5;241m10\u001b[39m, \u001b[38;5;241m2\u001b[39m))  \u001b[38;5;66;03m# Fonctionne correctement\u001b[39;00m\n\u001b[0;32m----> 7\u001b[0m \u001b[38;5;28mprint\u001b[39m(divide(\u001b[38;5;241m10\u001b[39m, \u001b[38;5;241m0\u001b[39m))\n",
      "Cell \u001b[0;32mIn[20], line 2\u001b[0m, in \u001b[0;36mdivide\u001b[0;34m(a, b)\u001b[0m\n\u001b[1;32m      1\u001b[0m \u001b[38;5;28;01mdef\u001b[39;00m \u001b[38;5;21mdivide\u001b[39m(a, b):\n\u001b[0;32m----> 2\u001b[0m     \u001b[38;5;28;01massert\u001b[39;00m b \u001b[38;5;241m!=\u001b[39m \u001b[38;5;241m0\u001b[39m, \u001b[38;5;124m\"\u001b[39m\u001b[38;5;124mLa division par zéro n\u001b[39m\u001b[38;5;124m'\u001b[39m\u001b[38;5;124mest pas autorisée\u001b[39m\u001b[38;5;124m\"\u001b[39m\n\u001b[1;32m      3\u001b[0m     \u001b[38;5;28;01mreturn\u001b[39;00m a \u001b[38;5;241m/\u001b[39m b\n",
      "\u001b[0;31mAssertionError\u001b[0m: La division par zéro n'est pas autorisée"
     ]
    }
   ],
   "source": [
    "def divide(a, b):\n",
    "    assert b != 0, \"La division par zéro n'est pas autorisée\"\n",
    "    return a / b\n",
    "\n",
    "# Test\n",
    "print(divide(10, 2))  # Fonctionne correctement\n",
    "print(divide(10, 0))  # Échoue avec AssertionError\n"
   ]
  },
  {
   "cell_type": "markdown",
   "id": "1c604275-c53d-4bdb-9be2-0a0d89887a63",
   "metadata": {},
   "source": [
    "Dans cet exemple, l'assertion vérifie que `b` n'est pas zéro avant de procéder à la division. Si `b` est nul, une exception AssertionError est levée avec le message spécifié.\n",
    "\n",
    "Cela génère une erreur explicite."
   ]
  },
  {
   "cell_type": "code",
   "execution_count": null,
   "id": "51da0763-b3d0-446b-b500-28cef6d88695",
   "metadata": {},
   "outputs": [],
   "source": []
  }
 ],
 "metadata": {
  "kernelspec": {
   "display_name": "Python 3 (ipykernel)",
   "language": "python",
   "name": "python3"
  },
  "language_info": {
   "codemirror_mode": {
    "name": "ipython",
    "version": 3
   },
   "file_extension": ".py",
   "mimetype": "text/x-python",
   "name": "python",
   "nbconvert_exporter": "python",
   "pygments_lexer": "ipython3",
   "version": "3.12.3"
  }
 },
 "nbformat": 4,
 "nbformat_minor": 5
}
