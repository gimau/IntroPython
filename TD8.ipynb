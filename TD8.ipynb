{
 "cells": [
  {
   "cell_type": "markdown",
   "metadata": {},
   "source": [
    "# Numpy Array\n",
    "\n",
    "Ce petit TP concerne une type numérique très pratique, les `ndarray` fournis par *numpy*. \n",
    "\n",
    "De façon rapide, un `ndarray`est une liste qui ne contient qu'un seul type de variable (que des `float`, que des `int`...). L'avantage est qu'il permet des manipulations numériques que ne permet pas les listes. \n",
    "\n",
    "## Créer un `ndarray`\n",
    "\n",
    "Après avoir impoter la librairie *numpy*, il suffit d'utiliser la fonction `array()` pour convertir une liste `list`\n",
    " en `ndarray` :"
   ]
  },
  {
   "cell_type": "code",
   "execution_count": 4,
   "metadata": {},
   "outputs": [
    {
     "name": "stdout",
     "output_type": "stream",
     "text": [
      "[1 2 3 4] <class 'numpy.ndarray'>\n"
     ]
    }
   ],
   "source": [
    "import numpy as np\n",
    "\n",
    "liste = [1,2,3,4]\n",
    "\n",
    "ndliste = np.array(liste)\n",
    "print(ndliste,type(ndliste))\n"
   ]
  },
  {
   "cell_type": "markdown",
   "metadata": {},
   "source": [
    "La fonction `zeros(n)` permet de créer un `ndarray` composé de `n` valeurs nulles :"
   ]
  },
  {
   "cell_type": "code",
   "execution_count": 8,
   "metadata": {},
   "outputs": [
    {
     "name": "stdout",
     "output_type": "stream",
     "text": [
      "[ 0.  0.  0.  0.  0.  0.  0.  0.  0.  0.]\n"
     ]
    }
   ],
   "source": [
    "nul = np.zeros(10)\n",
    "print(nul)"
   ]
  },
  {
   "cell_type": "markdown",
   "metadata": {},
   "source": [
    "Il est également possible de créer des `ndarray` à partir de fonctions biens pratiques :\n",
    "\n",
    "La fonction `arange(debut,fin,pas)` (analogue à `range()`) un `ndarray` des valeurs réparties les deux bornes (`debut,fin`) avec un pas fixé (`pas`) : "
   ]
  },
  {
   "cell_type": "code",
   "execution_count": 7,
   "metadata": {},
   "outputs": [
    {
     "name": "stdout",
     "output_type": "stream",
     "text": [
      "[ 1  4  7 10 13 16 19 22 25 28 31 34 37 40 43 46 49]\n"
     ]
    }
   ],
   "source": [
    "nb = np.arange(1,50,3) \n",
    "print(nb)"
   ]
  },
  {
   "cell_type": "markdown",
   "metadata": {},
   "source": [
    "La fonction `linspace(debut,fin,n)` génère un `ndarray` de `n` nombre de valeurs uniformément réparties entre les bornes (`debut,fin`) :"
   ]
  },
  {
   "cell_type": "code",
   "execution_count": 9,
   "metadata": {},
   "outputs": [
    {
     "name": "stdout",
     "output_type": "stream",
     "text": [
      "[  0.          16.66666667  33.33333333  50.        ]\n"
     ]
    }
   ],
   "source": [
    "nb = np.linspace(0,50,4) \n",
    "print(nb)"
   ]
  },
  {
   "cell_type": "markdown",
   "metadata": {},
   "source": [
    "La fonction `zeros.like(array)` permet de créer un `ndarray` de `0` ayant la même taille que `array` :"
   ]
  },
  {
   "cell_type": "code",
   "execution_count": 10,
   "metadata": {},
   "outputs": [
    {
     "name": "stdout",
     "output_type": "stream",
     "text": [
      "[ 0.  0.  0.  0.]\n"
     ]
    }
   ],
   "source": [
    "nul = np.zeros_like(nb)\n",
    "print(nul)"
   ]
  },
  {
   "cell_type": "markdown",
   "metadata": {},
   "source": [
    "Il est possible d'utiliser ces mêmes fonctions pour créer des matrices ($n \\times m$) :"
   ]
  },
  {
   "cell_type": "code",
   "execution_count": 12,
   "metadata": {},
   "outputs": [
    {
     "name": "stdout",
     "output_type": "stream",
     "text": [
      "[[ 0.  0.  0.]\n",
      " [ 0.  0.  0.]]\n"
     ]
    }
   ],
   "source": [
    "mat = np.zeros((2,3))\n",
    "print(mat)"
   ]
  },
  {
   "cell_type": "markdown",
   "metadata": {},
   "source": [
    "Enfin, il est possible de créer des `ndarray` avec des nombres aléatoires. Il existe plusieurs fonctions pour effectuer le tirage :"
   ]
  },
  {
   "cell_type": "code",
   "execution_count": 52,
   "metadata": {},
   "outputs": [
    {
     "name": "stdout",
     "output_type": "stream",
     "text": [
      "[-0.45432073  1.19188413 -1.1259179   0.54479408 -1.7294817 ]\n"
     ]
    }
   ],
   "source": [
    "x = np.random.randint(low=10, high=30, size=6) # 6 nombres tirés aléatoirement entre 10 et 30\n",
    "x = np.random.normal(size=5) # 5 Nombres sur une loi normal...\n",
    "print(x)"
   ]
  },
  {
   "cell_type": "markdown",
   "metadata": {},
   "source": [
    "## Opérations mathématiques :\n",
    "\n",
    "Si deux `ndarray` ont la même taille, il est possible de faire des opérations mathématiques :"
   ]
  },
  {
   "cell_type": "code",
   "execution_count": 19,
   "metadata": {},
   "outputs": [
    {
     "name": "stdout",
     "output_type": "stream",
     "text": [
      "[0 1 2 3 4 5 6 7 8 9]\n",
      "[ 0  2  4  6  8 10 12 14 16 18]\n"
     ]
    }
   ],
   "source": [
    "tab = np.arange(0,10,1)\n",
    "print(tab)\n",
    "tab2 = tab *2 # on multiplie tous les élements par 2\n",
    "print(tab2)"
   ]
  },
  {
   "cell_type": "code",
   "execution_count": 20,
   "metadata": {},
   "outputs": [
    {
     "name": "stdout",
     "output_type": "stream",
     "text": [
      "[ 0  3  6  9 12 15 18 21 24 27]\n"
     ]
    }
   ],
   "source": [
    "tab3 = tab + tab2 # on additionne deux ndarray\n",
    "print(tab3)"
   ]
  },
  {
   "cell_type": "code",
   "execution_count": 23,
   "metadata": {},
   "outputs": [
    {
     "name": "stdout",
     "output_type": "stream",
     "text": [
      "[  0   2   8  18  32  50  72  98 128 162]\n"
     ]
    }
   ],
   "source": [
    "tab3 = tab * tab2 # On multiplie deux ndarray\n",
    "print(tab3)"
   ]
  },
  {
   "cell_type": "markdown",
   "metadata": {},
   "source": [
    "Petit exemple. Imaginons que l'on veuille afficher la fonction $sin(x)$ entre 0 et 10 avec un pas de 0.1 :"
   ]
  },
  {
   "cell_type": "code",
   "execution_count": 35,
   "metadata": {},
   "outputs": [
    {
     "data": {
      "image/png": "[encoded data removed]",
      "text/plain": [
       "<Figure size 432x288 with 1 Axes>"
      ]
     },
     "metadata": {
      "needs_background": "light"
     },
     "output_type": "display_data"
    }
   ],
   "source": [
    "import matplotlib.pyplot as plt\n",
    "\n",
    "x = np.arange(0,10,0.1)\n",
    "y = np.sin(x)\n",
    "\n",
    "plt.plot(x,y,label=\"sin(x)\")\n",
    "plt.legend()\n",
    "plt.xlabel(\"x\")\n",
    "plt.ylabel(\"f(x)\")\n",
    "plt.show()"
   ]
  },
  {
   "cell_type": "markdown",
   "metadata": {},
   "source": [
    "C'est bien plus facile que les listes, non ?\n",
    "\n"
   ]
  },
  {
   "cell_type": "markdown",
   "metadata": {},
   "source": [
    "## Des listes commes les autres :\n",
    "\n",
    "Les `ndarray` sont des listes comme les autres. Vous pouvez utiliser `for` , la conpréhension de liste et récupérer un élement $n$ avec `[n]` :"
   ]
  },
  {
   "cell_type": "code",
   "execution_count": 51,
   "metadata": {},
   "outputs": [
    {
     "name": "stdout",
     "output_type": "stream",
     "text": [
      "0\n",
      "1\n",
      "2\n",
      "3\n",
      "4\n",
      "5\n",
      "6\n",
      "7\n",
      "8\n",
      "9\n",
      "La valeur en 1 : 1\n",
      "[0, 22, 44, 66, 88, 110, 132, 154, 176, 198]\n"
     ]
    }
   ],
   "source": [
    "nb = np.arange(0,10,1)\n",
    "for i in nb :\n",
    "    print(i)\n",
    "\n",
    "print(\"La valeur en 1 :\",nb[1])\n",
    "\n",
    "toto = [i*22 for i in nb]\n",
    "print(toto)"
   ]
  },
  {
   "cell_type": "markdown",
   "metadata": {},
   "source": [
    "## Sélections par masque :\n",
    "\n",
    "On peut facilement faire des sélections en appliquant un mask au `nbarray`. \n",
    "\n",
    "Le plus simple est de voir un exemple. Imaginon que je souhaite dans l'exemple précédent sélectionner les points pour lesquels $sin(x)>0$. Nous allons créer un masque de `bool` qui vaut 1 lorsque $sin(x)>0$ et 0 sinon :"
   ]
  },
  {
   "cell_type": "code",
   "execution_count": 38,
   "metadata": {},
   "outputs": [
    {
     "name": "stdout",
     "output_type": "stream",
     "text": [
      "[False  True  True  True  True  True  True  True  True  True  True  True\n",
      "  True  True  True  True  True  True  True  True  True  True  True  True\n",
      "  True  True  True  True  True  True  True  True False False False False\n",
      " False False False False False False False False False False False False\n",
      " False False False False False False False False False False False False\n",
      " False False False  True  True  True  True  True  True  True  True  True\n",
      "  True  True  True  True  True  True  True  True  True  True  True  True\n",
      "  True  True  True  True  True  True  True  True  True  True  True False\n",
      " False False False False]\n"
     ]
    }
   ],
   "source": [
    "z = (y>0)\n",
    "print(z)"
   ]
  },
  {
   "cell_type": "markdown",
   "metadata": {},
   "source": [
    "Pour appliquer notre masque `z` à `y`, il suffit alors de l'indiquer entre [] comme ceci :"
   ]
  },
  {
   "cell_type": "code",
   "execution_count": 39,
   "metadata": {},
   "outputs": [
    {
     "name": "stdout",
     "output_type": "stream",
     "text": [
      "[ 0.09983342  0.19866933  0.29552021  0.38941834  0.47942554  0.56464247\n",
      "  0.64421769  0.71735609  0.78332691  0.84147098  0.89120736  0.93203909\n",
      "  0.96355819  0.98544973  0.99749499  0.9995736   0.99166481  0.97384763\n",
      "  0.94630009  0.90929743  0.86320937  0.8084964   0.74570521  0.67546318\n",
      "  0.59847214  0.51550137  0.42737988  0.33498815  0.23924933  0.14112001\n",
      "  0.04158066  0.0168139   0.1165492   0.21511999  0.31154136  0.40484992\n",
      "  0.49411335  0.57843976  0.6569866   0.72896904  0.79366786  0.85043662\n",
      "  0.8987081   0.93799998  0.96791967  0.98816823  0.99854335  0.99894134\n",
      "  0.98935825  0.96988981  0.94073056  0.90217183  0.85459891  0.79848711\n",
      "  0.7343971   0.66296923  0.58491719  0.50102086  0.41211849  0.31909836\n",
      "  0.22288991  0.12445442  0.02477543]\n"
     ]
    }
   ],
   "source": [
    "print(y[z])"
   ]
  },
  {
   "cell_type": "markdown",
   "metadata": {},
   "source": [
    "On peut s'en servir même dans les plots :"
   ]
  },
  {
   "cell_type": "code",
   "execution_count": 41,
   "metadata": {},
   "outputs": [
    {
     "data": {
      "image/png": "[encoded data removed]",
      "text/plain": [
       "<Figure size 432x288 with 1 Axes>"
      ]
     },
     "metadata": {
      "needs_background": "light"
     },
     "output_type": "display_data"
    }
   ],
   "source": [
    "plt.scatter(x[z],y[z],label=\"sin(x)>0\")\n",
    "plt.legend()\n",
    "plt.xlabel(\"x\")\n",
    "plt.ylabel(\"f(x)\")\n",
    "plt.show()"
   ]
  },
  {
   "cell_type": "markdown",
   "metadata": {},
   "source": [
    "## Exercice 1 : échauffement\n",
    "\n",
    "Créer un `ndarray` d'entiers allant de 0 à 20, remplacer tous les nombres paires par des -1."
   ]
  },
  {
   "cell_type": "code",
   "execution_count": 5,
   "metadata": {},
   "outputs": [
    {
     "name": "stdout",
     "output_type": "stream",
     "text": [
      "[-1  1 -1  3 -1  5 -1  7 -1  9 -1 11 -1 13 -1 15 -1 17 -1 19 -1]\n"
     ]
    }
   ],
   "source": []
  },
  {
   "cell_type": "markdown",
   "metadata": {},
   "source": [
    "## Exercice 2 : Tracer des math\n",
    "\n",
    "Utiliser *matplotlib* pour tracer sur un seul graphique la fonction $f(x) = e^{−x/10} \\sin{(\\pi x)}$ et $g(x) = x\\,e^{−x/3}$ sur l'intervalle $[0, 10]$. \n",
    "\n",
    "Ajouter les noms des abscisses et ordonnées ainsi que la légende des courbes. \n",
    "\n",
    "Sauvegarder le graphique en png. A vous de chercher comment (*google* vient m'aider)."
   ]
  },
  {
   "cell_type": "code",
   "execution_count": null,
   "metadata": {},
   "outputs": [],
   "source": []
  },
  {
   "cell_type": "markdown",
   "metadata": {},
   "source": [
    "## Exercice 3 : Cardioïde\n",
    "\n",
    "la fonction paramétrique d'un limaçon est donnée par :\n",
    "<div align=\"center\">  $r = r_0 + cos (\\theta)$ </div>\n",
    "<div align=\"center\">  $x = r cos (\\theta)$ </div>\n",
    "<div align=\"center\">  $y = r sin (\\theta)$ </div>\n",
    "\n",
    "Affichier cette fonction pour $r_0=0.8$, $r_0=1$ et $r_0=1.2$. Laquelle de ces courbes s'appelle un cardioïde. \n",
    "\n",
    "*Ajuster bien le nombre de points pour que ces courbes soient lisses.*"
   ]
  },
  {
   "cell_type": "code",
   "execution_count": null,
   "metadata": {},
   "outputs": [],
   "source": []
  }
 ],
 "metadata": {
  "kernelspec": {
   "display_name": "Python 3",
   "language": "python",
   "name": "python3"
  },
  "language_info": {
   "codemirror_mode": {
    "name": "ipython",
    "version": 3
   },
   "file_extension": ".py",
   "mimetype": "text/x-python",
   "name": "python",
   "nbconvert_exporter": "python",
   "pygments_lexer": "ipython3",
   "version": "3.6.7"
  }
 },
 "nbformat": 4,
 "nbformat_minor": 2
}
