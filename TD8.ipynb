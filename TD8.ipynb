{
 "cells": [
  {
   "cell_type": "markdown",
   "metadata": {},
   "source": [
    "# La simulation *pas à pas*\n",
    "\n",
    "Nous ne verrons ici que le début du sujet car il faudrait bien plus de temps pour aborder ce domaine. Vous le ferez surement dans le futur.\n",
    "\n",
    "Reprenons le dernier exercice comme exemple :\n",
    "\n",
    "*Un avions lâche une caisse de matériel d'une altitude $H$ et une vitesse initiale horizontale $\\vec{v_0}$. Nous allons étudier la trajetoire de la caisse.*\n",
    "\n",
    "<img src=\"http://lappweb.in2p3.fr/~maurin/expl201/largage.png\" alt=\"drawing\" width=\"400\"/>\n",
    "\n",
    "*On prendra $H=10000\\,$m, $g=9.81\\,$m.s$^{-2}$ et $v_0=100\\,$m.s$^{-1}$*\n",
    "\n",
    "\n",
    "Le code ci-dessous affiche les données du fichier *chute.bin* avec quelques petits cosmétiques supplémentaires. "
   ]
  },
  {
   "cell_type": "code",
   "execution_count": 3,
   "metadata": {},
   "outputs": [],
   "source": [
    "# Ici on charge les données\n",
    "import pickle\n",
    "\n",
    "fichier = open(\"fichiers/chute.bin\",\"rb\")\n",
    "\n",
    "data_x = pickle.load(fichier)\n",
    "data_z = pickle.load(fichier)\n",
    "\n",
    "fichier.close()\n"
   ]
  },
  {
   "cell_type": "code",
   "execution_count": 8,
   "metadata": {},
   "outputs": [
    {
     "data": {
      "image/png": "[encoded data removed]",
      "text/plain": [
       "<Figure size 432x288 with 1 Axes>"
      ]
     },
     "metadata": {
      "needs_background": "light"
     },
     "output_type": "display_data"
    }
   ],
   "source": [
    "# Ici on affiche les données\n",
    "import matplotlib.pyplot as plt\n",
    "\n",
    "plt.xlim(0, 5000)\n",
    "plt.ylim(0, 12000)\n",
    "#plt.axis('equal') # Permet de faire que l'echelle des x et des z soient les mêmes\n",
    "\n",
    "plt.arrow(0, 10000, 1000, 0, head_width=200.00, head_length=100.0, fc='r', ec='r', length_includes_head = True)\n",
    "\n",
    "plt.scatter(data_x,data_z)\n",
    "plt.show()"
   ]
  },
  {
   "cell_type": "markdown",
   "metadata": {},
   "source": [
    "La flèche représente visuellement la vitesse initiale.\n",
    "\n",
    "-----\n",
    "\n",
    "Faire une **simulation**, c’est calculer et représenter les différents états successifs de l’évolution d’un modèle (représentant un système physique ou biologique ou ...) au cours du temps. \n",
    "\n",
    "Nous allons ainsi partir d'un état initial et faire avancer le temps par petit *pas* ($\\delta t$) en faisant un certain nombre d'hypothèses et de calculs.\n",
    "\n",
    "Pour notre situation, nous avons déjà l'état initial :\n",
    "\n",
    "- $t=0$\n",
    "- $x(0) = 0$\n",
    "- $z(0) = H$\n",
    "- $v_x(0) = v_0$\n",
    "- $v_z(0) = 0$\n",
    "- $a_x(0) = 0$\n",
    "- $a_z(0) = -g$"
   ]
  },
  {
   "cell_type": "markdown",
   "metadata": {},
   "source": [
    "Il faut maintenant trouver le moyen de faire *\"avancer le temps\"*. Mais comment ? \n",
    "\n",
    "----\n",
    "\n",
    "**Grâce au développement de Taylor !!!!** \n",
    "\n",
    "En effet, si nous prenons $\\delta t$ très petit, on peut toujours écrire à l'ordre 1 que :\n",
    "\n",
    "<div align=\"center\">  $f(t+\\delta t) = f(t) + \\frac{df(t)}{dt}\\,\\delta t$ </div>\n",
    "\n",
    "Appliqué à $x(t)$ cela donne : \n",
    "\n",
    "<div align=\"center\"> $x(t+\\delta t) = x(t) + \\frac{dx(t)}{dt}\\,\\delta t $ </div>\n",
    "\n",
    "Mais nous savons aussi que $\\frac{dx(t)}{dt}=v_x(t)$, d'où :\n",
    "<div align=\"center\"> $x(t+\\delta t) = x(t) + v_x(t)\\,\\delta t $ </div>\n",
    "\n",
    "Nous voyons ici que l'on peut calculer le temps (*pas*) $t+\\delta$ si l'on connaît les conditions au temps (*pas*) précédent $t$.\n",
    "\n",
    "\n",
    "Appliquons cela à $t=0$ pour calculer la position $x$ au temps $\\delta t$ :\n",
    "<div align=\"center\"> $x(\\delta t) = x(0) + v_x(0)\\,\\delta t$ </div>\n",
    "\n",
    "Si vous regardez la situation initiale, nous avons tout ce qu'il faut pour faire ces calculs. Il est donc possible à partir des conditions à l'instant $t=0$ de calculer la position à l'instant $\\delta t$.\n",
    "\n",
    "Notez également qu'il est possible d'appliquer le développement de Taylor aux autres paramètres comme $z(t)$, $v_x(t)$ et $v_z(t)$ :\n",
    "<div align=\"center\"> $v_x(t+\\delta t) = v_x(t) + \\frac{dv_x(t)}{dt}\\,\\delta t = v_x(t) + a_x(t)\\,\\delta t$ </div>\n",
    "\n",
    "____\n",
    "\n",
    "**Passons à la partie code.** En informatique, il est impossible d'écrire directement $x(\\delta t)$ ou $x(t+\\delta t)$. Cela n'a pas de sens. Nous allons donc utiliser une liste pour $x(t)$ :\n",
    "\n",
    "- Le premier élément de la liste correspondra à $t=0$\n",
    "- Le deuxième à $t=\\delta t$\n",
    "- Le troisième à $t=2\\times\\delta t$\n",
    "- Le $n^{ème}$ à $t=n\\times\\delta t$\n",
    "\n",
    "Le développement de Taylor permet alors de lié l'élément $n+1$ à l'élément précédent $n$ :\n",
    "<div align=\"center\"> `x[n+1] = x[n] + vx[n] * DeltaT` </div>\n",
    "<div align=\"center\"> `vx[n+1] = vx[n] + ax[n] * DeltaT`   </div>\n",
    "\n",
    "Voyons comment nous pouvons écrire en *python* le calcule de `x[1]`, `vx[1]` et `ax[1]`:"
   ]
  },
  {
   "cell_type": "code",
   "execution_count": 7,
   "metadata": {},
   "outputs": [
    {
     "name": "stdout",
     "output_type": "stream",
     "text": [
      "('La position x apres un pas : ', 10.0)\n",
      "('La vitesse vx apres un pas : ', 100.0)\n"
     ]
    }
   ],
   "source": [
    "# On definit notre pas de temps (nous verrons plus tard son influence):\n",
    "DeltaT = 0.1\n",
    "\n",
    "# Ainsi que la taille des listes :\n",
    "nb = 10\n",
    "\n",
    "# Initialisation des listes qui contiendront les temps, les positions, les vitesses...\n",
    "t = [0] * nb\n",
    "x = [0] * nb\n",
    "vx = [0] * nb\n",
    "ax = [0] * nb\n",
    "\n",
    "# Dans le premier élément on place les paramètres initiaux\n",
    "t[0] = 0 \n",
    "x[0] = 0\n",
    "vx[0] = 100\n",
    "ax[0] = 0\n",
    "\n",
    "# On applique la formule de Taylor pour calculer la valeur après un pas de temps (DeltaT) :\n",
    "t[1] = t[0] + DeltaT                 # le temps a avancé d'un pas\n",
    "x[1] = x[0] + vx[0] * DeltaT         # Position en x\n",
    "vx[1] = vx[0] + ax[0] * DeltaT       # vitesse en x\n",
    "ax[1] = 0                            # accélération en x (ici nulle).\n",
    "\n",
    "#Vérifions le résultat :\n",
    "print(\"La position x apres un pas : \",x[1])\n",
    "print(\"La vitesse vx apres un pas : \",vx[1])"
   ]
  },
  {
   "cell_type": "markdown",
   "metadata": {},
   "source": [
    "Naturellement, nous n'allons pas calculer la suite à la main. Nous allons utiliser une boucle.\n",
    "\n",
    "## Exercice 1 :  Ecrire la boucle pour faire avancer le temps\n",
    "\n",
    "1) Reprener le code précédent et placer le dans une boucle pour faire avancer le temps.\n",
    "\n",
    "2) Ajouter proprement le calcul de $z$, $v_z$ et $a_z$.\n",
    "\n",
    "3) Afficher la trajectoire (`z` en fonction de `x`). Comparer aux données. \n",
    "\n",
    "4) Tester différentes valeurs de `DeltaT`. Quel influence à ce paramètre ?"
   ]
  },
  {
   "cell_type": "code",
   "execution_count": null,
   "metadata": {
    "collapsed": true,
    "jupyter": {
     "outputs_hidden": true
    }
   },
   "outputs": [],
   "source": []
  },
  {
   "cell_type": "markdown",
   "metadata": {},
   "source": [
    "## Exercice 1 suite : forces de frottement\n",
    "\n",
    "Dans la simulation précédente, nous avons considéré qu'il n'y avait que le poids. Vous savez bien que cela est faux. On va donc ajouter la force de frottements visqueux : $\\vec{f} = -h\\,\\vec{v}$.\n",
    "\n",
    "Que faut-il changer dans notre simulation ? En réalité, pas grand chose. **Les développements de Taylor restent justes**. Il ne faut donc que calculer proprement l'accélération $a_x$ et $a_z$ en prenant compte cette nouvelle force.\n",
    "\n",
    "1) Ajouter la force de frottement à la simulation précédente\n",
    "\n",
    "2) Chercher un cefficient $h$ qui correspond à peu prêt aux données. Tester pour cela des valeurs de 10 en 10 (ex: 10, 1, 0.1....)"
   ]
  },
  {
   "cell_type": "code",
   "execution_count": null,
   "metadata": {
    "collapsed": true,
    "jupyter": {
     "outputs_hidden": true
    }
   },
   "outputs": [],
   "source": []
  },
  {
   "cell_type": "markdown",
   "metadata": {},
   "source": [
    "## Problème 1 : \n",
    "\n",
    "Dans ce problème nous allons simuler la trajectoire d'un satellite autour de la Terre. Le satellite par avec une vitesse $\\vec{v_0}$ selon l'axe des $x$ (voir schéma ci-dessous).\n",
    "\n",
    "Afin de simplifier nos développements informatiques, le code sera divisé en 3 parties distinctes :\n",
    "\n",
    "- les imports et les définitions\n",
    "- la simulation avec l'initialisation des listes et la boucle pour faire avancer le temps\n",
    "- l'affichage des résultats\n",
    "\n",
    "Les trois onglets sont déjà créés avec plusieurs petites choses dedans. \n",
    "\n",
    "1) Regarder le code et executer le.\n",
    "\n"
   ]
  },
  {
   "cell_type": "code",
   "execution_count": 10,
   "metadata": {},
   "outputs": [],
   "source": [
    "## IMPORT ET DEFINITIONS DE DONCTION\n",
    "import matplotlib.pyplot as plt"
   ]
  },
  {
   "cell_type": "code",
   "execution_count": 11,
   "metadata": {},
   "outputs": [],
   "source": [
    "## INITIALISATION ET SIMULATION PAS A PAS\n",
    "H = 50000 # altitude initiale du satellite\n",
    "v0 = 10 # vitesse horizontale initiale en km.h-1"
   ]
  },
  {
   "cell_type": "code",
   "execution_count": 14,
   "metadata": {},
   "outputs": [
    {
     "data": {
      "image/png": "[encoded data removed]",
      "text/plain": [
       "<Figure size 1000x1000 with 1 Axes>"
      ]
     },
     "metadata": {
      "needs_background": "light"
     },
     "output_type": "display_data"
    }
   ],
   "source": [
    "## AFFICHAGE DES RESULTATS\n",
    "xmax = 100000\n",
    "ymax = 100000\n",
    "xmin = -100000\n",
    "ymin = -100000\n",
    "\n",
    "# Ici on crée un graphe en précisant les limites des axes\n",
    "fig, ax = plt.subplots(figsize=(5, 5), dpi=200) \n",
    "plt.xlim(xmin, xmax)\n",
    "plt.ylim(ymin, ymax)\n",
    "plt.axis('equal') # Permet de faire que l'echelle des x et des z soient les mêmes\n",
    "\n",
    "# Ajout d'une flèche qui donne la position et la direction initiales du satellite\n",
    "plt.arrow(0, H, v0*1000, 0, head_width=2000.00, head_length=500.0, fc='r', ec='r', length_includes_head = True)\n",
    "\n",
    "# Ajout de lignes pointillées horizontales et verticales\n",
    "plt.plot([0, 0], [ymin,ymax], linestyle=':',linewidth=1)\n",
    "plt.plot([xmin,xmax],[0,0],   linestyle=':',linewidth=1)\n",
    "\n",
    "# Ajout d'un cercle qui représente la Terre\n",
    "Terre = plt.Circle((0, 0), 6500, color='b')\n",
    "ax.add_artist(Terre)\n",
    "\n",
    "# AJOUTER ICI LA TRAJECTOIRE DE VOTRE SATELLITE\n",
    "\n",
    "\n",
    "# Generation du dessin\n",
    "plt.show()"
   ]
  },
  {
   "cell_type": "markdown",
   "metadata": {},
   "source": [
    "Passons à la physique. Si l'on néglige les frottements dans l'espace, un satellite proche de la Terre n'est soumis qu'à une seule force : l'attraction de la Terre. Cette force est données par :\n",
    "\n",
    "<div align=\"center\"> $\\vec{F} = - G\\,\\frac{m\\,M}{d^2} \\vec{u_{T\\rightarrow S}}$ </div>\n",
    "\n",
    "Avec :\n",
    "* $d$ la distance Terre -> Satellite\n",
    "* $G$ la constante universelle de la gravitation : $6.67408\\times10^{−11}\\,m^3\\,kg^{−1}\\,s^{−2}$\n",
    "* $M$ la masse de la Terre : $5.972 \\times 10^{24}\\,kg$\n",
    "* $m$ la masse du satellite\n",
    "* $\\vec{u_{T\\rightarrow S}}$ un vecteur unitaire allant de la Terre vers le satellite\n",
    "\n",
    "\n",
    "2) Ecrire une fonction informatique qui retourne les valeurs de l'accélération du satellite ($a_x$ et $a_z$) en fonction de la position du satellite ($x$ et $z$). On utilisera bien sûr le principe fondamentale de la dynamique. Faites attention aux unitées.\n",
    "\n",
    "3) En vous inspirant de l'exercice précédent, écrire un code qui simule *pas à pas* la trajectoire du satellite.\n",
    "\n",
    "4) Afficher le résultat sur le dessin\n",
    "\n",
    "5) En modifiant les conditions initiales, déterminer la vitesse minimale qu'il faut au niveau de la Terre pour que le satellite ne revienne pas sur Terre. On appelle cette vitesse minimale, la vitesse de libération."
   ]
  },
  {
   "cell_type": "code",
   "execution_count": null,
   "metadata": {},
   "outputs": [],
   "source": []
  }
 ],
 "metadata": {
  "kernelspec": {
   "display_name": "Python 3",
   "language": "python",
   "name": "python3"
  },
  "language_info": {
   "codemirror_mode": {
    "name": "ipython",
    "version": 3
   },
   "file_extension": ".py",
   "mimetype": "text/x-python",
   "name": "python",
   "nbconvert_exporter": "python",
   "pygments_lexer": "ipython3",
   "version": "3.6.9"
  }
 },
 "nbformat": 4,
 "nbformat_minor": 4
}
