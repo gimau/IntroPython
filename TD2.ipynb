{
 "cells": [
  {
   "cell_type": "markdown",
   "metadata": {},
   "source": [
    "# Les structures conditionnelles (if, elif, else)\n",
    "\n",
    "*Les structures conditionnelles permettent d'effectuer des opérations lorsqu'une ou plusieurs conditions sont remplies.*\n",
    "\n",
    "## Structure simple (`if`):\n",
    "Le prinpice est de dire si (`if`) telle condition est vérifiée alors telles commandes sont effectuées.\n",
    "\n",
    "\n",
    "Voici la syntaxe :\n",
    "\n",
    "    if (condition) :\n",
    "        commande1\n",
    "        commande2\n",
    "\n",
    "- **Attention devant chaque commande, il faut placer 4 caractères vides (ou un tabulation). On appelle cela indenter.** Tant que les commandes sont indentées, elle ne seront exécutée que si la condition est satisfaite. Si l'on retire l'indentation, le programme reprend son cours normalement.\n",
    "\n",
    "- **Attention de ne pas oublier les `:` à la fin de la commande `if`**\n",
    "\n",
    "Voici un exemple, exécuter le plusieurs fois en modifiant la valeur de la `note` afin de voir le comportement du `if`:"
   ]
  },
  {
   "cell_type": "code",
   "execution_count": null,
   "metadata": {},
   "outputs": [],
   "source": [
    "note = 10\n",
    "\n",
    "if (note > 10 ) :\n",
    "    print(\"J'ai mon UE !\")\n",
    "    \n",
    "print(\"Ma note est : \", note)"
   ]
  },
  {
   "cell_type": "markdown",
   "metadata": {},
   "source": [
    "## Structure complexe à deux possibilités (`if`...`else`)\n",
    "La structure conditionnelle peut être étendue. Si (`if`) la condition est respectée, je fais cela, sinon (`else`) je fais autre chose.\n",
    "\n",
    "    if (condition) :\n",
    "        commande1\n",
    "    else :\n",
    "        commande2\n",
    "\n",
    "Voici un exemple, exécuter le plusieurs fois en modifiant la valeur de la note pour voir le compoportement du `if`...`else`:"
   ]
  },
  {
   "cell_type": "code",
   "execution_count": null,
   "metadata": {},
   "outputs": [],
   "source": [
    "note = 9\n",
    "\n",
    "print (\"Ma note est :\",note)\n",
    "\n",
    "if (note > 10 ) :\n",
    "    print(\"J'ai mon UE !\")\n",
    "else :\n",
    "    print(\"Je dois repasser en session 2.\")"
   ]
  },
  {
   "cell_type": "markdown",
   "metadata": {},
   "source": [
    "## Structure complexe à plusieurs possibilités (`if`...`elif`...`else`)\n",
    "La structure conditionnelle peut encore être étendue. Il est possible d'ajouter autant de conditions que l'on souhaite en ajoutant le mot clé `elif` , contraction de `else` et `if`, qu'on pourrait traduire par \"sinon si\".\n",
    "\n",
    "    if (condition1) :\n",
    "        commande1\n",
    "    elif (condition2) :\n",
    "        commande2\n",
    "    elif (condition3) :\n",
    "        commande3\n",
    "    else :\n",
    "        commande4\n",
    "\n",
    "Voici un exemple, exécuter le plusieurs fois en modifiant la valeur de la note pour voir le compoportement du `if`...`elif`...`else`:"
   ]
  },
  {
   "cell_type": "code",
   "execution_count": null,
   "metadata": {},
   "outputs": [],
   "source": [
    "nombre = -1\n",
    "\n",
    "if (nombre<0) :\n",
    "    print(\"C'est un nombre négatif.\")\n",
    "elif (nombre==0) :\n",
    "    print(\"c'est un nombre nul.\")\n",
    "else :\n",
    "    print(\"C'est un nombre positif\")"
   ]
  },
  {
   "cell_type": "markdown",
   "metadata": {},
   "source": [
    "## Exercice 1 : racines d'un polynôme de degré 2\n",
    "*Chercher les racines d'un polynome du second degré :*\n",
    "**a x^2 + b x + c = 0**\n",
    "\n",
    "Pour vous aider, voici un schéma logique du programme.\n",
    "<img src=\"figure/StructuireEnIf.png\" alt=\"drawing\" width=\"600\"/>\n"
   ]
  },
  {
   "cell_type": "code",
   "execution_count": null,
   "metadata": {},
   "outputs": [],
   "source": []
  },
  {
   "cell_type": "markdown",
   "metadata": {},
   "source": [
    "## Exercice 2 : mention à un examen\n",
    "*Entrer un note et donner la mention associée.*"
   ]
  },
  {
   "cell_type": "code",
   "execution_count": null,
   "metadata": {},
   "outputs": [],
   "source": []
  },
  {
   "cell_type": "markdown",
   "metadata": {},
   "source": [
    "## Exercice 3 : année bissextile\n",
    "*Vérifier si une année est bissextile.*\n",
    "\n",
    "Un année est bissextile si :\n",
    "- elle est un multiple de 4 mais pas de 100\n",
    "- elle est un multiple de 400\n"
   ]
  },
  {
   "cell_type": "code",
   "execution_count": null,
   "metadata": {},
   "outputs": [],
   "source": []
  },
  {
   "cell_type": "markdown",
   "metadata": {},
   "source": [
    "## Exercice 4 : franchise d'assurance auto\n",
    "\n",
    "*Votre assurance auto vous rembourse 10% des frais de réparation suite à un accident avec un minimum de 150 euros et un maximum de 1000 euros. Calculer le remboursement en fonction du montant des travaux.* "
   ]
  },
  {
   "cell_type": "code",
   "execution_count": null,
   "metadata": {},
   "outputs": [],
   "source": []
  },
  {
   "cell_type": "markdown",
   "metadata": {},
   "source": [
    "## Exercice 5 : jour de la semaine\n",
    "*A partir d'une date quelconque de l'année 2019 (ex. 15/09), calculer le nombre de jours qui s'est écoulé depuis le début de l'année (1/01).*"
   ]
  },
  {
   "cell_type": "code",
   "execution_count": null,
   "metadata": {},
   "outputs": [],
   "source": []
  }
 ],
 "metadata": {
  "kernelspec": {
   "display_name": "Python 3",
   "language": "python",
   "name": "python3"
  },
  "language_info": {
   "codemirror_mode": {
    "name": "ipython",
    "version": 3
   },
   "file_extension": ".py",
   "mimetype": "text/x-python",
   "name": "python",
   "nbconvert_exporter": "python",
   "pygments_lexer": "ipython3",
   "version": "3.6.6"
  }
 },
 "nbformat": 4,
 "nbformat_minor": 2
}
