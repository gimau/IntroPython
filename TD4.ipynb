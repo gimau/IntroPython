{
 "cells": [
  {
   "cell_type": "markdown",
   "metadata": {},
   "source": [
    "# Les fonctions en python\n",
    "\n",
    "Les fonctions permettent de préparer un bloc d'instructions que l'on pourra appeler et reappeler plus tard grâce à un nom de fonction. Nous avons déjà vu des fonctions uselles `print()`, `input()`, `int()`...\n",
    "\n",
    "## Définir une fonction\n",
    "\n",
    "Il est possible de créer ses propres fonctions. Lors de la création, il faut définir le nom de la fonction ainsi que les arguments qui seront nécessaires. Voici la syntaxe :\n",
    "\n",
    "    def nom_de_fonction(argument1,argument2) :\n",
    "        instruction 1\n",
    "        instruction 2\n",
    "        instruction 3...\n",
    "        \n",
    "- Le mot clé `def` permet à python de savoir que vous allez définir une fonction.\n",
    "- Nous nous servirons ensuite du `nom_de_fonction` pour appeler la fonction.\n",
    "- Les arguments seront à fournir pour que la fonction puissent opérer.\n",
    "\n",
    "Voici un petit exemple :"
   ]
  },
  {
   "cell_type": "code",
   "execution_count": 1,
   "metadata": {},
   "outputs": [],
   "source": [
    "def cube(x):\n",
    "    print(x * x * x)"
   ]
  },
  {
   "cell_type": "markdown",
   "metadata": {},
   "source": [
    "Une fois définie, l'appel de la fonction se fait de la façon suivante :"
   ]
  },
  {
   "cell_type": "code",
   "execution_count": null,
   "metadata": {},
   "outputs": [],
   "source": [
    "cube(4)\n",
    "cube(10.1)"
   ]
  },
  {
   "cell_type": "markdown",
   "metadata": {},
   "source": [
    "---\n",
    "## Exercice 1.1\n",
    "Définir une fonction (avec le nom que vous voulez) qui prend deux arguments `x` et `y` et qui écrit la somme de ses deux arguments. Tester son fonctionnement en l'appelant"
   ]
  },
  {
   "cell_type": "code",
   "execution_count": null,
   "metadata": {},
   "outputs": [],
   "source": []
  },
  {
   "cell_type": "markdown",
   "metadata": {},
   "source": [
    "---\n",
    "## Exercice 1.2\n",
    "Sans l'exécuter, analyser le programme suivant pour indiquer, sur une feuille, ce qu'il affichera quand on l'exécutera"
   ]
  },
  {
   "cell_type": "code",
   "execution_count": null,
   "metadata": {},
   "outputs": [],
   "source": [
    "def mafonction(x, y):\n",
    "    print(x, y, x*y)\n",
    "\n",
    "\n",
    "mafonction(2, 3)\n",
    "mafonction(0, 1)"
   ]
  },
  {
   "cell_type": "markdown",
   "metadata": {},
   "source": [
    "---\n",
    "## Valeurs par défaut des arguments\n",
    "Il est souvent utile de préciser des valeurs par défaut à chaque paramètre. Pour cela nous allons à l'aide de `=` donner ces valeurs par défauts lors de la création de la fonction.\n",
    "\n",
    "    def nom_de_fonction(argument1 = valeur_defaut1, argument2 = valeur_defaut2) :\n",
    "        instruction 1\n",
    "        instruction 2\n",
    "        instruction 3...\n",
    "\n",
    "Reprenons l'exemple précédent en précisant une valeur par defaut."
   ]
  },
  {
   "cell_type": "code",
   "execution_count": null,
   "metadata": {},
   "outputs": [],
   "source": [
    "def cube(x = 2) :\n",
    "    print(x*x*x)"
   ]
  },
  {
   "cell_type": "markdown",
   "metadata": {},
   "source": [
    "La fonction donne les mêmes résultats que précédemment. Mais il est possible de l'appeler sans lui donner d'argument. Dans ce cas, nous obtiendrons toujours $2^3$ :"
   ]
  },
  {
   "cell_type": "code",
   "execution_count": null,
   "metadata": {},
   "outputs": [],
   "source": [
    "cube(4)\n",
    "cube(10.1)\n",
    "cube()          # Utilisation de la fonction avec les paramètres par défaut"
   ]
  },
  {
   "cell_type": "markdown",
   "metadata": {},
   "source": [
    "Voici un deuxième exemple. Cette fonction prend un arguments `nombre`. Elle affiche la table de multiplication associée à `nombre` de 0 jusqu'à 5 :"
   ]
  },
  {
   "cell_type": "code",
   "execution_count": 1,
   "metadata": {},
   "outputs": [],
   "source": [
    "def TableMultiplication(nombre=2):\n",
    "    for i in range(0, 5):\n",
    "        print(i, \"*\", nombre, \"=\", i * nombre)"
   ]
  },
  {
   "cell_type": "code",
   "execution_count": 2,
   "metadata": {},
   "outputs": [
    {
     "name": "stdout",
     "output_type": "stream",
     "text": [
      "0 * 3 = 0\n",
      "1 * 3 = 3\n",
      "2 * 3 = 6\n",
      "3 * 3 = 9\n",
      "4 * 3 = 12\n"
     ]
    }
   ],
   "source": [
    "TableMultiplication(3)"
   ]
  },
  {
   "cell_type": "markdown",
   "metadata": {},
   "source": [
    "Voici une version un peu plus élaborée. Cette fonction prend deux arguments `nombre` et `max`. Elle affiche la table de multiplication associée à `nombre` de 0 jusqu'à `max` "
   ]
  },
  {
   "cell_type": "code",
   "execution_count": null,
   "metadata": {},
   "outputs": [],
   "source": [
    "def TableMultiplication(nombre=2, max=10):\n",
    "    for i in range(0, max + 1):\n",
    "        print(i, \"*\", nombre, \"=\", i * nombre)"
   ]
  },
  {
   "cell_type": "code",
   "execution_count": null,
   "metadata": {},
   "outputs": [],
   "source": [
    "TableMultiplication(2, 5)  # on demande la table de 2 de 0 à 5"
   ]
  },
  {
   "cell_type": "code",
   "execution_count": null,
   "metadata": {},
   "outputs": [],
   "source": [
    "TableMultiplication(5)  # on demande la table de 5. On ne spécifie pas max. \n",
    "# La table ira jusqu'à 10, la valeur par défaut"
   ]
  },
  {
   "cell_type": "code",
   "execution_count": null,
   "metadata": {},
   "outputs": [],
   "source": [
    "TableMultiplication(max=5)  # on peut préciser quel argument on veut modifier"
   ]
  },
  {
   "cell_type": "code",
   "execution_count": null,
   "metadata": {},
   "outputs": [],
   "source": [
    "TableMultiplication(max=5, nombre=3)  # et ce dans l'ordre que l'on veut"
   ]
  },
  {
   "cell_type": "markdown",
   "metadata": {},
   "source": [
    "## Sortie d'une fonction : `return`\n",
    "\n",
    "Les fonctions précédentes ne font qu'afficher des choses et il n'est pas possible de ce servir d'un résultat obtenu en dehors de la fonction.\n",
    "\n",
    "Afin de récupérer la *sortie* d'une fonction, on utilise la commande `return` puis on indique ce que l'on veut *sortir*. Reprenons la fonction `cube()`. On peut placer le résultat de cette fonction dans une variable : "
   ]
  },
  {
   "cell_type": "code",
   "execution_count": null,
   "metadata": {},
   "outputs": [],
   "source": [
    "def cube(x=2):\n",
    "    return x * x * x\n",
    "\n",
    "\n",
    "resultat = cube(10)  # On affecte le resultat de cube(10) dans la variable resultat\n",
    "\n",
    "print(\"La variable résultat vaut : \", resultat)"
   ]
  },
  {
   "cell_type": "markdown",
   "metadata": {},
   "source": [
    "Le corps de la fonction peut contenir des calculs, des tests, des boucles. Pour commencer par un exemple simple, voici une fonction qui renvoie la chaîne de caractère \"pair\" si le nombre est pair et \"impair\" sinon :"
   ]
  },
  {
   "cell_type": "code",
   "execution_count": null,
   "metadata": {},
   "outputs": [],
   "source": [
    "def parite(i):\n",
    "    if (i % 2 == 0):\n",
    "        return \"pair\"\n",
    "    else:\n",
    "        return \"impair\"\n",
    "\n",
    "\n",
    "nombre = 27\n",
    "resultat = parite(nombre)\n",
    "print(\"Le nombre\", nombre, \"est\", resultat)"
   ]
  },
  {
   "cell_type": "markdown",
   "metadata": {},
   "source": [
    "Il est également possible de retourner plusieurs résultats en même temps. Le résultat est sous forme de `list`. Nous verrons dans le TD suivant ce qui nous pouvons en faire. La fonction définie dans le programme suivant affiche un nombre et les deux suivants."
   ]
  },
  {
   "cell_type": "code",
   "execution_count": null,
   "metadata": {},
   "outputs": [],
   "source": [
    "def deux_suivants(i):\n",
    "    return i, i + 1, i + 2\n",
    "\n",
    "\n",
    "print(deux_suivants(27))"
   ]
  },
  {
   "cell_type": "markdown",
   "metadata": {},
   "source": [
    "---\n",
    "## Exercice 1.3\n",
    "Sans l'exécuter, analyser le programme suivant pour indiquer, sur une feuille, ce qu'il affichera quand on l'exécutera. Résumer en une phrase le rôle de cette fonction."
   ]
  },
  {
   "cell_type": "code",
   "execution_count": null,
   "metadata": {},
   "outputs": [],
   "source": [
    "def mafonction(x, y):\n",
    "    a, b = x, y\n",
    "    if a > b:\n",
    "        a, b = b, a\n",
    "    return a, b\n",
    "\n",
    "mafonction(22, 2)"
   ]
  },
  {
   "cell_type": "markdown",
   "metadata": {},
   "source": [
    "## Ajouter une description de la fonction\n",
    "\n",
    "Il est toujours conseillé d'ajouter une description de la fonction, c'est à dire un texte qui explique ce que la fonction fait. Voici la structure : \n",
    "\n",
    "    def nom_de_fonction(argument1 = valeur_defaut1, argument2 = valeur_defaut2) :\n",
    "        \"\"\"\n",
    "        Ici j'écris ma desciption.\n",
    "        \"\"\"\n",
    "        instruction 1\n",
    "        instruction 2\n",
    "        instruction 3...\n",
    "        return ..."
   ]
  },
  {
   "cell_type": "code",
   "execution_count": 7,
   "metadata": {},
   "outputs": [
    {
     "data": {
      "text/plain": [
       "(2, 22)"
      ]
     },
     "execution_count": 7,
     "metadata": {},
     "output_type": "execute_result"
    }
   ],
   "source": [
    "def mafonction(x, y):\n",
    "    \"\"\"\n",
    "    Cette fonction met dans l'ordre a et b\n",
    "    \"\"\"\n",
    "    a, b = x, y\n",
    "    if a > b:\n",
    "        a, b = b, a\n",
    "    return a, b\n",
    "\n",
    "\n",
    "mafonction(22,2)"
   ]
  },
  {
   "cell_type": "markdown",
   "metadata": {},
   "source": [
    "---\n",
    "## Les librairies de fonctions\n",
    "\n",
    "Nous avons déjà chargé une librairie de fonctions : *numpy*.\n",
    "Pour cela nous avions utilisé la commande :\n",
    "\n",
    "    from numpy import *\n",
    "\n",
    "Pour que cela fonctionne, il faut naturellement que la librairie *numpy* soit installée. On peut alors utiliser les fonctions mathématiques de *numpy*, exemple :\n",
    "\n",
    "    sqrt(12)\n",
    "    tan(15)\n",
    "\n",
    "Cet appel n'est en réalité pas très propre. Il est préférable d'appeler une librairie de la façon suivante\n",
    " \n",
    "    import numpy\n",
    "    \n",
    "Pour utiliser la librairie *numpy*, il faut maintenant écrire :\n",
    "\n",
    "    numpy.sqrt(12)\n",
    "    numpy.tan(15)\n",
    "    \n",
    "C'est un peu fastifieux et la plupart des utilisateurs de python préfèrent utiliser un raccourci sous la forme :\n",
    "\n",
    "    import numpy as np\n",
    "    \n",
    "Pour utiliser la librairie *numpy*, il faut maintenant écrire :\n",
    "\n",
    "    np.sqrt(12)\n",
    "    np.tan(15)\n",
    "    \n",
    "Ceci est un peu plus lourd que d'utiliser simplement `sqrt(12)`, mais maintenant lorsque nous appellons une fonction, nous savons dans quelle librairie nous allons la chercher. Lorsque l'on utilise plusieurs librairie, cela évite de se tromper et cela accélère *python*.\n",
    "\n",
    "Voici un exemple d'erreur. Ici nous allons charger deux librairies mathématiques. *numpy* et *math*. Lorsque l'on appelle la fonction racine (`sqrt()`), nous voyons qu'il y a une différence."
   ]
  },
  {
   "cell_type": "code",
   "execution_count": null,
   "metadata": {},
   "outputs": [],
   "source": [
    "import numpy as np\n",
    "import math as mt\n",
    "\n",
    "print(mt.sqrt(12))\n",
    "print(np.sqrt(12))"
   ]
  },
  {
   "cell_type": "markdown",
   "metadata": {},
   "source": [
    "Si maintenant, nous prenons la racine d'un complexe, on voit que *numpy* y arrive, mais pas *math*."
   ]
  },
  {
   "cell_type": "code",
   "execution_count": null,
   "metadata": {},
   "outputs": [],
   "source": [
    "nb = 10+10j\n",
    "print(np.sqrt(nb))\n",
    "print(mt.sqrt(nb))"
   ]
  },
  {
   "cell_type": "markdown",
   "metadata": {
    "tags": []
   },
   "source": [
    "______________\n",
    "\n",
    "## Exercice 2 : calcul d'une somme\n",
    "\n",
    "Ecrire une fonction `somme(n)` qui calcule la somme des entiers de $1$ à $n$. Tester la fonction avec `somme(9)` qui vaut $45$. *Vous connaissez la fonction `sum()` de python, on vous demande içi de construire votre propre fonction.*"
   ]
  },
  {
   "cell_type": "code",
   "execution_count": 1,
   "metadata": {},
   "outputs": [],
   "source": []
  },
  {
   "cell_type": "markdown",
   "metadata": {},
   "source": [
    "---\n",
    "## Exercice 3 :  Arrondir un nombre\n",
    "\n",
    "1) Ecrire une **fonction** qui tronque un nombre positif à $n$ chiffres après la virgule. Pour cela, voici l'algorithme :\n",
    "- multiplier le nombre à arrondir par $10^n$\n",
    "- prendre la partie entière du résultat\n",
    "- diviser l'entier obtenu par $10^n$\n",
    "- placer cet algorithme dans une fonction que prendra comme argument le nombre à arrondir et $n$ le nombre de chiffre après la virgule.\n",
    "\n",
    "2) Tester avec plusieurs exemples, si cette fonction fonctionne correctement.\n",
    "\n",
    "3) Adapter ensuite la fonction pour qu'elle arrondisse correctement le nombre.\n"
   ]
  },
  {
   "cell_type": "code",
   "execution_count": null,
   "metadata": {},
   "outputs": [],
   "source": []
  },
  {
   "cell_type": "markdown",
   "metadata": {
    "tags": []
   },
   "source": [
    "---\n",
    "## Exercice 4 : Calculer $\\pi$\n",
    "\n",
    "La formule de Leibniz permet de calculer numériquement le nombre $\\pi$. \n",
    "\n",
    "<div align=\"center\">$\\sum_{n=0}^\\infty\\frac{(-1)^n}{2n+1}=\\frac11-\\frac13+\\frac15-\\frac17+\\frac19-\\cdots=\\frac\\pi4.$</div>\n",
    "\n",
    "*Note : c'est en réalité le développement de Taylor en 0 de la fonction $\\arctan(x)$ évalué en 1.*\n",
    "\n",
    "1) Ecrire une fonction qui calcule $\\pi_n$ à l'aide de la formule précédente calculée de 0 à $n$.\n",
    "\n",
    "2) Utiliser ensuite cette fonction dans une boucle pour chercher la valeur de $n$ telle que :\n",
    "\n",
    "<div align=\"center\"> $ \\|\\pi_{n+1}-\\pi_n \\| < 0.000001 $</div>\n",
    "\n",
    "*On obtient ici la valeur de $\\pi$ à une précision de 0.000001.*\n",
    "\n",
    "3) A partir de la boucle précédente, créer une fonction qui retourne la valeur de $\\pi$ à une précision donnée.\n"
   ]
  },
  {
   "cell_type": "code",
   "execution_count": null,
   "metadata": {},
   "outputs": [],
   "source": []
  },
  {
   "cell_type": "markdown",
   "metadata": {},
   "source": [
    "---\n",
    "## Exercice 5 : \n",
    "\n",
    "Ecrire une fonction qui calcule le produit vectoriel de deux vecteurs. Les paramètres d'entrée seront deux `list` (`vec1`,`vec2`) et le résultat sera également une liste. Chaque liste contient les trois coordonnées du vecteur. On rappelle que le produit vectoriel est donné par :\n",
    "\n",
    "<img src=\"http://lappweb.in2p3.fr/~maurin/expl201/ProdVectoriel.png\" alt=\"drawing\" width=\"200\"/>\n",
    "\n",
    "On testera le code avec $\\vec{u} = (1,0,0)$ et $\\vec{u} = (0,1,0)$ "
   ]
  },
  {
   "cell_type": "code",
   "execution_count": null,
   "metadata": {},
   "outputs": [],
   "source": []
  }
 ],
 "metadata": {
  "kernelspec": {
   "display_name": "Python 3 (ipykernel)",
   "language": "python",
   "name": "python3"
  },
  "language_info": {
   "codemirror_mode": {
    "name": "ipython",
    "version": 3
   },
   "file_extension": ".py",
   "mimetype": "text/x-python",
   "name": "python",
   "nbconvert_exporter": "python",
   "pygments_lexer": "ipython3",
   "version": "3.12.3"
  }
 },
 "nbformat": 4,
 "nbformat_minor": 4
}
