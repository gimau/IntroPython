{
 "cells": [
  {
   "cell_type": "markdown",
   "metadata": {},
   "source": [
    "# Les fonctions en python\n",
    "\n",
    "Les fonctions permettent de préparer un bloc d'instructions que l'on pourra appeler et reappeler plus tard grâce à un nom de fonction. Nous avons déjà vu des fonctions uselles `print()`, `input()`, `int()`...\n",
    "\n",
    "## Définir une fonction\n",
    "\n",
    "Il est possible de créer ses propres fonctions. Lors de la création, il faut définir le nom de la fonction ainsi que les arguments qui seront nécessaires. Voici la syntaxe :\n",
    "\n",
    "    def nom_de_fonction(argument1,argument2) :\n",
    "        instruction 1\n",
    "        instruction 2\n",
    "        instruction 3...\n",
    "        \n",
    "- Le mot clé `def` permet à python de savoir que vous allez définir une fonction.\n",
    "- Nous nous servirons ensuite du `nom_de_fonction` pour appeler la fonction.\n",
    "- Les arguments seront à fournir pour que la fonction puissent opérer.\n",
    "\n",
    "Voici un petit exemple :"
   ]
  },
  {
   "cell_type": "code",
   "execution_count": 23,
   "metadata": {},
   "outputs": [],
   "source": [
    "def cube(x) :\n",
    "    print(x*x*x)"
   ]
  },
  {
   "cell_type": "markdown",
   "metadata": {},
   "source": [
    "Une fois définie, l'appel de la fonction se fait de la façon suivante :"
   ]
  },
  {
   "cell_type": "code",
   "execution_count": 24,
   "metadata": {},
   "outputs": [
    {
     "name": "stdout",
     "output_type": "stream",
     "text": [
      "64\n",
      "1030.301\n"
     ]
    }
   ],
   "source": [
    "cube(4)\n",
    "cube(10.1)"
   ]
  },
  {
   "cell_type": "markdown",
   "metadata": {},
   "source": [
    "## Valeurs par défaut des arguments\n",
    "Il est souvent utile de préciser des valeurs par défaut à chaque paramètre. Pour cela nous allons à l'aide de `=` donner ces valeurs par défauts lors de la création de la fonction.\n",
    "\n",
    "    def nom_de_fonction(argument1 = valeur_defaut1, argument2 = valeur_defaut2) :\n",
    "        instruction 1\n",
    "        instruction 2\n",
    "        instruction 3...\n",
    "\n",
    "Reprenons l'exemple précédent en précisant une valeur par defaut."
   ]
  },
  {
   "cell_type": "code",
   "execution_count": 25,
   "metadata": {},
   "outputs": [],
   "source": [
    "def cube(x = 2) :\n",
    "    print(x*x*x)"
   ]
  },
  {
   "cell_type": "markdown",
   "metadata": {},
   "source": [
    "La fonction donne les mêmes résultats que précédemment. Mais il est possible de l'appeler sans lui donner d'argument. Dans ce cas, nous obtiendrons toujours $2^3$ :"
   ]
  },
  {
   "cell_type": "code",
   "execution_count": 26,
   "metadata": {},
   "outputs": [
    {
     "name": "stdout",
     "output_type": "stream",
     "text": [
      "64\n",
      "1030.301\n",
      "8\n"
     ]
    }
   ],
   "source": [
    "cube(4)\n",
    "cube(10.1)\n",
    "cube()          # Utilisation de la fonction avec les paramètres par défaut"
   ]
  },
  {
   "cell_type": "markdown",
   "metadata": {},
   "source": [
    "Voici un deuxième exemple. Cette fonction prend deux arguments `nombre` et `max`. Elle affiche la table de multiplication associée à `nombre` de 0 jusqu'à `max` :"
   ]
  },
  {
   "cell_type": "code",
   "execution_count": 4,
   "metadata": {},
   "outputs": [],
   "source": [
    "def TableMultiplication(nombre=2, max=10):\n",
    "    for i in range(0,max+1):\n",
    "        print(i,\"*\",nombre,\"=\",i*nombre)"
   ]
  },
  {
   "cell_type": "code",
   "execution_count": 5,
   "metadata": {},
   "outputs": [
    {
     "name": "stdout",
     "output_type": "stream",
     "text": [
      "0 * 2 = 0\n",
      "1 * 2 = 2\n",
      "2 * 2 = 4\n",
      "3 * 2 = 6\n",
      "4 * 2 = 8\n",
      "5 * 2 = 10\n"
     ]
    }
   ],
   "source": [
    "TableMultiplication(2,5) # on demande la table de 2 de 0 à 5"
   ]
  },
  {
   "cell_type": "code",
   "execution_count": 6,
   "metadata": {},
   "outputs": [
    {
     "name": "stdout",
     "output_type": "stream",
     "text": [
      "0 * 5 = 0\n",
      "1 * 5 = 5\n",
      "2 * 5 = 10\n",
      "3 * 5 = 15\n",
      "4 * 5 = 20\n",
      "5 * 5 = 25\n",
      "6 * 5 = 30\n",
      "7 * 5 = 35\n",
      "8 * 5 = 40\n",
      "9 * 5 = 45\n",
      "10 * 5 = 50\n"
     ]
    }
   ],
   "source": [
    "TableMultiplication(5) # on demande la table de 5. On ne spéccifie pas max. \n",
    "                       # La table ira jusqu'à 10, la valeur par défaut"
   ]
  },
  {
   "cell_type": "code",
   "execution_count": 7,
   "metadata": {},
   "outputs": [
    {
     "name": "stdout",
     "output_type": "stream",
     "text": [
      "0 * 2 = 0\n",
      "1 * 2 = 2\n",
      "2 * 2 = 4\n",
      "3 * 2 = 6\n",
      "4 * 2 = 8\n",
      "5 * 2 = 10\n"
     ]
    }
   ],
   "source": [
    "TableMultiplication(max=5) # on peut préciser quel argument on veut modifier \n"
   ]
  },
  {
   "cell_type": "code",
   "execution_count": 9,
   "metadata": {},
   "outputs": [
    {
     "name": "stdout",
     "output_type": "stream",
     "text": [
      "0 * 3 = 0\n",
      "1 * 3 = 3\n",
      "2 * 3 = 6\n",
      "3 * 3 = 9\n",
      "4 * 3 = 12\n",
      "5 * 3 = 15\n"
     ]
    }
   ],
   "source": [
    "TableMultiplication(max=5, nombre=3) # et ce dans l'ordre que l'on veut"
   ]
  },
  {
   "cell_type": "markdown",
   "metadata": {},
   "source": [
    "## Sortie d'une fonction (`return`)\n",
    "\n",
    "Les fonctions précédentes ne font qu'afficher des choses et il n'est pas possible de ce servir d'un résultat obtenu en dehors de la fonction.\n",
    "\n",
    "Afin de récupérer la *sortie* d'une fonction, on utilise la commande `return` puis on indique ce que l'on veut *sortir*. Reprenons la fonction `cube()`. On peut placer le résultat de cette fonction dans une variable : "
   ]
  },
  {
   "cell_type": "code",
   "execution_count": 1,
   "metadata": {},
   "outputs": [
    {
     "name": "stdout",
     "output_type": "stream",
     "text": [
      "La variable résultat vaut :  1000\n"
     ]
    }
   ],
   "source": [
    "def cube(x = 2) :\n",
    "    return x*x*x\n",
    "\n",
    "resultat = cube(10) # On affecte le resultat de cube(10) dans la variable resultat\n",
    "\n",
    "print(\"La variable résultat vaut : \", resultat)"
   ]
  },
  {
   "cell_type": "markdown",
   "metadata": {},
   "source": [
    "Il est également possible de retourner plusieurs résultats en même temps. Le résultat est sous forme de `list`. Nous verrons dans le TD suivant ce qui nous pouvons en faire. "
   ]
  },
  {
   "cell_type": "code",
   "execution_count": 13,
   "metadata": {},
   "outputs": [
    {
     "data": {
      "text/plain": [
       "(1, 2)"
      ]
     },
     "execution_count": 13,
     "metadata": {},
     "output_type": "execute_result"
    }
   ],
   "source": [
    "def classer(x,y) :\n",
    "    a,b =  x,y\n",
    "    if a > b :\n",
    "        a,b = b,a\n",
    "    return a,b\n",
    "\n",
    "classer(2,1)"
   ]
  },
  {
   "cell_type": "markdown",
   "metadata": {},
   "source": [
    "## Les librairies de fonctions\n",
    "\n",
    "Nous avons déjà chargé une librairie de fonctions : *numpy*\n",
    "Pour cela nous avions utilisé la commande :\n",
    "\n",
    "    from numpy import *\n",
    "\n",
    "Pour que cela fonctionne, il faut naturellement que la librairie *numpy* soit installée. On peut alors utiliser les fonctions mathématiques de *numpy*, exemple :\n",
    "\n",
    "    sqrt(12)\n",
    "    tan(15)\n",
    "\n",
    "Cet appel n'est en réalité pas très propre. La bonne façon d'appeller une librairie est la suivante :\n",
    "\n",
    "    import numpy as np\n",
    "    \n",
    "Pour utiliser la librairie *numpy*, il faut maintenant écrire :\n",
    "\n",
    "    np.sqrt(12)\n",
    "    np.tan(15)\n",
    "    \n",
    "Cela pourrait paraître plus fastidieux, mais maintenant lorsque nous appellons une fonction, nous savons dans quelle librairie nous allons la chercher. Lorsque l'on utilise plusieurs librairie, cela évite de se tromper et cela accélère *python*.\n",
    "\n",
    "Voici un exemple d'erreur. Ici nous allons charger deux librairies mathématiques. *numpy* et *math*. Lorsque l'on appelle la fonction racine (`sqrt()`), nous voyons qu'il y a une différence."
   ]
  },
  {
   "cell_type": "code",
   "execution_count": 7,
   "metadata": {},
   "outputs": [
    {
     "name": "stdout",
     "output_type": "stream",
     "text": [
      "3.4641016151377544\n",
      "3.46410161514\n"
     ]
    }
   ],
   "source": [
    "import numpy as np\n",
    "import math as mt\n",
    "\n",
    "print(mt.sqrt(12))\n",
    "print(np.sqrt(12))"
   ]
  },
  {
   "cell_type": "markdown",
   "metadata": {},
   "source": [
    "Si maintenant, nous prenons la racine d'un complexe, on voit que *numpy* y arrive, mais pas *math*."
   ]
  },
  {
   "cell_type": "code",
   "execution_count": 8,
   "metadata": {},
   "outputs": [
    {
     "name": "stdout",
     "output_type": "stream",
     "text": [
      "(3.4743442276+1.43912049943j)\n"
     ]
    },
    {
     "ename": "TypeError",
     "evalue": "can't convert complex to float",
     "output_type": "error",
     "traceback": [
      "\u001b[0;31m---------------------------------------------------------------------------\u001b[0m",
      "\u001b[0;31mTypeError\u001b[0m                                 Traceback (most recent call last)",
      "\u001b[0;32m<ipython-input-8-14805480af57>\u001b[0m in \u001b[0;36m<module>\u001b[0;34m\u001b[0m\n\u001b[1;32m      1\u001b[0m \u001b[0mnb\u001b[0m \u001b[0;34m=\u001b[0m \u001b[0;36m10\u001b[0m\u001b[0;34m+\u001b[0m\u001b[0;36m10j\u001b[0m\u001b[0;34m\u001b[0m\u001b[0m\n\u001b[1;32m      2\u001b[0m \u001b[0mprint\u001b[0m\u001b[0;34m(\u001b[0m\u001b[0mnp\u001b[0m\u001b[0;34m.\u001b[0m\u001b[0msqrt\u001b[0m\u001b[0;34m(\u001b[0m\u001b[0mnb\u001b[0m\u001b[0;34m)\u001b[0m\u001b[0;34m)\u001b[0m\u001b[0;34m\u001b[0m\u001b[0m\n\u001b[0;32m----> 3\u001b[0;31m \u001b[0mprint\u001b[0m\u001b[0;34m(\u001b[0m\u001b[0mmt\u001b[0m\u001b[0;34m.\u001b[0m\u001b[0msqrt\u001b[0m\u001b[0;34m(\u001b[0m\u001b[0mnb\u001b[0m\u001b[0;34m)\u001b[0m\u001b[0;34m)\u001b[0m\u001b[0;34m\u001b[0m\u001b[0m\n\u001b[0m",
      "\u001b[0;31mTypeError\u001b[0m: can't convert complex to float"
     ]
    }
   ],
   "source": [
    "nb = 10+10j\n",
    "print(np.sqrt(nb))\n",
    "print(mt.sqrt(nb))"
   ]
  },
  {
   "cell_type": "markdown",
   "metadata": {},
   "source": [
    "______________\n",
    "\n",
    "## Exercice 1 :  Arrondir un nombre\n",
    "\n",
    "1) Ecrire une fonction qui tronque un nombre à $n$ chiffres après la virgule. \n",
    "\n",
    "2) Tester avec plusieurs exemples, si cette fonction fonctionne correctement.\n",
    "\n",
    "3) Adapter ensuite la fonction pour qu'elle arrondisse correctement le nombre. Pensez au cas où le nombre est négatif."
   ]
  },
  {
   "cell_type": "code",
   "execution_count": null,
   "metadata": {},
   "outputs": [],
   "source": []
  },
  {
   "cell_type": "markdown",
   "metadata": {},
   "source": [
    "## Exercice 2 : Calculer $\\pi$\n",
    "\n",
    "La formule de Leibniz permet de calculer numériquement le nombre $\\pi$. \n",
    "\n",
    "<div align=\"center\">$\\sum_{n=0}^\\infty\\frac{(-1)^n}{2n+1}=\\frac11-\\frac13+\\frac15-\\frac17+\\frac19-\\cdots=\\frac\\pi4.$</div>\n",
    "\n",
    "*Note : c'est en réalité le développement de Taylor en 0 de la fonction $\\arctan(x)$ évalué en 1.*\n",
    "\n",
    "1) Ecrire une fonction qui calcule $\\pi_n$ à l'aide de la formule précédente calculée de 0 à $n$.\n",
    "\n",
    "2) Utiliser ensuite cette fonction dans une boucle pour chercher la valeur de $n$ telle que :\n",
    "\n",
    "<div align=\"center\"> $ \\|\\pi_{n+1}-\\pi_n \\| < 0.000001 $</div>\n",
    "\n",
    "*On obtient ici la valeur de $\\pi$ à une précision de 0.000001.*\n",
    "\n",
    "3) A partir de la boucle précédente, créer une fonction qui retourne la valeur de $\\pi$ à une précision donnée.\n"
   ]
  },
  {
   "cell_type": "code",
   "execution_count": null,
   "metadata": {},
   "outputs": [],
   "source": []
  },
  {
   "cell_type": "markdown",
   "metadata": {},
   "source": [
    "---------\n",
    "## Problème 1 : Racine d'une fonction mathématique par dichotomie\n",
    "\n",
    "*Dans cet exercice, nous allons utiliser tout ce que nous avons appris jusque ici et apprendre un algorithme très utilisé en informatique: **la dichotomie**. Nous allons le faire avec un exemple.*\n",
    "\n",
    "Nous souhaitons trouver numériquement les racines du polynôme suivant :\n",
    "\n",
    "<div align=\"center\"> $f(x) = x^3 + 3.6821627548\\,x^2 -3,7208387236\\,x -9,7979589711$</div>\n",
    "\n",
    "<img src=\"http://lappweb.in2p3.fr/~maurin/expl201/polynome.png\" alt=\"drawing\" width=\"800\"/>\n",
    "\n",
    "Nous voyons sur ce graphique qu'une racine est présente entre 0 et 3. Cela se voit car $f(0)$ est négatif et $f(3)$ est positif. Il existe donc une valeur entre les deux pour laquelle $f(x)=0$.\n",
    "\n",
    "On coupe alors l'intervalle en deux: \n",
    "\n",
    "- si $f(1.5)>0$ cela signifie que la racine est avant 1.5\n",
    "- si $f(1.5)<0$ cela signifie que la racine est après 1.5. C'est le cas dans notre exemple.\n",
    "\n",
    "Nous savons donc maintenant que la racine appartient à $[1.5,3]$. L'intervalle a été divisé par deux. Nous nous approchons de la racine.\n",
    "\n",
    "Nous allons donc utiliser cela pour chercher de façon itérative (*i.e. qui est répétée plusieurs fois*) la position exacte de la racine. A chaque itération, nous allons diviser par deux l'intervalle. \n",
    "\n",
    "Ici on part d'un intervalle de longueur $3$. Après une itération, il ne fera plus que $1.5$, puis $0.75$... Après $n$ itérations, il ne fera donc plus que $3/2^n$. Pour se rendre compte, au bout de 30 itérations l'intervalle fera $0.000000002793968$. Nous serons donc très proche de la racine.\n",
    "\n",
    "**A vous d'écrire cet algorithme. On pourra tout d'abord écrire une fonction qui pour un $x$ donné retourne $f(x)$. On peut ensuite écrire un code qui effectue la première itération, c'est à dire, ce qui est décrit au dessus. Il restera alors à répéter correctement la procédure $n$ fois à l'aide d'une boucle.**\n"
   ]
  },
  {
   "cell_type": "code",
   "execution_count": null,
   "metadata": {},
   "outputs": [],
   "source": []
  }
 ],
 "metadata": {
  "kernelspec": {
   "display_name": "Python 3",
   "language": "python",
   "name": "python3"
  },
  "language_info": {
   "codemirror_mode": {
    "name": "ipython",
    "version": 3
   },
   "file_extension": ".py",
   "mimetype": "text/x-python",
   "name": "python",
   "nbconvert_exporter": "python",
   "pygments_lexer": "ipython3",
   "version": "3.6.6"
  }
 },
 "nbformat": 4,
 "nbformat_minor": 2
}
