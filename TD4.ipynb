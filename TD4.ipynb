{
 "cells": [
  {
   "cell_type": "markdown",
   "metadata": {},
   "source": [
    "# Les listes\n",
    "\n",
    "**`list`** : *objet qui peut contenir plusieurs objets de différents types.*\n",
    "\n",
    "## Création d'une liste\n",
    "\n",
    "### Création simple : `[element1,element2...]`\n",
    "\n",
    "Pour créer une liste en python, c'est très simple. Il suffit de mettre les éléments de la liste entre crochets `[]` et de séparer les éléments avec une virgule `,`. Voici un exemple :\n",
    "\n",
    "    maliste = [1,\"lundi\",0.45]\n",
    "    \n",
    "- Il est possible de mélanger les types dans une liste, mais attention à ce que vous ferez après. Ici nous avons un `int`, un `str` entre `\"`et un `float`.\n",
    "\n",
    "\n",
    "### Liste vide : `[]`\n",
    "On peut aussi créer une liste vide, en n'indiquer aucun élément :\n",
    "\n",
    "    maliste = []\n",
    "    \n",
    "Ceci peut sembler surprenant et inutile, nous verrons plus loin que si, ça peut être très utile."
   ]
  },
  {
   "cell_type": "code",
   "execution_count": 1,
   "metadata": {},
   "outputs": [
    {
     "name": "stdout",
     "output_type": "stream",
     "text": [
      "<class 'list'>\n",
      "[]\n"
     ]
    }
   ],
   "source": [
    "maliste=[] # On crée une liste vide\n",
    "print(type(maliste))\n",
    "print(maliste)"
   ]
  },
  {
   "cell_type": "markdown",
   "metadata": {},
   "source": [
    "## Accèder à / modifier un élément de la liste\n",
    "\n",
    "On peut imaginer une liste comme un tableau à seule colonne. On peut donc accéder à un élément de la liste grâce à son indice (c-a-d le numéro de la ligne du tableau), entre utilsant des crochets [ ] juste après le nom de la variable et en indiquant dedans le numéro de l'élément à récupérer. Il faut toutefois noter que :\n",
    "- le premier élement a l'indice $0$\n",
    "- le second a l'indice $1$\n",
    "- le n$^{ième}$ a l'indice $n-1$\n",
    "\n",
    "Par exemple : "
   ]
  },
  {
   "cell_type": "code",
   "execution_count": 2,
   "metadata": {},
   "outputs": [
    {
     "name": "stdout",
     "output_type": "stream",
     "text": [
      "a\n",
      "d\n"
     ]
    }
   ],
   "source": [
    "maliste = ['a','b','c','d','e','f','g']\n",
    "print(maliste[0])\n",
    "print(maliste[3])"
   ]
  },
  {
   "cell_type": "markdown",
   "metadata": {},
   "source": [
    "Il est alors possible de modifier un élément de la liste. Pour cela on ré-affecte (`=`) une nouvelle valeur à l'élement que l'on veut modifier :"
   ]
  },
  {
   "cell_type": "code",
   "execution_count": 3,
   "metadata": {},
   "outputs": [
    {
     "name": "stdout",
     "output_type": "stream",
     "text": [
      "['a', 'b', 'toto', 'd', 'e', 'f', 'g']\n"
     ]
    }
   ],
   "source": [
    "maliste[2]='toto'\n",
    "print(maliste)"
   ]
  },
  {
   "cell_type": "markdown",
   "metadata": {},
   "source": [
    "Il est également possible d'extraire plusieurs éléments concécutifs. On indique entre `[]` l'index du premier élément et celui auquel on s'arrête (non inclus), en les séparant par `:` "
   ]
  },
  {
   "cell_type": "code",
   "execution_count": 4,
   "metadata": {},
   "outputs": [
    {
     "data": {
      "text/plain": [
       "['b', 'toto']"
      ]
     },
     "execution_count": 4,
     "metadata": {},
     "output_type": "execute_result"
    }
   ],
   "source": [
    "maliste[1:3] # on extrait ici les élément d'index 1 et 2. Le 3 est exclu. "
   ]
  },
  {
   "cell_type": "markdown",
   "metadata": {},
   "source": [
    "Ceci s'appelle techniquement une tranche, ou une *slice* en anglais."
   ]
  },
  {
   "cell_type": "markdown",
   "metadata": {},
   "source": [
    "## Ajouter un élément dans une liste\n",
    "\n",
    "### Méthodes et fonctions\n",
    "\n",
    "*Nous avons vu précédemment plusieurs exemples de **fonctions**, qui peuvent avoir des arguments mais ne les modifient pas. Ici nous allons voir un nouveau concept, les **méthodes**, qui agissent sur un objet et le transforment. Nous allons le montrer avec un objet de type `list`. La syntaxe est différente de celle des fonctions.*\n",
    "\n",
    "### La méthode `append()` pour ajouter un élément à la fin d'une liste\n",
    "*Pour utiliser une méthode, on indique le nom de la variable suivie d'un `.` puis le nom de la méthode avec ses arguments.*\n",
    "\n",
    "Par exemple, pour ajouter un élément à la fin d'une liste, on utilise la **méthode `append()` de la classe `list`**. Elle prend en argument la valeur à ajouter : \n",
    "\n",
    "    maliste.append(\"h\")\n",
    "    \n",
    "Voici un exemple, où l'on voit que la liste a été transformée.\n",
    "    "
   ]
  },
  {
   "cell_type": "code",
   "execution_count": 5,
   "metadata": {},
   "outputs": [
    {
     "name": "stdout",
     "output_type": "stream",
     "text": [
      "['a', 'b', 'd', 'e', 'f', 'g', 'h']\n"
     ]
    }
   ],
   "source": [
    "maliste = ['a','b','d','e','f','g']\n",
    "maliste.append(\"h\")\n",
    "print(maliste)"
   ]
  },
  {
   "cell_type": "markdown",
   "metadata": {},
   "source": [
    "### Insertion d'un élément : `insert()`"
   ]
  },
  {
   "cell_type": "markdown",
   "metadata": {},
   "source": [
    "La fonction `insert()` est également **une méthode associée au type `list`**. Elle prend deux arguments : l'indice où l'on va insérer l'élement, et la valeur que l'on souhaite insérer :\n",
    "\n",
    "    maliste.insert(2,\"c\")\n",
    "\n",
    "Regardons ce que cela donne :"
   ]
  },
  {
   "cell_type": "code",
   "execution_count": 6,
   "metadata": {},
   "outputs": [
    {
     "name": "stdout",
     "output_type": "stream",
     "text": [
      "['a', 'b', 'd', 'e', 'f', 'g', 'h']\n",
      "['a', 'b', 'c', 'd', 'e', 'f', 'g', 'h']\n"
     ]
    }
   ],
   "source": [
    "print(maliste)\n",
    "maliste.insert(2,\"c\")\n",
    "print(maliste)"
   ]
  },
  {
   "cell_type": "markdown",
   "metadata": {},
   "source": [
    "*Remarque : lorsque l'indice d'insertion vaut n, la méthode va décaler les élements d'indice supérieur à n, pour intercaler la valeur supplémentaire.*"
   ]
  },
  {
   "cell_type": "markdown",
   "metadata": {},
   "source": [
    "---\n",
    "## Exercice 1.1\n",
    "Insérer le nombre qui semble manquer dans la liste suivante, puis afficher la liste complétée\n",
    "\n",
    "     [2, 4, 6, 8, 12, 14, 16]"
   ]
  },
  {
   "cell_type": "code",
   "execution_count": 7,
   "metadata": {},
   "outputs": [],
   "source": [
    "maliste = [2, 4, 6, 8, 12, 14, 16]"
   ]
  },
  {
   "cell_type": "markdown",
   "metadata": {},
   "source": [
    "---\n",
    "### Supprimer un élement : `remove()`\n",
    "\n",
    "La fonction `remove()` associée au type `list` permet de supprimer un élément. Cette fonction prend en argument, **non pas l'indice de l'élément à supprimer, mais l'élément lui-même** :\n",
    "\n",
    "    maliste.remove(\"c\")\n",
    "\n",
    "Exemple :"
   ]
  },
  {
   "cell_type": "code",
   "execution_count": 8,
   "metadata": {},
   "outputs": [
    {
     "name": "stdout",
     "output_type": "stream",
     "text": [
      "['a', 'b', 'c', 'd', 'c', 'e']\n",
      "['a', 'b', 'd', 'c', 'e']\n"
     ]
    }
   ],
   "source": [
    "maliste = ['a','b','c','d','c','e']\n",
    "print(maliste)\n",
    "maliste.remove(\"c\")\n",
    "print(maliste)"
   ]
  },
  {
   "cell_type": "markdown",
   "metadata": {},
   "source": [
    "---\n",
    "## Exercice 1.2\n",
    "Déterminer ce que fait le programme suivant, sans l'exécuter, puis vérifier en l'exécutant"
   ]
  },
  {
   "cell_type": "code",
   "execution_count": null,
   "metadata": {},
   "outputs": [],
   "source": [
    "maliste = ['Maxwell', 'Einstein', 'Kepler', 'Galilée']\n",
    "maliste.append('Curie')\n",
    "maliste.remove('Maxwell')\n",
    "maliste.insert(1, 'Meitner')\n",
    "print(maliste)"
   ]
  },
  {
   "cell_type": "markdown",
   "metadata": {},
   "source": [
    "*On note que s'il y a plusieurs fois le même élément, c'est le premier qui est supprimé.*\n",
    "\n",
    "---\n",
    "## Concaténer des listes : `+`\n",
    "\n",
    "*Nous l'avons peut-être déjà pratiqué sur les chaînes de caractères (il se trouve qu'il s'agit d'un type de `list`).*\n",
    "\n",
    "Il est possible de concaténer (de mettre bout à bout) des listes grâce à l'opérateur `+`:\n",
    "\n",
    "    maliste1+maliste2\n",
    "    \n",
    "exemple :"
   ]
  },
  {
   "cell_type": "code",
   "execution_count": null,
   "metadata": {},
   "outputs": [],
   "source": [
    "maliste1 = [\"a\",\"b\",\"c\"]\n",
    "maliste2 = [\"d\",\"e\",\"f\"]\n",
    "maliste1 + maliste2"
   ]
  },
  {
   "cell_type": "markdown",
   "metadata": {},
   "source": [
    "### Nombre d'éléments dans une liste : `len()`\n",
    "\n",
    "La fonction `len()` permet de connaître le nombre d'éléments d'une liste :\n",
    "\n",
    "    len(maliste)\n",
    "\n",
    "Exemple :"
   ]
  },
  {
   "cell_type": "code",
   "execution_count": null,
   "metadata": {},
   "outputs": [],
   "source": [
    "maliste = [\"a\",\"b\",\"c\"]\n",
    "len(maliste)"
   ]
  },
  {
   "cell_type": "markdown",
   "metadata": {},
   "source": [
    "## La méthode `copy()`pour copier une liste.\n",
    "\n",
    "Il existe également une commande qui permet de copier une liste. C'est tout simplement la fonction `copy()`. Elle fonctionne de la façon suivante :"
   ]
  },
  {
   "cell_type": "code",
   "execution_count": 9,
   "metadata": {},
   "outputs": [
    {
     "name": "stdout",
     "output_type": "stream",
     "text": [
      "[1, 2, 3]\n"
     ]
    }
   ],
   "source": [
    "liste1 = [1,2,3]\n",
    "liste2 = liste1.copy() # on crée ici une copie de la liste1 que l'on affecte dans la variable liste2\n",
    "print(liste2)"
   ]
  },
  {
   "cell_type": "markdown",
   "metadata": {},
   "source": [
    "## Parcourir une liste :\n",
    "\n",
    "### Avec une boucle `while` :\n",
    "\n",
    "Grâce à la fonction`len()`, nous connaissons le nombre d'éléments de la liste. Il est alors facile d'écrire une boucle `while` pour parcourir notre liste :"
   ]
  },
  {
   "cell_type": "code",
   "execution_count": null,
   "metadata": {},
   "outputs": [],
   "source": [
    "liste = ['a', 'b', 'c', 'd', 'e', 'f']\n",
    "i = 0 #initialisation du compteur\n",
    "\n",
    "while i < len(liste) :\n",
    "    print(liste[i])\n",
    "    i += 1    # ne pas oublier de faire avancer le compteur"
   ]
  },
  {
   "cell_type": "markdown",
   "metadata": {},
   "source": [
    "*Cette méthode n'est pas la plus élégante ni la plus naturelle en python : elle nécessite entre autre de créer à la main un compteur. On évitera de s'en servir en python. Cette méthode reste cependant la plus utilisée dans les autres langages.*\n"
   ]
  },
  {
   "cell_type": "markdown",
   "metadata": {},
   "source": [
    "Il reste encore plusieurs choses à voir sur les listes, mais faisons dès maintenant quelques applications, pour s'exercer.\n",
    "\n",
    "--------\n",
    "## Exercice 2 : Population de bactéries\n",
    "\n",
    "Une population de bactéries augmente de 2% toutes les heures. Au début leur nombre est de 5000.\n",
    "* Ecrire un programme générant une liste avec le nombre de bactéries toutes les heures (pour 100h)\n",
    "* Parcourir cette liste et déterminer au bout de combien d'heures la population dépasse 10000\n"
   ]
  },
  {
   "cell_type": "code",
   "execution_count": null,
   "metadata": {},
   "outputs": [],
   "source": []
  },
  {
   "cell_type": "markdown",
   "metadata": {},
   "source": [
    "---\n",
    "## Exercice 3 : Échange de valeurs\n",
    "\n",
    "Ecrire un programme qui échange les valeurs du premier et du dernier élement d'une liste. Ce programme doit fonctionner quelle que soit la liste initiale.\n",
    "\n",
    "Rappel pour échanger les valeurs contenues dans `a` et `b` :\n",
    "\n",
    "    a = 10\n",
    "    b = 12\n",
    "    a,b = b,a"
   ]
  },
  {
   "cell_type": "code",
   "execution_count": null,
   "metadata": {},
   "outputs": [],
   "source": [
    "liste = ['Meitner', 'Maxwell', 'Curie', 'Einstein', 'Kepler', 'Galilée']"
   ]
  },
  {
   "cell_type": "markdown",
   "metadata": {},
   "source": [
    "---\n",
    "## Exercice 4 : Rendre la monaie\n",
    "\n",
    "Écrire un programme qui décompose une somme d'argent en un minimum de billets et pièces nécessaires pour recomposer ladite somme. On pourra utiliser une liste pour associer chaque pièce (ou billet) au nombre nécessaire pour calculer la somme."
   ]
  },
  {
   "cell_type": "code",
   "execution_count": null,
   "metadata": {},
   "outputs": [],
   "source": []
  }
 ],
 "metadata": {
  "kernelspec": {
   "display_name": "Python 3 (ipykernel)",
   "language": "python",
   "name": "python3"
  },
  "language_info": {
   "codemirror_mode": {
    "name": "ipython",
    "version": 3
   },
   "file_extension": ".py",
   "mimetype": "text/x-python",
   "name": "python",
   "nbconvert_exporter": "python",
   "pygments_lexer": "ipython3",
   "version": "3.9.13"
  }
 },
 "nbformat": 4,
 "nbformat_minor": 4
}
