{
 "cells": [
  {
   "cell_type": "markdown",
   "metadata": {},
   "source": [
    "# La simulation *pas à pas*\n",
    "\n",
    "Nous ne verrons ici que le début du sujet car il faudrait bien plus de temps pour aborder ce domaine. Vous le ferez surement dans le futur.\n",
    "\n",
    "Reprenons le dernier exercice comme exemple :\n",
    "\n",
    "*Un avions lâche une caisse de matériel d'une altitude $H$ et une vitesse initiale horizontale $\\vec{v_0}$. Nous allons étudier la trajetoire de la caisse.*\n",
    "\n",
    "<img src=\"http://lappweb.in2p3.fr/~maurin/expl201/largage.png\" alt=\"drawing\" width=\"400\"/>\n",
    "\n",
    "* On prendra $H=10000\\,$m, $g=9.81\\,$m.s$^{-2}$ et $v_0=100\\,$m.s$^{-1}$\n",
    "\n",
    "\n",
    "Récupérer les données $(x,z)$ de la chûte  enregistrées dans le fichier Excel : *fichiers/Chute.xlsx* grâce à la librairie **pandas** (vous pouvez également utiliser le fichier **Chute.csv** en cas de soucis de lecture)"
   ]
  },
  {
   "cell_type": "code",
   "execution_count": null,
   "metadata": {},
   "outputs": [],
   "source": []
  },
  {
   "cell_type": "markdown",
   "metadata": {},
   "source": [
    "Afficher $z$ en fonction de $x$ grâce à la librairie **matplotlib** \n"
   ]
  },
  {
   "cell_type": "code",
   "execution_count": null,
   "metadata": {},
   "outputs": [],
   "source": []
  },
  {
   "cell_type": "markdown",
   "metadata": {},
   "source": [
    "\n",
    "-----\n",
    "\n",
    "Faire une **simulation**, c’est calculer et représenter les différents états successifs de l’évolution d’un modèle (représentant un système physique ou biologique ou ...) au cours du temps. \n",
    "\n",
    "Nous allons ainsi partir d'un état initial et faire avancer le temps par petit *pas* ($\\delta t$) en faisant un certain nombre d'hypothèses et de calculs.\n",
    "\n",
    "**Il faut maintenant trouver le moyen de faire *\"avancer le temps\"*. Mais comment ?**\n"
   ]
  },
  {
   "cell_type": "markdown",
   "metadata": {},
   "source": [
    "\n",
    "----\n",
    "\n",
    "\n",
    "### Grâce au développement de Taylor !!!!\n",
    "\n",
    "En effet, si nous prenons $\\delta t$ très petit, on peut toujours écrire à l'ordre 1 que :\n",
    "\n",
    "$$f(t+\\delta t) = f(t) + \\frac{df(t)}{dt}\\,\\delta t$$\n",
    "\n",
    "Appliqué à $x(t)$ cela donne : \n",
    "\n",
    "$$x(t+\\delta t) = x(t) + \\frac{dx(t)}{dt}\\,\\delta t $$\n",
    "\n",
    "Mais nous savons aussi que $\\frac{dx(t)}{dt}=v_x(t)$, d'où :\n",
    "$$x(t+\\delta t) = x(t) + v_x(t)\\,\\delta t $$\n",
    "\n",
    "Nous voyons ici que l'on peut calculer $x$ au temps $t+\\delta$ si l'on connaît $x$ et $v_x$ au temps   précédent $t$.\n",
    "\n",
    "\n",
    "Appliquons cela à $t=0$ pour calculer la position $x$ au temps $\\delta t$ :\n",
    "$$x(\\delta t) = x(0) + v_x(0)\\,\\delta t$$\n",
    "\n",
    "Si vous regardez la situation initiale, nous avons tout ce qu'il faut pour faire ces calculs. Il est donc possible à partir des conditions à l'instant $t=0$ de calculer la position à l'instant $\\delta t$.\n",
    "\n",
    "Et le plus fort, c'est que l'on peut faire le même raisonnement pour calculer la vitesse $v_x$ à l'instant $\\delta t$ :\n",
    "$$v_x(\\delta t) = v_x(0) + a_x(0)\\,\\delta t$$\n",
    "\n",
    "Je vous laisse imaginer comment calculer $z$ et $v_z$ à l'instant $\\delta t$.\n",
    "____\n",
    "\n",
    "### Passons à la partie code.\n",
    "\n",
    "En informatique, il est impossible d'écrire directement $x(\\delta t)$ ou $x(t+\\delta t)$. Cela n'a pas de sens. Nous allons donc utiliser une liste pour $x(t)$ :\n",
    "\n",
    "- Le premier élément de la liste correspondra à : $t=0$\n",
    "- Le deuxième à : $t=\\delta t$\n",
    "- Le troisième à : $t=2\\, t$\n",
    "- Le $n^{ème}$ à : $t=n\\, t$\n",
    "\n",
    "Le développement de Taylor permet alors de lié l'élément $[1]$ à l'élément précédent $[0]$ :\n",
    "<div align=\"center\">`x[1] = x[0] + vx[0] * DeltaT` </div>\n",
    "<div align=\"center\"> `vx[1] = vx[0] + ax[0] * DeltaT`   </div>\n",
    "\n",
    "Un fois tous les élements $[1]$, on peut calculer de la même façon les élements $[2]$. Et grâce à une boucle on peut faire cela autant de fois que nécessaire. "
   ]
  },
  {
   "cell_type": "markdown",
   "metadata": {},
   "source": [
    "\n",
    "## Ecrire la boucle pour faire avancer le temps\n",
    "\n",
    "1) Ecrire un code simple qui calcule $x[1]$ et $v_x[1]$ en connaissant $x[0]$ et $v_x[0]$. Il faudra tout d'abord donner les valeurs initiales et initialiser les listes nécessaires.\n",
    "\n",
    "2) Inclure et adapter ce code dans une boucle pour calculer au fur et à mesure la position $x$ en fonction du temps\n",
    "\n",
    "3) Ajouter proprement le calcul de $z$, $v_z$ et $a_z$.\n",
    "\n",
    "3) Afficher la trajectoire (`z` en fonction de `x`). Comparer aux données. \n",
    "\n",
    "4) Tester différentes valeurs de `DeltaT`. Quel influence à ce paramètre ?"
   ]
  },
  {
   "cell_type": "markdown",
   "metadata": {},
   "source": [
    "Pour notre situation, voici l'état initial :\n",
    "\n",
    "- $t=0$\n",
    "- $x(0) = 0$\n",
    "- $z(0) = H$\n",
    "- $v_x(0) = v_0$\n",
    "- $v_z(0) = 0$\n",
    "- $a_x(0) = 0$\n",
    "- $a_z(0) = -g$"
   ]
  },
  {
   "cell_type": "code",
   "execution_count": null,
   "metadata": {},
   "outputs": [],
   "source": []
  },
  {
   "cell_type": "markdown",
   "metadata": {},
   "source": [
    "## Exercice 1 suite : forces de frottement\n",
    "\n",
    "Dans la simulation précédente, nous avons considéré qu'il n'y avait que le poids. Vous savez bien que cela est faux. On va donc ajouter la force de frottements visqueux : $\\vec{f} = -h\\,\\vec{v}$.\n",
    "\n",
    "Que faut-il changer dans notre simulation ? En réalité, pas grand chose. **Les développements de Taylor restent justes**. Il ne faut donc que calculer proprement l'accélération $a_x$ et $a_z$ en prenant compte cette nouvelle force.\n",
    "\n",
    "1) Ajouter la force de frottement à la simulation précédente\n",
    "\n",
    "2) Chercher un cefficient $h$ qui correspond à peu prêt aux données. Tester pour cela des valeurs de 10 en 10 (ex: 10, 1, 0.1....)"
   ]
  },
  {
   "cell_type": "code",
   "execution_count": null,
   "metadata": {},
   "outputs": [],
   "source": []
  }
 ],
 "metadata": {
  "kernelspec": {
   "display_name": "Python 3 (ipykernel)",
   "language": "python",
   "name": "python3"
  },
  "language_info": {
   "codemirror_mode": {
    "name": "ipython",
    "version": 3
   },
   "file_extension": ".py",
   "mimetype": "text/x-python",
   "name": "python",
   "nbconvert_exporter": "python",
   "pygments_lexer": "ipython3",
   "version": "3.9.12"
  }
 },
 "nbformat": 4,
 "nbformat_minor": 4
}
