{
 "cells": [
  {
   "cell_type": "markdown",
   "metadata": {},
   "source": [
    "# Lire et écrire un fichier\n",
    "\n",
    "Dans ce TD, nous allons voir comment ouvrir, lire et écrire un fichier. Ce TD requière que le fichier *fable.txt* soit placé dans un répertoire nommé *fichiers*.\n",
    "\n",
    "\n",
    "## Ouvrir un fichier (`open()`)\n",
    "Pour ouvrir un fichier, on utilise la fonction `open()` en lui indiquant le chemin (relatif ou absolu) du fichier ainsi que le mode d'ouverture :\n",
    "\n",
    "- `r` pour *read* : le fichier sera accessible en lecture seule\n",
    "- `w` pour *write* : le fichier sera ouvert en écriture et le contenu sera écrasé.\n",
    "- `a` pour *append* : le fichier sera ouvert en écriture. L'écriture se fera en fin de fichier et le contenu ne sera pas perdu\n",
    "- `b` pour *binary* : cette option peut s'ajouter au précédente. Elle permet de spécifier que le fichier est un fichier *binaire*. Nous y reviendrons plus tard.\n",
    "\n",
    "L'appel de la fonction se fait de la façon suivante :"
   ]
  },
  {
   "cell_type": "code",
   "execution_count": 59,
   "metadata": {},
   "outputs": [
    {
     "data": {
      "text/plain": [
       "_io.TextIOWrapper"
      ]
     },
     "execution_count": 59,
     "metadata": {},
     "output_type": "execute_result"
    }
   ],
   "source": [
    "mon_fichier = open(\"fichiers/fable.txt\",\"r\") # ouverture en mode lecture seule\n",
    "type(mon_fichier)"
   ]
  },
  {
   "cell_type": "markdown",
   "metadata": {},
   "source": [
    "La fonction `open()` retourne un objet de type `TextIOWrapper`. Même si nous ne regarderons pas en détail ce type d'objet, nous allons voir comment s'en servir. La fonction associée `read()` retourne le contenu du fichier sous forme d'un *gros* `str`. "
   ]
  },
  {
   "cell_type": "code",
   "execution_count": 60,
   "metadata": {},
   "outputs": [
    {
     "data": {
      "text/plain": [
       "str"
      ]
     },
     "execution_count": 60,
     "metadata": {},
     "output_type": "execute_result"
    }
   ],
   "source": [
    "contenu = mon_fichier.read()\n",
    "type(contenu)"
   ]
  },
  {
   "cell_type": "markdown",
   "metadata": {},
   "source": [
    "On peut donc utiliser tout ce que l'on sait sur les `str`."
   ]
  },
  {
   "cell_type": "code",
   "execution_count": 61,
   "metadata": {},
   "outputs": [
    {
     "name": "stdout",
     "output_type": "stream",
     "text": [
      "Maître Corbeau, sur un arbre perché,\n",
      "Tenait en son bec un fromage.\n",
      "Maître Renard, par l'odeur alléché,\n",
      "Lui tint à peu près ce langage :\n",
      "Et bonjour, Monsieur du Corbeau,\n",
      "Que vous êtes joli ! que vous me semblez beau !\n",
      "\n"
     ]
    }
   ],
   "source": [
    "print(contenu)"
   ]
  },
  {
   "cell_type": "markdown",
   "metadata": {},
   "source": [
    "## Fermer un fichier (`close()`)\n",
    "\n",
    "Pour fermer un fichier ouvert, on utilise la fonction associée `close()` sur l'objet de type `TextIOWrapper`."
   ]
  },
  {
   "cell_type": "code",
   "execution_count": 62,
   "metadata": {},
   "outputs": [],
   "source": [
    "mon_fichier.close()"
   ]
  },
  {
   "cell_type": "markdown",
   "metadata": {},
   "source": [
    "## Ecrire des `str` dans un fichier (`write()`)\n",
    "\n",
    "Pour écrire dans un fichier, il faut tout d'abord l'ouvrir. On peut ouvrir un fichier existant, mais aussi ouvrir un fichier qui n'existe pas encore. Dans ce cas il sera créé."
   ]
  },
  {
   "cell_type": "code",
   "execution_count": 63,
   "metadata": {},
   "outputs": [],
   "source": [
    "mon_fichier = open(\"fichiers/nouveau.txt\",\"w\") # création du fichier nouveau.txt"
   ]
  },
  {
   "cell_type": "markdown",
   "metadata": {},
   "source": [
    "On peut alors ajouter écrire du texte dans le fichier sous forme de `str` avec la fonction associée `write()` :"
   ]
  },
  {
   "cell_type": "code",
   "execution_count": 64,
   "metadata": {},
   "outputs": [
    {
     "data": {
      "text/plain": [
       "42"
      ]
     },
     "execution_count": 64,
     "metadata": {},
     "output_type": "execute_result"
    }
   ],
   "source": [
    "mon_fichier.write(contenu)\n",
    "mon_fichier.write(\"Sans mentir, si votre ramage\")\n",
    "mon_fichier.write(\"Se rapporte à votre plumage,\")\n",
    "mon_fichier.write(\"Vous êtes le Phénix des hôtes de ces bois.\")"
   ]
  },
  {
   "cell_type": "markdown",
   "metadata": {},
   "source": [
    "*La fonction `write()` renvoie le nombre de caractères ajoutés. Ici le `42`correspond à la dernière commande `write()`.*\n",
    "\n",
    "Il ne reste plus qu'à fermer le fichier."
   ]
  },
  {
   "cell_type": "code",
   "execution_count": 65,
   "metadata": {},
   "outputs": [],
   "source": [
    "mon_fichier.close()"
   ]
  },
  {
   "cell_type": "markdown",
   "metadata": {},
   "source": [
    "Vous pouvez vérifier que dans le répertoire fichiers, le fichier *nouveau.txt* a été créé et qu'il contient le texte précédent. Vous pouvez utiliser la commande shell `cat` pour afficher le contenu du fichier. "
   ]
  },
  {
   "cell_type": "markdown",
   "metadata": {},
   "source": [
    "## Fonctions associées aux `str `\n",
    "\n",
    "*Jusqu'à présent, nous n'avons pas vraiment regardé les fonctions associées aux `str`. La lecture et l'écriture de `str` dans un fichier est l'occasion de revenir sur plusieurs fonction qui peuvent être utiles. Nous ne serons pas exhaustif. N'hésitez pas à chercher sur internet...*\n",
    "\n",
    "**Avant d'aller plius loin, Nous rappelons que les chaînes de caractères sont des listes. Vous pouvez donc utiliser toutes les méthodes que nous avons vues dans le TD 5.**\n",
    "\n",
    "### Fonctions simples :"
   ]
  },
  {
   "cell_type": "code",
   "execution_count": 77,
   "metadata": {},
   "outputs": [
    {
     "data": {
      "text/plain": [
       "'  mon texte  '"
      ]
     },
     "execution_count": 77,
     "metadata": {},
     "output_type": "execute_result"
    }
   ],
   "source": [
    "texte = \"  mon TEXTE  \"\n",
    "texte.lower() # met tout en minuscule "
   ]
  },
  {
   "cell_type": "code",
   "execution_count": 78,
   "metadata": {},
   "outputs": [
    {
     "data": {
      "text/plain": [
       "'  MON TEXTE  '"
      ]
     },
     "execution_count": 78,
     "metadata": {},
     "output_type": "execute_result"
    }
   ],
   "source": [
    "texte.upper() # met tout en majuscule "
   ]
  },
  {
   "cell_type": "code",
   "execution_count": 79,
   "metadata": {},
   "outputs": [
    {
     "data": {
      "text/plain": [
       "'  mon texte  '"
      ]
     },
     "execution_count": 79,
     "metadata": {},
     "output_type": "execute_result"
    }
   ],
   "source": [
    "texte.capitalize() #  met une majuscule en début de phrase et le reste en minuscule"
   ]
  },
  {
   "cell_type": "code",
   "execution_count": 80,
   "metadata": {},
   "outputs": [
    {
     "data": {
      "text/plain": [
       "'mon TEXTE'"
      ]
     },
     "execution_count": 80,
     "metadata": {},
     "output_type": "execute_result"
    }
   ],
   "source": [
    "texte.strip() # retire les expaces en début et fin de chaîne"
   ]
  },
  {
   "cell_type": "code",
   "execution_count": 87,
   "metadata": {},
   "outputs": [
    {
     "data": {
      "text/plain": [
       "'T'"
      ]
     },
     "execution_count": 87,
     "metadata": {},
     "output_type": "execute_result"
    }
   ],
   "source": [
    "texte.find(\"TEXTE\") # cherche une chaîne de caractères \n",
    "                    # et renvoie l'index du début de la chaîne (ici 6).\n",
    "texte[6]"
   ]
  },
  {
   "cell_type": "code",
   "execution_count": 70,
   "metadata": {},
   "outputs": [
    {
     "data": {
      "text/plain": [
       "'La ho ho ho ho !!!'"
      ]
     },
     "execution_count": 70,
     "metadata": {},
     "output_type": "execute_result"
    }
   ],
   "source": [
    "texte = \"La la la la la !!!\"\n",
    "texte.replace(\"la\",\"ho\") # remplace une chaîne par une autre"
   ]
  },
  {
   "cell_type": "code",
   "execution_count": 71,
   "metadata": {},
   "outputs": [
    {
     "data": {
      "text/plain": [
       "'La ho ho la la !!!'"
      ]
     },
     "execution_count": 71,
     "metadata": {},
     "output_type": "execute_result"
    }
   ],
   "source": [
    "texte = \"La la la la la !!!\"\n",
    "texte.replace(\"la\",\"ho\",2) # remplace une chaîne par une autre, \n",
    "                           # un nombre de fois spécifié"
   ]
  },
  {
   "cell_type": "markdown",
   "metadata": {},
   "source": [
    "### Fonction associée `format()`\n",
    "\n",
    "Cette fonction est très puissante. Elle permet de créer facilement des chaînes de caractères dynamique. Lors de la création de la chaîne de caractère, on place des *labels* entre `{}`qui seront remplacés par des valeurs spécifiées dans la fonction `format()`. Ok, regardons un exemple, ce sera plus parlant :"
   ]
  },
  {
   "cell_type": "code",
   "execution_count": 72,
   "metadata": {},
   "outputs": [
    {
     "name": "stdout",
     "output_type": "stream",
     "text": [
      "Je m'appelle {prenom} et j'ai {age} ans.\n"
     ]
    }
   ],
   "source": [
    "texte = \"Je m'appelle {prenom} et j'ai {age} ans.\" # deux labels {prenom} et {age} sont spécifiés\n",
    "print(texte) # on peut afficher la chaîne précédente."
   ]
  },
  {
   "cell_type": "code",
   "execution_count": 73,
   "metadata": {},
   "outputs": [
    {
     "data": {
      "text/plain": [
       "\"Je m'appelle Thomas et j'ai 20 ans.\""
      ]
     },
     "execution_count": 73,
     "metadata": {},
     "output_type": "execute_result"
    }
   ],
   "source": [
    "texte.format(prenom=\"Thomas\",age=20) # la fonction format remplace ici les balises par les valeurs indiquées"
   ]
  },
  {
   "cell_type": "markdown",
   "metadata": {},
   "source": [
    "*Notez qu'ici la variable `texte` n'est pas modifiée :*"
   ]
  },
  {
   "cell_type": "code",
   "execution_count": 74,
   "metadata": {},
   "outputs": [
    {
     "name": "stdout",
     "output_type": "stream",
     "text": [
      "Je m'appelle {prenom} et j'ai {age} ans.\n"
     ]
    }
   ],
   "source": [
    "print(texte)"
   ]
  },
  {
   "cell_type": "markdown",
   "metadata": {},
   "source": [
    "Si l'on souhaite modifié la variable `texte` de façon définitive, on peut écrire :"
   ]
  },
  {
   "cell_type": "code",
   "execution_count": 75,
   "metadata": {},
   "outputs": [
    {
     "name": "stdout",
     "output_type": "stream",
     "text": [
      "Je m'appelle Thomas et j'ai 20 ans.\n"
     ]
    }
   ],
   "source": [
    "texte = texte.format(prenom=\"Thomas\",age=20)\n",
    "print(texte)"
   ]
  },
  {
   "cell_type": "markdown",
   "metadata": {},
   "source": [
    "------\n",
    "\n",
    "## Exercice 1 : Tableaux périodiques\n",
    "\n",
    "Atomes = [[\"Fer\",26],[\"Ag\",47],[\"Ca\",20],[\"Al\",13],[\"Ne\",10],[\"O\",8],[\"Au\",79]]\n",
    "\n",
    "1) Ecrire un programme qui parcourt la liste précédente et affiche pour chaque élément :\n",
    "\n",
    "    \"L'élément XXX a pour numéro atomique YYY.\".\n",
    "\n",
    "2) Modifier ce programme pour que le texte affiché soit maintenant sauvegardé dans un fichier."
   ]
  },
  {
   "cell_type": "markdown",
   "metadata": {},
   "source": [
    "## Problème 1 : Fichier codé\n",
    "\n",
    "Récupérer le fichier *code.txt* et placer un sous répertoire *fichiers* dans votre répertoire de travail.\n",
    "\n",
    "Ce fichier est codé. Il va falloir le décoder. Le code est le suivant :\n",
    "- les chiffres 0,1,2,3,4,5,6,7,8,9 replacent respectivement a,c,e,i,l,n,o,r,s,t\n",
    "- Chaque caractère (espace compris) a été échangé avec son voisin, exemple :\n",
    "*\"Le train arrive.\"* -> *\"eLt arnia rrvi.e\"*\n",
    "\n",
    "1) Ouvrir le fichier et afficher le texte qu'il contient\n",
    "\n",
    "2) Décoder le code\n"
   ]
  },
  {
   "cell_type": "code",
   "execution_count": null,
   "metadata": {},
   "outputs": [],
   "source": []
  },
  {
   "cell_type": "markdown",
   "metadata": {},
   "source": [
    "------\n",
    "## Ecrire des objets dans un fichier (`pickle`)\n",
    "\n",
    "Il est également possible d'enregistrer des *objets* comme des listes dans des fichiers et de les récupérer plus tard. Pour cela, nous allons utiliser la librairie `pickle`."
   ]
  },
  {
   "cell_type": "code",
   "execution_count": 17,
   "metadata": {},
   "outputs": [],
   "source": [
    "import pickle"
   ]
  },
  {
   "cell_type": "markdown",
   "metadata": {},
   "source": [
    "Comme précédemment, on ouvre en écriture (`w`) le fichier que l'on veut créer en ajoutant l'option `b` pour préciser que le fichier sera au format bianaire. \n",
    "\n",
    "*Le fichier ne sera donc pas lisible par un humain, moais l'ordinateur pour y mettre des informations supplémaires pour y stocker des objets.*\n",
    "\n",
    "Une fois le fichier ouvert, on utilise la fonction associée `pickle.dump(objet,fichier)` pour ajouter un objet dans le fichier. Il est possible d'ajouter plusieurs objets. Il ne reste plus qu'à fermer le fichier.  "
   ]
  },
  {
   "cell_type": "code",
   "execution_count": 35,
   "metadata": {},
   "outputs": [],
   "source": [
    "import numpy as np\n",
    "\n",
    "\n",
    "fichier = open(\"fichiers/data.bin\",\"wb\")\n",
    "\n",
    "x = []\n",
    "y = []\n",
    "\n",
    "for i in range(20):\n",
    "    x.append(i*0.1)\n",
    "    y.append(np.sin(i*0.1))\n",
    "\n",
    "pickle.dump(x,fichier)\n",
    "pickle.dump(y,fichier)\n",
    "\n",
    "fichier.close()"
   ]
  },
  {
   "cell_type": "markdown",
   "metadata": {},
   "source": [
    "Pour récupérer plus tard, ce que nous avons mis dans le fichier, il faut réouvrir le fichier avec les options `rb`, puis charger un à un les objets sauvegardés."
   ]
  },
  {
   "cell_type": "code",
   "execution_count": 36,
   "metadata": {},
   "outputs": [
    {
     "name": "stdout",
     "output_type": "stream",
     "text": [
      "[0.0, 0.1, 0.2, 0.30000000000000004, 0.4, 0.5, 0.6000000000000001, 0.7000000000000001, 0.8, 0.9, 1.0, 1.1, 1.2000000000000002, 1.3, 1.4000000000000001, 1.5, 1.6, 1.7000000000000002, 1.8, 1.9000000000000001]\n",
      "[0.0, 0.09983341664682815, 0.19866933079506122, 0.2955202066613396, 0.3894183423086505, 0.479425538604203, 0.5646424733950355, 0.6442176872376911, 0.7173560908995228, 0.7833269096274833, 0.8414709848078965, 0.8912073600614354, 0.9320390859672264, 0.963558185417193, 0.9854497299884603, 0.9974949866040544, 0.9995736030415051, 0.9916648104524686, 0.9738476308781951, 0.9463000876874145]\n"
     ]
    }
   ],
   "source": [
    "fichier = open(\"fichiers/data.bin\",\"rb\")\n",
    "\n",
    "x = pickle.load(fichier)\n",
    "y = pickle.load(fichier)\n",
    "\n",
    "print(x)\n",
    "print(y)\n"
   ]
  },
  {
   "cell_type": "markdown",
   "metadata": {},
   "source": [
    "Noter que **vous devez savoir ce qu'il y a dans le fichier**. S'il y a deux objets et que vous en chargez trois, il y aura une erreur:"
   ]
  },
  {
   "cell_type": "code",
   "execution_count": 37,
   "metadata": {},
   "outputs": [
    {
     "ename": "EOFError",
     "evalue": "Ran out of input",
     "output_type": "error",
     "traceback": [
      "\u001b[0;31m---------------------------------------------------------------------------\u001b[0m",
      "\u001b[0;31mEOFError\u001b[0m                                  Traceback (most recent call last)",
      "\u001b[0;32m<ipython-input-37-fb57e1700de5>\u001b[0m in \u001b[0;36m<module>\u001b[0;34m\u001b[0m\n\u001b[0;32m----> 1\u001b[0;31m \u001b[0mToto\u001b[0m \u001b[0;34m=\u001b[0m \u001b[0mpickle\u001b[0m\u001b[0;34m.\u001b[0m\u001b[0mload\u001b[0m\u001b[0;34m(\u001b[0m\u001b[0mfichier\u001b[0m\u001b[0;34m)\u001b[0m\u001b[0;34m\u001b[0m\u001b[0;34m\u001b[0m\u001b[0m\n\u001b[0m",
      "\u001b[0;31mEOFError\u001b[0m: Ran out of input"
     ]
    }
   ],
   "source": [
    "Toto = pickle.load(fichier)"
   ]
  },
  {
   "cell_type": "markdown",
   "metadata": {},
   "source": [
    "N'oubliez pas de fermer le fichier."
   ]
  },
  {
   "cell_type": "code",
   "execution_count": 38,
   "metadata": {},
   "outputs": [],
   "source": [
    "fichier.close()"
   ]
  },
  {
   "cell_type": "markdown",
   "metadata": {},
   "source": [
    "-----\n",
    "\n",
    "## Exercice 2 : PIB par pays\n",
    "\n",
    "Le fichier *PIB.bin* contient une liste d'élément. Chaque élément est constitué du nom d'un pays, de son PIB par habitant et de son nombre d'habitants.\n",
    "\n",
    "1) Charger le fichier, récuperer la liste.\n",
    "\n",
    "2) Afficher à l'aide d'un nuage de point, le PIB par habitant en fonction du nombre d'habitants.\n",
    "\n",
    "3) Calculer le PIB total de chaque pays. Quel Pays a le PIB total le plus important ?"
   ]
  },
  {
   "cell_type": "code",
   "execution_count": null,
   "metadata": {},
   "outputs": [],
   "source": []
  },
  {
   "cell_type": "markdown",
   "metadata": {},
   "source": [
    "## Problème 2 : Chûte libre\n",
    "\n",
    "Un avions lâche une caisse de matériel d'une altitude $H$ et une vitesse initiale horizontale $\\vec{v_0}$. \n",
    "Nous allons étudier la trajetoire de la caisse. \n",
    "\n",
    "<img src=\"http://lappweb.in2p3.fr/~maurin/expl201/largage.png\" alt=\"drawing\" width=\"400\"/>\n",
    "\n",
    "Si l'on néglige les frottements, la trajectoire s'obtient à partir du principe fondamentalre de la dynamique. Ici il n'y a que le poids $\\vec{p}$ qui agit donc :\n",
    "\n",
    "- $a_x = 0$\n",
    "- $a_z = -g$\n",
    "- $v_x = v_0$\n",
    "- $v_z = -g\\,t$\n",
    "- $x = v_0\\,t$\n",
    "- $z = -1/2g\\,t^2+H$\n",
    "\n",
    "On prendra $H=10000\\,$m, $g=9.81\\,$m.s$^{-2}$ et $v_0=100\\,$m.s$^{-1}$\n",
    "\n",
    "1) Tracer la trajectoire jusqu'au sol, c'est à dire $z$ en fonction de $x$.\n",
    "\n",
    "2) Cette chûte a été enregistrée par une caméra. Le fichier *chute.bin* contient la trajectoire enregistrée sous forme de deux listes : la première correspond à $x$, la seconde à $z$. Tracer un même schéma la trajectoire enregistrée et celle calculée précedemment.\n",
    "\n",
    "3) D'où provient la différence observée ?"
   ]
  },
  {
   "cell_type": "code",
   "execution_count": null,
   "metadata": {},
   "outputs": [],
   "source": []
  }
 ],
 "metadata": {
  "kernelspec": {
   "display_name": "Python 3",
   "language": "python",
   "name": "python3"
  },
  "language_info": {
   "codemirror_mode": {
    "name": "ipython",
    "version": 3
   },
   "file_extension": ".py",
   "mimetype": "text/x-python",
   "name": "python",
   "nbconvert_exporter": "python",
   "pygments_lexer": "ipython3",
   "version": "3.6.9"
  }
 },
 "nbformat": 4,
 "nbformat_minor": 4
}
