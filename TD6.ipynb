{
 "cells": [
  {
   "cell_type": "markdown",
   "metadata": {},
   "source": [
    "# Les boucles `for`\n"
   ]
  },
  {
   "cell_type": "markdown",
   "metadata": {},
   "source": [
    "\n",
    "L'autre structure permettant de faire des opérations répétitives est la boucle `for`: on répète un bloc d'instruction **en parcourant une liste**. \n",
    "\n",
    "Cela s'écrit de la façon suivante :\n",
    "\n",
    "    for element in liste :\n",
    "        instruction 1\n",
    "        instruction 2\n",
    "        instruction 3....\n",
    "\n",
    "Dans cette boucle `for`, la variable `element` va prendre tour à tour toutes les valeurs contenues dans la variable `liste`. Et à chaque fois, les instructions vont être exécutées.\n",
    "\n",
    "L'exemple suivant présente l'utilisation de la boucle `for` avec une liste simple :"
   ]
  },
  {
   "cell_type": "code",
   "execution_count": null,
   "metadata": {},
   "outputs": [],
   "source": [
    "liste = [1,\"lundi\",0.45]\n",
    "\n",
    "for element in liste :\n",
    "    print(\"La variable element vaut : \", element)"
   ]
  },
  {
   "cell_type": "markdown",
   "metadata": {},
   "source": [
    "Dans cet exemple, la variable `element` prend tour à tour la valeur `1` puis `\"lundi\"` puis `0.45`. A chaque fois, l'ensemble des instructions est exécuté.\n",
    "\n",
    "*Ici pas besoin de connaître le nombre d'élément, ni de créer un compteur. C'est bien plus joli. Mais sans compteur, nous ne savons pas à quel élément nous en sommes, ce qui sera gênant dans certaines situations. Il y a donc une solution que nous verrons un peu plus loin.*"
   ]
  },
  {
   "cell_type": "markdown",
   "metadata": {},
   "source": [
    "---\n",
    "## Exercice 1.1\n",
    "Créer une liste contenant les entiers de 0 à 9 et créer une boucle qui les affiche un par un"
   ]
  },
  {
   "cell_type": "code",
   "execution_count": null,
   "metadata": {},
   "outputs": [],
   "source": []
  },
  {
   "cell_type": "markdown",
   "metadata": {},
   "source": [
    "---\n",
    "## Exercice 1.2\n",
    "Écrire un programme qui écrit les carrés des 10 premiers entiers, avec une boucle `for`. L'éxécution du programme doit donner exactement la sortie suivante :\n",
    "\n",
    "    1^2 =  1\n",
    "    2^2 =  4\n",
    "    3^2 =  9\n",
    "    4^2 =  16\n",
    "    5^2 =  25\n",
    "    6^2 =  36\n",
    "    7^2 =  49\n",
    "    8^2 =  64\n",
    "    9^2 =  81\n",
    "    10^2 =  100\n",
    "    \n",
    "On pourra s'inspirer fortement du programme de l'exercice 1.3 du TD3."
   ]
  },
  {
   "cell_type": "code",
   "execution_count": null,
   "metadata": {},
   "outputs": [],
   "source": []
  },
  {
   "cell_type": "markdown",
   "metadata": {},
   "source": [
    "---\n",
    "## Les listes - Chaînes de caractères : `str`\n",
    "\n",
    "Les chaînes de caractères (`str`) sont des listes. Grâce à la boucle `for` nous pouvons parcourir tous les caractères qui composent une chaîne de caractères. Voyons un exemple, ce sera plus parlant :"
   ]
  },
  {
   "cell_type": "code",
   "execution_count": null,
   "metadata": {},
   "outputs": [],
   "source": [
    "phrase = \"\"\"Il fait 30°C.\"\"\"  \n",
    "\n",
    "for lettre in phrase : # grace à cette ligne, on parcourt toutes les lettres de la phrase les unes après les autres\n",
    "    print(\"La variable lettre vaut : \", lettre)"
   ]
  },
  {
   "cell_type": "markdown",
   "metadata": {},
   "source": [
    "## Les listes - Suites d'entier : fonction `range()`\n",
    "\n",
    "Nous avons eu besoin plus haut d'une suite d'entiers successifs, par exemple $0, 1, 2, 3, 4...$. Nous l'avons fait de façon manuelle :\n",
    "\n",
    "    suite = [0,1,2,3,4,5,6,7,8,9]"
   ]
  },
  {
   "cell_type": "code",
   "execution_count": null,
   "metadata": {},
   "outputs": [],
   "source": [
    "suite = [0,1,2,3,4,5,6,7,8,9]\n",
    "\n",
    "for entier in suite :\n",
    "    print(\"La variable entier vaut : \", entier)"
   ]
  },
  {
   "cell_type": "markdown",
   "metadata": {},
   "source": [
    "Mais si la liste devient très grande, ce n'est pas bien pratique. Python fournit la fonction `range()` qui permet de la générer automatiquement. Cela fonctionne de la façon suivante :\n",
    "\n",
    "    range(debut,fin)\n",
    "\n",
    "Une suite d'entier de 0 à 9 s'écrit ainsi : `range(0,10)` ou directement `range(10)` car la valeur de départ est $0$ si elle n'est pas indiquée (valeur par défaut). \n",
    "\n",
    "La boucle `for` s'écrit alors :"
   ]
  },
  {
   "cell_type": "code",
   "execution_count": null,
   "metadata": {},
   "outputs": [],
   "source": [
    "suite = range(0,10)\n",
    "\n",
    "for entier in suite :\n",
    "    print(\"La variable entier vaut : \", entier)"
   ]
  },
  {
   "cell_type": "markdown",
   "metadata": {},
   "source": [
    "Il est également possible d'utiliser directement la fonction `range()` dans l'appel de la boucle `for`:"
   ]
  },
  {
   "cell_type": "code",
   "execution_count": null,
   "metadata": {},
   "outputs": [],
   "source": [
    "for entier in range(0,10) :\n",
    "    print(\"La variable entier vaut : \", entier)"
   ]
  },
  {
   "cell_type": "markdown",
   "metadata": {},
   "source": [
    "---\n",
    "## Exercice 1.3 : Reprenons l'exemple initial \n",
    "Reprendre l'exemple du début et remplacer ces 10 lignes par une boucle `for` équivalente en utilisant la fonction `range()`. "
   ]
  },
  {
   "cell_type": "code",
   "execution_count": null,
   "metadata": {},
   "outputs": [],
   "source": [
    "print(\"1^2 = \",1*1)\n",
    "print(\"2^2 = \",2*2)\n",
    "print(\"3^2 = \",3*3)\n",
    "print(\"4^2 = \",4*4)\n",
    "print(\"5^2 = \",5*5)\n",
    "print(\"6^2 = \",6*6)\n",
    "print(\"7^2 = \",7*7)\n",
    "print(\"8^2 = \",8*8)\n",
    "print(\"9^2 = \",9*9)\n",
    "print(\"10^2 = \",10*10)"
   ]
  },
  {
   "cell_type": "markdown",
   "metadata": {},
   "source": [
    "**Vous savez tout ce dont nous aurons besoin sur les boucles `for`et `while`. N'oubliez pas que dans la boucle vous pouvez utiliser toutes les instructions que vous voulez. Par exemple, on peut mettre un `if` dans une boucle ou imbriquer plusieurs boucles. A vous de jouer.**"
   ]
  },
  {
   "cell_type": "markdown",
   "metadata": {},
   "source": [
    "---\n",
    "## Accumulateurs\n",
    "Nous présentons ici une technique extrêmement utile et courante. Pour calculer la somme des entiers de 1 à 10, on peut utiliser une boucle `for`, en créant une variable `somme` initialisée à 0, à laquelle on ajoute chacun des éléments de la liste grâce à la boucle. À la fin, la variable `somme` contient le résultat cherché."
   ]
  },
  {
   "cell_type": "code",
   "execution_count": null,
   "metadata": {},
   "outputs": [],
   "source": [
    "liste = [1, 2, 3, 4, 5, 6, 7, 8, 9, 10]\n",
    "somme = 0\n",
    "for nombre in liste:\n",
    "    somme = somme + nombre\n",
    "print(somme)"
   ]
  },
  {
   "cell_type": "markdown",
   "metadata": {},
   "source": [
    "---\n",
    "## Exercice 1.7\n",
    "Calculer la somme des carrés des nombres compris entre 1 et 10 ($1^2 + 2^2+3^3+4^2+5^5+6^2+7^2+8^2+9^2+10^2$), avec une boucle `for`, sur le modèle précédent."
   ]
  },
  {
   "cell_type": "code",
   "execution_count": null,
   "metadata": {},
   "outputs": [],
   "source": [
    "liste = [1, 2, 3, 4, 5, 6, 7, 8, 9, 10]"
   ]
  },
  {
   "cell_type": "markdown",
   "metadata": {},
   "source": [
    "---\n",
    "## Boucle `for` et la fonction `enumerate()` :\n",
    "\n",
    "Il est plus simple de vous présenter un exemple et de le commenter :"
   ]
  },
  {
   "cell_type": "code",
   "execution_count": null,
   "metadata": {},
   "outputs": [],
   "source": [
    "liste = ['a', 'b', 'c', 'd', 'e', 'f']\n",
    "\n",
    "for i, element in enumerate(liste) :\n",
    "    print(\"L'élément\",i,\"vaut :\",element)"
   ]
  },
  {
   "cell_type": "markdown",
   "metadata": {},
   "source": [
    "Durant cette boucle `for`, la variable `element` va prendre tour à tour toutes la valeurs conetnues dans la varibale `liste` pendant que la variable `i` va prendre le numéro de l'indice correspondant, comme un compteur qui avance à chaque boucle en partant de $0$."
   ]
  },
  {
   "cell_type": "markdown",
   "metadata": {},
   "source": [
    "## Boucle `for` et la fonction `zip`\n",
    "\n",
    "Si vous avez besoin de parcourir deux listes en parallèles, *c-à-d* récupérer le 1er élement de deux listes, puis le 2ème élement de deux listes... vous pouvez utiliser la fonction `zip`de la façon suivant : "
   ]
  },
  {
   "cell_type": "code",
   "execution_count": null,
   "metadata": {},
   "outputs": [],
   "source": [
    "liste1 = [\"a\",\"b\",\"c\",\"d\"]\n",
    "liste2 = [1,2,3]\n",
    "\n",
    "for lettre,chiffre in zip(liste1,liste2) :\n",
    "    print(lettre,chiffre)"
   ]
  },
  {
   "cell_type": "markdown",
   "metadata": {},
   "source": [
    "Dans cet exemple, les valeurs contenues dans `liste1` vont être stockées, tout à tour, dans la variable `lettre`. De la même façon, la variable `chiffre` va recueillir les valeurs de `liste2`.\n",
    "\n",
    "Autre point important, ici nos deux listes sont de taille différentes. La boucle s'arrete lorsque l'on atteind la fin d'une des listes.\n",
    "\n",
    "*Notez que la fonction `zip` fonctionne avec autant de liste que l'on souhaite*"
   ]
  },
  {
   "cell_type": "markdown",
   "metadata": {},
   "source": [
    "---\n",
    "## Exercice 2 : Notes de contrôle\n",
    "\n",
    "Lors d'un semestre, un lycéen a eu les notes suivantes : $10.5 ; 12.5 ; 19 ; 4.5 ; 10.5 ; 15 ; 8; 6.5 ; 14 ; 17 ; 13 ; 8.5 ; 12 ; 15,5 ; 2 ; 7 ; 10 ; 15.5 ; 20 ; 19,5 ; 1.5$\n",
    "\n",
    "1) Ecrire un code qui calcule la moyenne de ces notes. Pour votre confort, la liste est déjà fournie."
   ]
  },
  {
   "cell_type": "code",
   "execution_count": null,
   "metadata": {},
   "outputs": [],
   "source": [
    "notes = [10.5, 12.5, 19, 4.5, 10.5, 15, 8, 6.5, 14, 17, 13, 8.5, 12,  15.5,  2, 7, 10, 15.5, 20, 19.5,  1.5]"
   ]
  },
  {
   "cell_type": "markdown",
   "metadata": {},
   "source": [
    "2) Recopiez puis modifiez ce code pour qu'il recherche en même temps la meilleure note que le lycéen a eu."
   ]
  },
  {
   "cell_type": "code",
   "execution_count": null,
   "metadata": {},
   "outputs": [],
   "source": []
  },
  {
   "cell_type": "markdown",
   "metadata": {},
   "source": [
    "3) Recopiez puis modifiez ce code pour qu'il compte en même temps combien de notes sont au dessus de la moyenne. "
   ]
  },
  {
   "cell_type": "code",
   "execution_count": null,
   "metadata": {},
   "outputs": [],
   "source": []
  },
  {
   "cell_type": "markdown",
   "metadata": {},
   "source": [
    "---\n",
    "## Exercice 3 : Recherche de petits nombres \n",
    "\n",
    "Ecrire un programme qui à partir d'une liste, par exemple (1, 13, 33, 2, 4, 40), fabrique une nouvelle liste ne contenant que les nombres supérieurs à 10.\n",
    "\n",
    "Algorithme :\n",
    "- Parcourir un à un les termes de la liste\n",
    "- Grâce à une condition, afficher seulement les termes < 10\n",
    "- Placer ces termes dans une nouvelle liste \n",
    "- Afficher la nouvelle liste après la boucle"
   ]
  },
  {
   "cell_type": "code",
   "execution_count": null,
   "metadata": {},
   "outputs": [],
   "source": []
  },
  {
   "cell_type": "markdown",
   "metadata": {},
   "source": [
    "---\n",
    "## Exercice 4 : Liste symétrique \n",
    "Ecrire un programme qui vérifie si une liste est symétrique (liste identique à la liste à l'envers)\n",
    "\n",
    "Algorithme :\n",
    "- Parcourir et afficher les termes de la liste\n",
    "- Inverser le sens de parcours de la liste (avec la fonction `reversed`)\n",
    "- Créer la liste symétrique (à l'envers)\n",
    "- Vérifier si la liste et la liste symétrique sont identiques avec un test `if`"
   ]
  },
  {
   "cell_type": "code",
   "execution_count": null,
   "metadata": {},
   "outputs": [],
   "source": []
  },
  {
   "cell_type": "markdown",
   "metadata": {},
   "source": [
    "---\n",
    "## Exercice 5 : Encadrement d'angles [-180,180]\n",
    "Ecrire un code qui remplace les angles de la liste suivante par leurs équivalents entre $[-180,180]$.\n",
    "\n",
    "liste_angle = [1234,17345,-31243,23,245,456,3600]\n",
    "\n",
    "Algorithme :\n",
    "- Parcourir et afficher les termes de la liste\n",
    "- Utiliser le modulo (`%`) pour rammener l'angle antre 0 et 360\n",
    "- Tester (avec un `if`) si l'angle est supérieur à 180, dans ce cas retrancher 360\n",
    "- Placer le résulat dans la liste à la place de l'angle initial"
   ]
  },
  {
   "cell_type": "code",
   "execution_count": null,
   "metadata": {},
   "outputs": [],
   "source": []
  },
  {
   "cell_type": "markdown",
   "metadata": {},
   "source": [
    "---\n",
    "## Exercice 6 : Trier une liste \n",
    "Écrire un programme qui trie du plus petit au plus grand une liste composée de nombres quelconques. *(attention aux petits malins, on vous demande de créer votre propre programme et non pas d'utiliser une fonction toute faite).*\n",
    "\n",
    "liste = [435, 324, 456, 56, 567, -45, 546, 0, 345, 2, -5]\n",
    "\n",
    "Algorithme :\n",
    "- Parcourir et afficher les termes de la liste\n",
    "- Lors du parcours, identifier le nombre le plus petit en faisant un test (`if`)\n",
    "- Ajouter ce minimum dans une nouvelle liste, et effacer ce dernier de la première liste\n",
    "- Réitérer ce processus à l'aide d'une boucle "
   ]
  },
  {
   "cell_type": "code",
   "execution_count": null,
   "metadata": {},
   "outputs": [],
   "source": []
  }
 ],
 "metadata": {
  "kernelspec": {
   "display_name": "Python 3 (ipykernel)",
   "language": "python",
   "name": "python3"
  },
  "language_info": {
   "codemirror_mode": {
    "name": "ipython",
    "version": 3
   },
   "file_extension": ".py",
   "mimetype": "text/x-python",
   "name": "python",
   "nbconvert_exporter": "python",
   "pygments_lexer": "ipython3",
   "version": "3.10.9"
  }
 },
 "nbformat": 4,
 "nbformat_minor": 4
}
