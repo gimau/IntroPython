{
 "cells": [
  {
   "cell_type": "markdown",
   "metadata": {},
   "source": [
    "# Lire et écrire un fichier\n",
    "\n",
    "Dans ce TD, nous allons voir comment ouvrir, lire et écrire un fichier. Ce TD requière que le fichier *fable.txt* soit placé dans un répertoire nommé *fichiers*.\n",
    "\n",
    "\n",
    "## Ouvrir un fichier (`open()`)\n",
    "Pour ouvrir un fichier, on utilise la fonction `open()` en lui indiquant le chemin (relatif ou absolu) du fichier ainsi que le mode d'ouverture :\n",
    "\n",
    "- `r` pour *read* : le fichier sera accessible en lecture seule\n",
    "- `w` pour *write* : le fichier sera ouvert en écriture et le contenu sera écrasé.\n",
    "- `a` pour *append* : le fichier sera ouvert en écriture. L'écriture se fera en fin de fichier et le contenu ne sera pas perdu\n",
    "- `b` pour *binary* : cette option peut s'ajouter au précédente. Elle permet de spécifier que le fichier est un fichier *binaire*. Nous y reviendrons plus tard.\n",
    "\n",
    "L'appel de la fonction se fait de la façon suivante :"
   ]
  },
  {
   "cell_type": "code",
   "execution_count": 59,
   "metadata": {},
   "outputs": [
    {
     "data": {
      "text/plain": [
       "_io.TextIOWrapper"
      ]
     },
     "execution_count": 59,
     "metadata": {},
     "output_type": "execute_result"
    }
   ],
   "source": [
    "mon_fichier = open(\"fichiers/fable.txt\",\"r\") # ouverture en mode lecture seule\n",
    "type(mon_fichier)"
   ]
  },
  {
   "cell_type": "markdown",
   "metadata": {},
   "source": [
    "La fonction `open()` retourne un objet de type `TextIOWrapper`. Même si nous ne regarderons pas en détail ce type d'objet, nous allons voir comment s'en servir. La fonction associée `read()` retourne le contenu du fichier sous forme d'un *gros* `str`. "
   ]
  },
  {
   "cell_type": "code",
   "execution_count": 60,
   "metadata": {},
   "outputs": [
    {
     "data": {
      "text/plain": [
       "str"
      ]
     },
     "execution_count": 60,
     "metadata": {},
     "output_type": "execute_result"
    }
   ],
   "source": [
    "contenu = mon_fichier.read()\n",
    "type(contenu)"
   ]
  },
  {
   "cell_type": "markdown",
   "metadata": {},
   "source": [
    "On peut donc utiliser tout ce que l'on sait sur les `str`."
   ]
  },
  {
   "cell_type": "code",
   "execution_count": 61,
   "metadata": {},
   "outputs": [
    {
     "name": "stdout",
     "output_type": "stream",
     "text": [
      "Maître Corbeau, sur un arbre perché,\n",
      "Tenait en son bec un fromage.\n",
      "Maître Renard, par l'odeur alléché,\n",
      "Lui tint à peu près ce langage :\n",
      "Et bonjour, Monsieur du Corbeau,\n",
      "Que vous êtes joli ! que vous me semblez beau !\n",
      "\n"
     ]
    }
   ],
   "source": [
    "print(contenu)"
   ]
  },
  {
   "cell_type": "markdown",
   "metadata": {},
   "source": [
    "## Fermer un fichier (`close()`)\n",
    "\n",
    "Pour fermer un fichier ouvert, on utilise la fonction associée `close()` sur l'objet de type `TextIOWrapper`."
   ]
  },
  {
   "cell_type": "code",
   "execution_count": 62,
   "metadata": {},
   "outputs": [],
   "source": [
    "mon_fichier.close()"
   ]
  },
  {
   "cell_type": "markdown",
   "metadata": {},
   "source": [
    "## Ecrire des `str` dans un fichier (`write()`)\n",
    "\n",
    "Pour écrire dans un fichier, il faut tout d'abord l'ouvrir. On peut ouvrir un fichier existant, mais aussi ouvrir un fichier qui n'existe pas encore. Dans ce cas il sera créé."
   ]
  },
  {
   "cell_type": "code",
   "execution_count": 63,
   "metadata": {},
   "outputs": [],
   "source": [
    "mon_fichier = open(\"fichiers/nouveau.txt\",\"w\") # création du fichier nouveau.txt"
   ]
  },
  {
   "cell_type": "markdown",
   "metadata": {},
   "source": [
    "On peut alors ajouter écrire du texte dans le fichier sous forme de `str` avec la fonction associée `write()` :"
   ]
  },
  {
   "cell_type": "code",
   "execution_count": 64,
   "metadata": {},
   "outputs": [
    {
     "data": {
      "text/plain": [
       "42"
      ]
     },
     "execution_count": 64,
     "metadata": {},
     "output_type": "execute_result"
    }
   ],
   "source": [
    "mon_fichier.write(contenu)\n",
    "mon_fichier.write(\"Sans mentir, si votre ramage\")\n",
    "mon_fichier.write(\"Se rapporte à votre plumage,\")\n",
    "mon_fichier.write(\"Vous êtes le Phénix des hôtes de ces bois.\")"
   ]
  },
  {
   "cell_type": "markdown",
   "metadata": {},
   "source": [
    "*La fonction `write()` renvoie le nombre de caractères ajoutés. Ici le `42`correspond à la dernière commande `write()`.*\n",
    "\n",
    "Il ne reste plus qu'à fermer le fichier."
   ]
  },
  {
   "cell_type": "code",
   "execution_count": 65,
   "metadata": {},
   "outputs": [],
   "source": [
    "mon_fichier.close()"
   ]
  },
  {
   "cell_type": "markdown",
   "metadata": {},
   "source": [
    "Vous pouvez vérifier que dans le répertoire fichiers, le fichier *nouveau.txt* a été créé et qu'il contient le texte précédent. Vous pouvez utiliser la commande shell `cat` pour afficher le contenu du fichier. "
   ]
  },
  {
   "cell_type": "markdown",
   "metadata": {},
   "source": [
    "## Fonctions associées aux `str `\n",
    "\n",
    "*Jusqu'à présent, nous n'avons pas vraiment regardé les fonctions associées aux `str`. La lecture et l'écriture de `str` dans un fichier est l'occasion de revenir sur plusieurs fonction qui peuvent être utiles. Nous ne serons pas exhaustif. N'hésitez pas à chercher sur internet...*\n",
    "\n",
    "**Avant d'aller plius loin, Nous rappelons que les chaînes de caractères sont des listes. Vous pouvez donc utiliser toutes les méthodes que nous avons vues dans le TD 5.**\n",
    "\n",
    "### Fonctions simples :"
   ]
  },
  {
   "cell_type": "code",
   "execution_count": 77,
   "metadata": {},
   "outputs": [
    {
     "data": {
      "text/plain": [
       "'  mon texte  '"
      ]
     },
     "execution_count": 77,
     "metadata": {},
     "output_type": "execute_result"
    }
   ],
   "source": [
    "texte = \"  mon TEXTE  \"\n",
    "texte.lower() # met tout en minuscule "
   ]
  },
  {
   "cell_type": "code",
   "execution_count": 78,
   "metadata": {},
   "outputs": [
    {
     "data": {
      "text/plain": [
       "'  MON TEXTE  '"
      ]
     },
     "execution_count": 78,
     "metadata": {},
     "output_type": "execute_result"
    }
   ],
   "source": [
    "texte.upper() # met tout en majuscule "
   ]
  },
  {
   "cell_type": "code",
   "execution_count": 79,
   "metadata": {},
   "outputs": [
    {
     "data": {
      "text/plain": [
       "'  mon texte  '"
      ]
     },
     "execution_count": 79,
     "metadata": {},
     "output_type": "execute_result"
    }
   ],
   "source": [
    "texte.capitalize() #  met une majuscule en début de phrase et le reste en minuscule"
   ]
  },
  {
   "cell_type": "code",
   "execution_count": 80,
   "metadata": {},
   "outputs": [
    {
     "data": {
      "text/plain": [
       "'mon TEXTE'"
      ]
     },
     "execution_count": 80,
     "metadata": {},
     "output_type": "execute_result"
    }
   ],
   "source": [
    "texte.strip() # retire les expaces en début et fin de chaîne"
   ]
  },
  {
   "cell_type": "code",
   "execution_count": 87,
   "metadata": {},
   "outputs": [
    {
     "data": {
      "text/plain": [
       "'T'"
      ]
     },
     "execution_count": 87,
     "metadata": {},
     "output_type": "execute_result"
    }
   ],
   "source": [
    "texte.find(\"TEXTE\") # cherche une chaîne de caractères \n",
    "                    # et renvoie l'index du début de la chaîne (ici 6).\n",
    "texte[6]"
   ]
  },
  {
   "cell_type": "code",
   "execution_count": 70,
   "metadata": {},
   "outputs": [
    {
     "data": {
      "text/plain": [
       "'La ho ho ho ho !!!'"
      ]
     },
     "execution_count": 70,
     "metadata": {},
     "output_type": "execute_result"
    }
   ],
   "source": [
    "texte = \"La la la la la !!!\"\n",
    "texte.replace(\"la\",\"ho\") # remplace une chaîne par une autre"
   ]
  },
  {
   "cell_type": "code",
   "execution_count": 71,
   "metadata": {},
   "outputs": [
    {
     "data": {
      "text/plain": [
       "'La ho ho la la !!!'"
      ]
     },
     "execution_count": 71,
     "metadata": {},
     "output_type": "execute_result"
    }
   ],
   "source": [
    "texte = \"La la la la la !!!\"\n",
    "texte.replace(\"la\",\"ho\",2) # remplace une chaîne par une autre, \n",
    "                           # un nombre de fois spécifié"
   ]
  },
  {
   "cell_type": "markdown",
   "metadata": {},
   "source": [
    "### Fonction associée `format()`\n",
    "\n",
    "Cette fonction est très puissante. Elle permet de créer facilement des chaînes de caractères dynamique. Lors de la création de la chaîne de caractère, on place des *labels* entre `{}`qui seront remplacés par des valeurs spécifiées dans la fonction `format()`. Ok, regardons un exemple, ce sera plus parlant :"
   ]
  },
  {
   "cell_type": "code",
   "execution_count": 72,
   "metadata": {},
   "outputs": [
    {
     "name": "stdout",
     "output_type": "stream",
     "text": [
      "Je m'appelle {prenom} et j'ai {age} ans.\n"
     ]
    }
   ],
   "source": [
    "texte = \"Je m'appelle {prenom} et j'ai {age} ans.\" # deux labels {prenom} et {age} sont spécifiés\n",
    "print(texte) # on peut afficher la chaîne précédente."
   ]
  },
  {
   "cell_type": "code",
   "execution_count": 73,
   "metadata": {},
   "outputs": [
    {
     "data": {
      "text/plain": [
       "\"Je m'appelle Thomas et j'ai 20 ans.\""
      ]
     },
     "execution_count": 73,
     "metadata": {},
     "output_type": "execute_result"
    }
   ],
   "source": [
    "texte.format(prenom=\"Thomas\",age=20) # la fonction format remplace ici les balises par les valeurs indiquées"
   ]
  },
  {
   "cell_type": "markdown",
   "metadata": {},
   "source": [
    "*Notez qu'ici la variable `texte` n'est pas modifiée :*"
   ]
  },
  {
   "cell_type": "code",
   "execution_count": 74,
   "metadata": {},
   "outputs": [
    {
     "name": "stdout",
     "output_type": "stream",
     "text": [
      "Je m'appelle {prenom} et j'ai {age} ans.\n"
     ]
    }
   ],
   "source": [
    "print(texte)"
   ]
  },
  {
   "cell_type": "markdown",
   "metadata": {},
   "source": [
    "Si l'on souhaite modifié la variable `texte` de façon définitive, on peut écrire :"
   ]
  },
  {
   "cell_type": "code",
   "execution_count": 75,
   "metadata": {},
   "outputs": [
    {
     "name": "stdout",
     "output_type": "stream",
     "text": [
      "Je m'appelle Thomas et j'ai 20 ans.\n"
     ]
    }
   ],
   "source": [
    "texte = texte.format(prenom=\"Thomas\",age=20)\n",
    "print(texte)"
   ]
  },
  {
   "cell_type": "markdown",
   "metadata": {},
   "source": [
    "------\n",
    "\n",
    "## Exercice 1 : Tableaux périodiques\n",
    "\n",
    "Atomes = [[\"Fer\",26],[\"Ag\",47],[\"Ca\",20],[\"Al\",13],[\"Ne\",10],[\"O\",8],[\"Au\",79]]\n",
    "\n",
    "1) Ecrire un programme qui parcourt la liste précédente et affiche pour chaque élément :\n",
    "\n",
    "    \"L'élément XXX a pour numéro atomique YYY.\".\n",
    "\n",
    "2) Modifier ce programme pour que le texte affiché soit maintenant sauvegardé dans un fichier."
   ]
  },
  {
   "cell_type": "code",
   "execution_count": null,
   "metadata": {},
   "outputs": [],
   "source": []
  },
  {
   "cell_type": "code",
   "execution_count": 90,
   "metadata": {},
   "outputs": [],
   "source": [
    "import pickle"
   ]
  },
  {
   "cell_type": "code",
   "execution_count": 117,
   "metadata": {},
   "outputs": [],
   "source": [
    "fichier = open(\"fichiers/data\",\"wb\")\n",
    "\n",
    "Atomes = [[\"Fer\",26],[\"Ag\",47],[\"Ca\",20],[\"Al\",13],[\"Ne\",10],[\"O\",8],[\"Au\",79]]\n",
    "Nombre = [1,2,3,4]\n",
    "\n",
    "pickle.dump(Atomes,fichier)\n",
    "pickle.dump(Nombre,fichier)\n",
    "\n",
    "fichier.close()"
   ]
  },
  {
   "cell_type": "code",
   "execution_count": 119,
   "metadata": {},
   "outputs": [
    {
     "name": "stdout",
     "output_type": "stream",
     "text": [
      "[['Fer', 26], ['Ag', 47], ['Ca', 20], ['Al', 13], ['Ne', 10], ['O', 8], ['Au', 79]]\n",
      "[1, 2, 3, 4]\n"
     ]
    }
   ],
   "source": [
    "fichier = open(\"fichiers/data\",\"rb\")\n",
    "\n",
    "Atomes = pickle.load(fichier)\n",
    "Nombre = pickle.load(fichier)\n",
    "\n",
    "pick = pickle.Unpickler(fichier)\n",
    "\n",
    "print(Atomes)\n",
    "print(Nombre)\n"
   ]
  },
  {
   "cell_type": "code",
   "execution_count": null,
   "metadata": {},
   "outputs": [],
   "source": []
  }
 ],
 "metadata": {
  "kernelspec": {
   "display_name": "Python 3",
   "language": "python",
   "name": "python3"
  },
  "language_info": {
   "codemirror_mode": {
    "name": "ipython",
    "version": 3
   },
   "file_extension": ".py",
   "mimetype": "text/x-python",
   "name": "python",
   "nbconvert_exporter": "python",
   "pygments_lexer": "ipython3",
   "version": "3.6.6"
  }
 },
 "nbformat": 4,
 "nbformat_minor": 2
}
